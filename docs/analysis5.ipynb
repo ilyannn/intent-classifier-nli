{
 "cells": [
  {
   "cell_type": "markdown",
   "source": [
    "### Import previous work"
   ],
   "metadata": {
    "collapsed": false
   },
   "id": "33a0d459a8a0e071"
  },
  {
   "cell_type": "markdown",
   "source": [
    "Import from our main project and also import the `reload` method if we decide to hot-reload a module\n"
   ],
   "metadata": {
    "collapsed": false
   },
   "id": "773a79fef4228d3f"
  },
  {
   "cell_type": "code",
   "outputs": [],
   "source": [
    "import os.path\n",
    "import sys\n",
    "\n",
    "from datasets import Dataset\n",
    "\n",
    "sys.path.extend(['../server', '../client'])\n",
    "\n",
    "import benchmark \n",
    "format_f1_scores = benchmark.format_f1_scores\n",
    "f1_scores = benchmark.f1_scores\n",
    "\n",
    "from importlib import reload"
   ],
   "metadata": {
    "collapsed": true,
    "ExecuteTime": {
     "end_time": "2024-02-04T20:08:25.036828300Z",
     "start_time": "2024-02-04T20:08:24.835869500Z"
    }
   },
   "id": "initial_id",
   "execution_count": 1
  },
  {
   "cell_type": "markdown",
   "source": [
    "Perform training on GPU"
   ],
   "metadata": {
    "collapsed": false
   },
   "id": "c26b1d42ee774bd3"
  },
  {
   "cell_type": "code",
   "outputs": [],
   "source": [
    "import torch \n",
    "device = torch.device(\"cuda\")"
   ],
   "metadata": {
    "collapsed": false,
    "ExecuteTime": {
     "end_time": "2024-02-04T20:08:34.666071Z",
     "start_time": "2024-02-04T20:08:33.321576Z"
    }
   },
   "id": "fbb73883ff33f359",
   "execution_count": 2
  },
  {
   "cell_type": "markdown",
   "source": [
    "Import data:"
   ],
   "metadata": {
    "collapsed": false
   },
   "id": "b3a47d5953b28c68"
  },
  {
   "cell_type": "code",
   "outputs": [],
   "source": [
    "import csv\n",
    "from collections import defaultdict\n",
    "\n",
    "from sklearn import metrics\n",
    "from sklearn.model_selection import train_test_split\n",
    "\n",
    "from random import sample\n",
    "\n",
    "SEED = 1337\n",
    "\n",
    "with open('../data/atis/train.tsv', 'rt') as f:\n",
    "    reader = csv.reader(f, delimiter='\\t')\n",
    "    data = list(reader)\n",
    "    data_x = [row[0] for row in data]\n",
    "    data_y = [row[1] for row in data]\n",
    "\n",
    "data_x_train, data_x_val, data_y_train, data_y_val = train_test_split(data_x, data_y, test_size=0.2, random_state=SEED)\n",
    "\n",
    "def val_accuracy(f):\n",
    "    print(metrics.accuracy_score(data_y_val, f(data_x_val)))\n",
    "\n",
    "data_x_words = sorted({w for x in data_x_train for w in x.split(' ')})\n",
    "\n",
    "by_label = defaultdict(list)\n",
    "for x, y in zip(data_x_train, data_y_train):\n",
    "    by_label[y].append(x)\n",
    "labels = set(by_label)\n",
    "base_labels = sorted({l for label in labels for l in label.split('+')})\n",
    "\n",
    "sample_20 = sample(range(len(data_x_train)), 20)\n",
    "\n",
    "SCORE_DATA = { \n",
    "    \"train\": (data_x_train, data_y_train), \n",
    "    \"val\": (data_x_val, data_y_val),\n",
    "    \"20\": ([data_x_train[i] for i in sample_20], [data_y_train[i] for i in sample_20])\n",
    "}\n",
    "\n",
    "def confusion(model, on_data : tuple[list[str], list[str]]):\n",
    "    cm = defaultdict(lambda: defaultdict(int))\n",
    "    for x, y in zip(*on_data):\n",
    "        cm[y][model(x)] += 1\n",
    "    return cm\n",
    "\n",
    "def print_f1_scores(model, data_key=\"train\"):\n",
    "    print(format_f1_scores(f1_scores(confusion(model, SCORE_DATA[data_key]))))"
   ],
   "metadata": {
    "collapsed": false,
    "ExecuteTime": {
     "end_time": "2024-02-04T20:13:11.656939100Z",
     "start_time": "2024-02-04T20:13:10.791002900Z"
    }
   },
   "id": "e40c2c60b8408905",
   "execution_count": 3
  },
  {
   "cell_type": "markdown",
   "source": [
    "Here are the hypotheses we prepared last time:"
   ],
   "metadata": {
    "collapsed": false
   },
   "id": "ae706206a609f3f7"
  },
  {
   "cell_type": "code",
   "outputs": [],
   "source": [
    "base_hypotheses = [\n",
    "    'This example asks to explain an abbreviation',\n",
    "    'This example asks a question about an aircraft type',\n",
    "    'This example asks about the cost of a flight ticket',\n",
    "    'This example asks for a list of airlines',\n",
    "    'This example asks for an airport name',\n",
    "    'This example asks about the seating capacity of a plane',\n",
    "    'This example asks about the cheapest fare in the database',\n",
    "    'This example asks for a city name',\n",
    "    'This example asks about the distance between two points',\n",
    "    'This example asks to find flights',\n",
    "    'This example asks to provide a flight number',\n",
    "    'This example asks to provide a flight time',\n",
    "    'This example asks for a rental car or taxi price',\n",
    "    'This example asks for ground transportation options',\n",
    "    'This example asks about available meal choice of the flight',\n",
    "    'This example asks to provide a quantity as an answer',\n",
    "    'This example asks about a restriction',   \n",
    "]\n",
    "\n",
    "assert len(base_hypotheses) == len(base_labels)"
   ],
   "metadata": {
    "collapsed": false,
    "ExecuteTime": {
     "end_time": "2024-02-04T20:13:55.891165300Z",
     "start_time": "2024-02-04T20:13:55.864632800Z"
    }
   },
   "id": "f029c85a7d63f8ca",
   "execution_count": 4
  },
  {
   "cell_type": "markdown",
   "source": [
    "Test that we an use the Trainer:"
   ],
   "metadata": {
    "collapsed": false
   },
   "id": "ef60f73d8ddee671"
  },
  {
   "cell_type": "code",
   "outputs": [],
   "source": [
    "from transformers import Trainer, TrainingArguments, AutoTokenizer, AutoModelForSequenceClassification"
   ],
   "metadata": {
    "collapsed": false,
    "ExecuteTime": {
     "end_time": "2024-02-04T20:17:12.082762500Z",
     "start_time": "2024-02-04T20:17:12.046623600Z"
    }
   },
   "id": "a4437ede4a4fb472",
   "execution_count": 8
  },
  {
   "cell_type": "markdown",
   "source": [
    "Let's load our models:"
   ],
   "metadata": {
    "collapsed": false
   },
   "id": "c7c54927e10ad5d2"
  },
  {
   "cell_type": "code",
   "outputs": [],
   "source": [
    "tr_model_names = [\n",
    "    \"MoritzLaurer/xtremedistil-l6-h256-zeroshot-v1.1-all-33\", \n",
    "    \"pszemraj/xtremedistil-l12-h384-uncased-zeroshot-v1.1\",\n",
    "    \"MoritzLaurer/multilingual-MiniLMv2-L6-mnli-xnli\", # 100m parameters\n",
    "    \"MoritzLaurer/DeBERTa-v3-base-mnli-fever-anli\", # 200m parameters\n",
    "    \"facebook/bart-large-mnli\", # 400m parameters\n",
    "    ]\n",
    "\n",
    "auto_models = [AutoModelForSequenceClassification.from_pretrained(n) for n in tr_model_names]\n",
    "auto_tokenizers = [AutoTokenizer.from_pretrained(n) for n in tr_model_names]\n"
   ],
   "metadata": {
    "collapsed": false,
    "ExecuteTime": {
     "end_time": "2024-02-04T20:17:23.975504900Z",
     "start_time": "2024-02-04T20:17:16.737712900Z"
    }
   },
   "id": "6137f35c2ed8a818",
   "execution_count": 9
  },
  {
   "cell_type": "markdown",
   "source": [
    "and our finetuning data:"
   ],
   "metadata": {
    "collapsed": false
   },
   "id": "d4fb74889f438627"
  },
  {
   "cell_type": "code",
   "outputs": [
    {
     "data": {
      "text/plain": "(100000, 18576)"
     },
     "execution_count": 42,
     "metadata": {},
     "output_type": "execute_result"
    }
   ],
   "source": [
    "base_hypotheses_by_label = dict(zip(base_labels, base_hypotheses))\n",
    "\n",
    "def balanced_positive_negative_examples(sentence, label):\n",
    "    positive_labels = label.split('+')\n",
    "    negative_labels = set(base_labels).difference(positive_labels)\n",
    "    factor = len(negative_labels) // len(positive_labels)\n",
    "\n",
    "    for i in range(factor):\n",
    "        for l in positive_labels:\n",
    "            yield sentence, base_hypotheses_by_label[l], True\n",
    "            \n",
    "    for l in negative_labels:\n",
    "        yield sentence, base_hypotheses_by_label[l], False\n",
    "        \n",
    "all_finetune_examples: list[tuple[str, str, bool]] = [\n",
    "    example \n",
    "    for sentence, label in zip(*SCORE_DATA[\"train\"])\n",
    "    for example in balanced_positive_negative_examples(sentence, label)\n",
    "]\n",
    "\n",
    "train_finetune_examples, eval_finetune_examples = train_test_split(all_finetune_examples, \n",
    "                                                                   random_state=SEED, \n",
    "                                                                   train_size=10**5)\n",
    "len(train_finetune_examples), len(eval_finetune_examples)"
   ],
   "metadata": {
    "collapsed": false,
    "ExecuteTime": {
     "end_time": "2024-02-04T21:03:56.817209Z",
     "start_time": "2024-02-04T21:03:56.711536600Z"
    }
   },
   "id": "c4c08beded9738fa",
   "execution_count": 42
  },
  {
   "cell_type": "markdown",
   "source": [
    "### Implement datasets"
   ],
   "metadata": {
    "collapsed": false
   },
   "id": "f48677c08cb934b4"
  },
  {
   "cell_type": "code",
   "outputs": [],
   "source": [
    "from datasets import Dataset\n",
    "\n",
    "def to_arrow_dataset(examples: list[str, str, bool]):\n",
    "    return Dataset.from_dict({\n",
    "        'sentence' : [ex[0] for ex in examples], \n",
    "        'hypothesis': [ex[1] for ex in examples],\n",
    "        'correct': [ex[2] for ex in examples],\n",
    "    })\n",
    "\n",
    "train_finetune_dataset, eval_finetune_dataset = map(to_arrow_dataset, (train_finetune_examples, eval_finetune_examples))"
   ],
   "metadata": {
    "collapsed": false,
    "ExecuteTime": {
     "end_time": "2024-02-04T21:04:24.139176300Z",
     "start_time": "2024-02-04T21:04:24.042735300Z"
    }
   },
   "id": "855a9d1f6444dc31",
   "execution_count": 44
  },
  {
   "cell_type": "markdown",
   "source": [
    "Here's our EntailmentClassifier:"
   ],
   "metadata": {
    "collapsed": false
   },
   "id": "1dc3f864dee6592b"
  },
  {
   "cell_type": "code",
   "outputs": [],
   "source": [
    "from datasets import Dataset\n",
    "\n",
    "\n",
    "class EntailmentClassifier:\n",
    "    def __init__(self, model_index, device=device):\n",
    "        self.device = device\n",
    "        self.tokenizer = auto_tokenizers[model_index]\n",
    "        self.model = auto_models[model_index].to(self.device)\n",
    "        self.entailment_label_id = next(ix for ix, v in self.model.config.id2label.items() if v == \"entailment\")\n",
    "\n",
    "    def _simple_classify(self, sentence):\n",
    "        def gen():\n",
    "            for t, l in zip(base_hypotheses, base_labels):\n",
    "                tokenized_sentence = self.tokenizer.tokenize([sentence, t], add_special_tokens=True)\n",
    "                input_ids = self.tokenizer.encode([sentence, t], \n",
    "                                                  add_special_tokens=True, \n",
    "                                                  return_tensors='pt'\n",
    "                                                  ).to(self.device)\n",
    "                logits = self.model(input_ids)[0][0]\n",
    "                probs = logits.softmax(dim=0)\n",
    "                entail_prob = probs[self.entailment_label_id].item()\n",
    "                yield entail_prob, l\n",
    "\n",
    "        return sorted(list(gen()), reverse=True)\n",
    "\n",
    "    def classify(self, sentence):\n",
    "        input_ids = self.tokenizer.batch_encode_plus(\n",
    "                                    [[sentence, t] for t in base_hypotheses], \n",
    "                                   add_special_tokens=True, \n",
    "                                   padding=True,\n",
    "                                   truncation=True,\n",
    "                                   return_tensors='pt').to(self.device)\n",
    "        logits = self.model(**input_ids)['logits'][:, self.entailment_label_id]\n",
    "        probs = logits.softmax(dim=0).tolist()\n",
    "    \n",
    "        assert len(probs) == len(base_hypotheses) == len(base_labels)\n",
    "        return sorted(zip(probs, base_labels), reverse=True)\n",
    "    \n",
    "    def as_input_data(self, dataset: Dataset, max_examples=None):\n",
    "            def tokenize_function(batch):\n",
    "                assert self.entailment_label_id in {0, 1}\n",
    "                \n",
    "                def as_entailment_label(value: bool):\n",
    "                    if value:\n",
    "                        return self.entailment_label_id\n",
    "                    else:\n",
    "                        return 1 - self.entailment_label_id\n",
    "                \n",
    "                input_batch = self.tokenizer.batch_encode_plus(    \n",
    "                        [(s, h) for s, h in zip(batch['sentence'], batch['hypothesis'])],\n",
    "                        add_special_tokens=True, \n",
    "                        padding=True,\n",
    "                        truncation=True,\n",
    "                        return_tensors='pt'\n",
    "                    ).to(self.device)\n",
    "                \n",
    "                input_batch['labels'] = torch.tensor([as_entailment_label(c) for c in batch['correct']]\n",
    "                                                     ).to(self.device)\n",
    "                input_batch['input_sentences'] = self.tokenizer.batch_decode(input_batch['input_ids'])\n",
    "                \n",
    "                return input_batch\n",
    "\n",
    "            if max_examples is not None:\n",
    "                dataset = dataset.select(range(max_examples))\n",
    "\n",
    "            return dataset.map(tokenize_function, batched=True, remove_columns=['sentence', 'hypothesis', 'correct'])\n",
    "    \n",
    "    def create_finetune_trainer(self, args: TrainingArguments, max_examples=None, compute_metrics=None) -> Trainer:\n",
    "        train_d = self.as_input_data(train_finetune_dataset, max_examples=max_examples)\n",
    "        eval_d = self.as_input_data(eval_finetune_dataset, max_examples=max_examples)\n",
    "        return Trainer(\n",
    "            model = self.model,\n",
    "            args = args,\n",
    "            compute_metrics=compute_metrics,\n",
    "            train_dataset = train_d,\n",
    "            eval_dataset = eval_d,\n",
    "            tokenizer = self.tokenizer,\n",
    "        )\n",
    "    \n",
    "e, e1 = map(EntailmentClassifier, range(0,2))"
   ],
   "metadata": {
    "collapsed": false,
    "ExecuteTime": {
     "end_time": "2024-02-04T21:20:44.504290200Z",
     "start_time": "2024-02-04T21:20:44.459840400Z"
    }
   },
   "id": "6dafac30f441ea5e",
   "execution_count": 68
  },
  {
   "cell_type": "markdown",
   "source": [
    "Create the ec models and verify that they work the same as last time:"
   ],
   "metadata": {
    "collapsed": false
   },
   "id": "8ac996da2ed8094b"
  },
  {
   "cell_type": "code",
   "outputs": [
    {
     "name": "stdout",
     "output_type": "stream",
     "text": [
      "i would like to fly from denver to pittsburgh on the cheapest flight possible\n",
      "    0.15 airfare\n",
      "    0.13 cheapest\n",
      "    0.13 airline\n",
      "    0.11 city\n",
      "  * 0.10 flight\n",
      "    0.07 abbreviation\n",
      "    0.06 flight_no\n",
      "    0.06 flight_time\n",
      "    0.05 quantity\n",
      "    0.04 distance\n",
      "    0.03 airport\n",
      "    0.03 aircraft\n",
      "    0.02 ground_service\n",
      "    0.01 restriction\n",
      "    0.01 capacity\n",
      "    0.01 ground_fare\n",
      "    0.00 meal\n",
      "show me all flights arriving at dallas\n",
      "  * 0.23 flight\n",
      "    0.21 airline\n",
      "    0.13 flight_time\n",
      "    0.13 aircraft\n",
      "    0.10 flight_no\n",
      "    0.04 airport\n",
      "    0.03 ground_service\n",
      "    0.03 abbreviation\n",
      "    0.02 quantity\n",
      "    0.02 city\n",
      "    0.01 restriction\n",
      "    0.01 airfare\n",
      "    0.01 capacity\n",
      "    0.01 distance\n",
      "    0.00 cheapest\n",
      "    0.00 meal\n",
      "    0.00 ground_fare\n",
      "i need a flight from st. petersburg to miami for thursday\n",
      "    0.19 flight_time\n",
      "    0.15 ground_service\n",
      "    0.12 flight_no\n",
      "  * 0.10 flight\n",
      "    0.10 distance\n",
      "    0.09 restriction\n",
      "    0.05 airport\n",
      "    0.05 city\n",
      "    0.03 capacity\n",
      "    0.03 abbreviation\n",
      "    0.03 aircraft\n",
      "    0.03 airfare\n",
      "    0.02 airline\n",
      "    0.02 quantity\n",
      "    0.01 meal\n",
      "    0.01 ground_fare\n",
      "    0.00 cheapest\n",
      "i want the flights from denver to pittsburgh\n",
      "    0.19 flight_no\n",
      "  * 0.18 flight\n",
      "    0.13 aircraft\n",
      "    0.09 flight_time\n",
      "    0.08 city\n",
      "    0.07 abbreviation\n",
      "    0.05 distance\n",
      "    0.04 airline\n",
      "    0.03 airfare\n",
      "    0.03 quantity\n",
      "    0.03 airport\n",
      "    0.03 restriction\n",
      "    0.03 ground_service\n",
      "    0.01 cheapest\n",
      "    0.01 capacity\n",
      "    0.00 meal\n",
      "    0.00 ground_fare\n",
      "show me the flights from denver to las vegas\n",
      "    0.26 flight_time\n",
      "  * 0.16 flight\n",
      "    0.15 flight_no\n",
      "    0.11 airline\n",
      "    0.07 distance\n",
      "    0.06 aircraft\n",
      "    0.05 city\n",
      "    0.04 abbreviation\n",
      "    0.03 quantity\n",
      "    0.02 ground_service\n",
      "    0.02 airport\n",
      "    0.01 airfare\n",
      "    0.01 restriction\n",
      "    0.01 capacity\n",
      "    0.00 ground_fare\n",
      "    0.00 meal\n",
      "    0.00 cheapest\n",
      "show me the flights from baltimore to dallas\n",
      "  * 0.24 flight\n",
      "    0.16 flight_no\n",
      "    0.12 flight_time\n",
      "    0.07 aircraft\n",
      "    0.07 airline\n",
      "    0.07 distance\n",
      "    0.06 airport\n",
      "    0.05 city\n",
      "    0.04 quantity\n",
      "    0.03 ground_service\n",
      "    0.03 abbreviation\n",
      "    0.02 airfare\n",
      "    0.01 restriction\n",
      "    0.00 cheapest\n",
      "    0.00 capacity\n",
      "    0.00 ground_fare\n",
      "    0.00 meal\n",
      "i need to fly from atlanta to charlotte north carolina next monday\n",
      "  * 0.20 flight\n",
      "    0.13 flight_no\n",
      "    0.13 aircraft\n",
      "    0.12 flight_time\n",
      "    0.09 restriction\n",
      "    0.08 distance\n",
      "    0.08 airport\n",
      "    0.04 city\n",
      "    0.03 ground_service\n",
      "    0.03 abbreviation\n",
      "    0.02 quantity\n",
      "    0.02 airline\n",
      "    0.02 airfare\n",
      "    0.01 capacity\n",
      "    0.00 ground_fare\n",
      "    0.00 cheapest\n",
      "    0.00 meal\n",
      "information on ground transportation from airport to downtown boston\n",
      "  * 0.59 ground_service\n",
      "    0.12 quantity\n",
      "    0.08 airport\n",
      "    0.04 city\n",
      "    0.03 abbreviation\n",
      "    0.03 ground_fare\n",
      "    0.03 distance\n",
      "    0.02 flight_no\n",
      "    0.01 restriction\n",
      "    0.01 aircraft\n",
      "    0.01 flight_time\n",
      "    0.01 airfare\n",
      "    0.01 flight\n",
      "    0.01 capacity\n",
      "    0.01 cheapest\n",
      "    0.01 meal\n",
      "    0.01 airline\n",
      "what cities are served by canadian airlines international\n",
      "    0.20 airline\n",
      "    0.17 quantity\n",
      "    0.15 flight\n",
      "    0.13 abbreviation\n",
      "  * 0.10 city\n",
      "    0.08 ground_service\n",
      "    0.05 aircraft\n",
      "    0.03 restriction\n",
      "    0.02 flight_no\n",
      "    0.02 airport\n",
      "    0.01 flight_time\n",
      "    0.01 capacity\n",
      "    0.01 distance\n",
      "    0.01 ground_fare\n",
      "    0.01 airfare\n",
      "    0.01 meal\n",
      "    0.00 cheapest\n",
      "what flights are available wednesday morning from boston to denver\n",
      "  * 0.21 flight\n",
      "    0.14 flight_time\n",
      "    0.13 airline\n",
      "    0.09 flight_no\n",
      "    0.09 aircraft\n",
      "    0.08 abbreviation\n",
      "    0.07 ground_service\n",
      "    0.04 quantity\n",
      "    0.04 airport\n",
      "    0.03 distance\n",
      "    0.02 airfare\n",
      "    0.02 city\n",
      "    0.01 restriction\n",
      "    0.00 cheapest\n",
      "    0.00 meal\n",
      "    0.00 capacity\n",
      "    0.00 ground_fare\n",
      "i would like your rates between atlanta and boston on september third\n",
      "    0.21 quantity\n",
      "    0.15 distance\n",
      "    0.11 city\n",
      "    0.10 ground_service\n",
      "    0.09 restriction\n",
      "    0.08 abbreviation\n",
      "    0.05 airline\n",
      "    0.05 airport\n",
      "    0.03 cheapest\n",
      "    0.03 ground_fare\n",
      "    0.03 aircraft\n",
      "    0.02 flight_no\n",
      "  * 0.02 airfare\n",
      "    0.01 flight\n",
      "    0.01 flight_time\n",
      "    0.01 capacity\n",
      "    0.01 meal\n",
      "find the cheapest one way fare from boston to oakland\n",
      "    0.14 distance\n",
      "    0.13 cheapest\n",
      "    0.12 ground_service\n",
      "    0.11 flight\n",
      "    0.10 city\n",
      "    0.09 quantity\n",
      "    0.08 abbreviation\n",
      "    0.08 ground_fare\n",
      "  * 0.04 airfare\n",
      "    0.02 airport\n",
      "    0.02 airline\n",
      "    0.02 flight_no\n",
      "    0.01 aircraft\n",
      "    0.01 restriction\n",
      "    0.01 flight_time\n",
      "    0.01 meal\n",
      "    0.00 capacity\n",
      "how many us air flights leave from washington\n",
      "    0.21 aircraft\n",
      "  * 0.21 quantity\n",
      "    0.18 airline\n",
      "    0.11 flight_no\n",
      "    0.07 flight\n",
      "    0.04 flight_time\n",
      "    0.04 restriction\n",
      "    0.04 abbreviation\n",
      "    0.03 distance\n",
      "    0.02 city\n",
      "    0.02 airport\n",
      "    0.01 ground_service\n",
      "    0.01 airfare\n",
      "    0.00 cheapest\n",
      "    0.00 capacity\n",
      "    0.00 meal\n",
      "    0.00 ground_fare\n",
      "i 'd like information on boston to washington\n",
      "    0.33 city\n",
      "    0.22 abbreviation\n",
      "    0.13 quantity\n",
      "    0.12 ground_service\n",
      "    0.06 aircraft\n",
      "    0.03 distance\n",
      "    0.02 airport\n",
      "    0.02 flight_no\n",
      "    0.01 restriction\n",
      "    0.01 airline\n",
      "    0.01 flight_time\n",
      "  * 0.01 flight\n",
      "    0.01 cheapest\n",
      "    0.01 ground_fare\n",
      "    0.01 capacity\n",
      "    0.01 airfare\n",
      "    0.01 meal\n",
      "are there delta flights leaving atlanta\n",
      "    0.19 aircraft\n",
      "    0.16 flight_no\n",
      "    0.13 airline\n",
      "    0.07 flight_time\n",
      "    0.06 ground_service\n",
      "  * 0.06 flight\n",
      "    0.06 restriction\n",
      "    0.06 quantity\n",
      "    0.05 abbreviation\n",
      "    0.05 distance\n",
      "    0.04 city\n",
      "    0.02 airport\n",
      "    0.02 airfare\n",
      "    0.00 cheapest\n",
      "    0.00 capacity\n",
      "    0.00 meal\n",
      "    0.00 ground_fare\n",
      "ground transport denver\n",
      "  * 0.64 ground_service\n",
      "    0.08 city\n",
      "    0.06 abbreviation\n",
      "    0.04 ground_fare\n",
      "    0.04 restriction\n",
      "    0.02 quantity\n",
      "    0.01 distance\n",
      "    0.01 airline\n",
      "    0.01 flight_time\n",
      "    0.01 flight\n",
      "    0.01 flight_no\n",
      "    0.01 aircraft\n",
      "    0.01 airport\n",
      "    0.01 capacity\n",
      "    0.01 meal\n",
      "    0.01 cheapest\n",
      "    0.01 airfare\n",
      "list the earliest flights from st. paul to san jose\n",
      "    0.26 flight_no\n",
      "  * 0.26 flight\n",
      "    0.13 aircraft\n",
      "    0.07 quantity\n",
      "    0.06 airline\n",
      "    0.06 abbreviation\n",
      "    0.03 distance\n",
      "    0.03 airport\n",
      "    0.03 city\n",
      "    0.03 flight_time\n",
      "    0.01 restriction\n",
      "    0.01 ground_service\n",
      "    0.01 airfare\n",
      "    0.00 capacity\n",
      "    0.00 cheapest\n",
      "    0.00 ground_fare\n",
      "    0.00 meal\n",
      "all am flights departing pittsburgh arriving denver\n",
      "    0.17 flight_time\n",
      "    0.15 airline\n",
      "    0.14 aircraft\n",
      "    0.13 city\n",
      "    0.08 flight_no\n",
      "    0.07 quantity\n",
      "    0.06 ground_service\n",
      "    0.05 abbreviation\n",
      "    0.04 restriction\n",
      "    0.04 airport\n",
      "  * 0.03 flight\n",
      "    0.01 airfare\n",
      "    0.01 distance\n",
      "    0.01 capacity\n",
      "    0.01 cheapest\n",
      "    0.00 meal\n",
      "    0.00 ground_fare\n",
      "show me ground transport in seattle\n",
      "  * 0.67 ground_service\n",
      "    0.13 city\n",
      "    0.04 ground_fare\n",
      "    0.04 abbreviation\n",
      "    0.03 quantity\n",
      "    0.02 restriction\n",
      "    0.01 airline\n",
      "    0.01 distance\n",
      "    0.01 airport\n",
      "    0.01 aircraft\n",
      "    0.01 capacity\n",
      "    0.01 flight_no\n",
      "    0.01 airfare\n",
      "    0.00 cheapest\n",
      "    0.00 meal\n",
      "    0.00 flight_time\n",
      "    0.00 flight\n",
      "what flights are available from denver to philadelphia with stopover in pittsburgh\n",
      "  * 0.18 flight\n",
      "    0.18 ground_service\n",
      "    0.12 airline\n",
      "    0.10 aircraft\n",
      "    0.08 city\n",
      "    0.07 flight_time\n",
      "    0.06 abbreviation\n",
      "    0.05 flight_no\n",
      "    0.05 airport\n",
      "    0.03 distance\n",
      "    0.03 quantity\n",
      "    0.02 airfare\n",
      "    0.02 restriction\n",
      "    0.01 meal\n",
      "    0.01 capacity\n",
      "    0.00 cheapest\n",
      "    0.00 ground_fare\n"
     ]
    }
   ],
   "source": [
    "for sentence, answer in zip(SCORE_DATA[\"20\"][0], SCORE_DATA[\"20\"][1]):\n",
    "    print(sentence)\n",
    "    for v, label in e1.classify(sentence):\n",
    "        print(\" \", \"*\" if label == answer else \" \", f\"{v:0.2f} {label}\")"
   ],
   "metadata": {
    "collapsed": false,
    "ExecuteTime": {
     "end_time": "2024-02-04T21:14:04.025898300Z",
     "start_time": "2024-02-04T21:14:03.398553200Z"
    }
   },
   "id": "b1fd02cbcaba2c0c",
   "execution_count": 57
  },
  {
   "cell_type": "code",
   "outputs": [
    {
     "data": {
      "text/plain": "{'sentence': ['what does ground transportation look like in oakland',\n  \"hello i 'm trying to find a flight that goes from pittsburgh to denver after 2 pm\",\n  'how much does it cost to fly on american from dallas to baltimore',\n  'how much does flight ua 281 from boston to denver cost',\n  'what is the least expensive business class flight between atlanta and dallas'],\n 'hypothesis': ['This example asks for a list of airlines',\n  'This example asks to find flights',\n  'This example asks about the cost of a flight ticket',\n  'This example asks about the cost of a flight ticket',\n  'This example asks to explain an abbreviation'],\n 'correct': [False, True, True, True, False]}"
     },
     "execution_count": 55,
     "metadata": {},
     "output_type": "execute_result"
    }
   ],
   "source": [
    "train_finetune_dataset[0:5]"
   ],
   "metadata": {
    "collapsed": false,
    "ExecuteTime": {
     "end_time": "2024-02-04T21:12:40.275021600Z",
     "start_time": "2024-02-04T21:12:40.209362900Z"
    }
   },
   "id": "30fb5b47a447ea78",
   "execution_count": 55
  },
  {
   "cell_type": "code",
   "outputs": [
    {
     "data": {
      "text/plain": "Map:   0%|          | 0/5 [00:00<?, ? examples/s]",
      "application/vnd.jupyter.widget-view+json": {
       "version_major": 2,
       "version_minor": 0,
       "model_id": "604ea139562b42f6ac0b83f74f54dbfa"
      }
     },
     "metadata": {},
     "output_type": "display_data"
    },
    {
     "data": {
      "text/plain": "Dataset({\n    features: ['input_ids', 'token_type_ids', 'attention_mask', 'labels', 'input_sentences'],\n    num_rows: 5\n})"
     },
     "execution_count": 69,
     "metadata": {},
     "output_type": "execute_result"
    }
   ],
   "source": [
    "e1.as_input_data(train_finetune_dataset, max_examples=5)"
   ],
   "metadata": {
    "collapsed": false,
    "ExecuteTime": {
     "end_time": "2024-02-04T21:20:53.710965300Z",
     "start_time": "2024-02-04T21:20:48.018777700Z"
    }
   },
   "id": "d897c4f51f3fe3bc",
   "execution_count": 69
  },
  {
   "cell_type": "code",
   "outputs": [
    {
     "data": {
      "text/plain": "['[CLS] what does ground transportation look like in oakland [SEP] this example asks for a list of airlines [SEP] [PAD] [PAD] [PAD] [PAD] [PAD] [PAD] [PAD] [PAD]',\n \"[CLS] hello i'm trying to find a flight that goes from pittsburgh to denver after 2 pm [SEP] this example asks to find flights [SEP]\",\n '[CLS] how much does it cost to fly on american from dallas to baltimore [SEP] this example asks about the cost of a flight ticket [SEP] [PAD]',\n '[CLS] how much does flight ua 281 from boston to denver cost [SEP] this example asks about the cost of a flight ticket [SEP] [PAD] [PAD] [PAD]',\n '[CLS] what is the least expensive business class flight between atlanta and dallas [SEP] this example asks to explain an abbreviation [SEP] [PAD] [PAD] [PAD] [PAD] [PAD]']"
     },
     "execution_count": 70,
     "metadata": {},
     "output_type": "execute_result"
    }
   ],
   "source": [
    "_['input_sentences']"
   ],
   "metadata": {
    "collapsed": false,
    "ExecuteTime": {
     "end_time": "2024-02-04T21:21:12.436178300Z",
     "start_time": "2024-02-04T21:21:12.380772400Z"
    }
   },
   "id": "271e1cc193e0b568",
   "execution_count": 70
  },
  {
   "cell_type": "markdown",
   "source": [
    "### Try a training"
   ],
   "metadata": {
    "collapsed": false
   },
   "id": "f3c87b7354a6451f"
  },
  {
   "cell_type": "code",
   "outputs": [],
   "source": [
    "quick_training_args = TrainingArguments(\n",
    "  output_dir = \"models\",                  # Output directory\n",
    "  num_train_epochs = 1,              # Total number of training epochs\n",
    "  per_device_train_batch_size = 32,  # Batch size per device during training\n",
    "  per_device_eval_batch_size = 256,  # Batch size for evaluation\n",
    "  warmup_steps = 500,                # Number of warmup steps for learning rate scheduler\n",
    "  weight_decay = 0.1,               # Strength of weight decay\n",
    ")\n"
   ],
   "metadata": {
    "collapsed": false,
    "ExecuteTime": {
     "end_time": "2024-02-04T21:42:17.302493700Z",
     "start_time": "2024-02-04T21:42:17.275493900Z"
    }
   },
   "id": "86ccfeaa776dcd58",
   "execution_count": 87
  },
  {
   "cell_type": "code",
   "outputs": [
    {
     "data": {
      "text/plain": "Map:   0%|          | 0/10 [00:00<?, ? examples/s]",
      "application/vnd.jupyter.widget-view+json": {
       "version_major": 2,
       "version_minor": 0,
       "model_id": "770c6afc8cd84a57871f5e5e78adb32f"
      }
     },
     "metadata": {},
     "output_type": "display_data"
    },
    {
     "data": {
      "text/plain": "Map:   0%|          | 0/10 [00:00<?, ? examples/s]",
      "application/vnd.jupyter.widget-view+json": {
       "version_major": 2,
       "version_minor": 0,
       "model_id": "bbae372248714ef4af8385322afa4b52"
      }
     },
     "metadata": {},
     "output_type": "display_data"
    }
   ],
   "source": [
    "qt1 = e1.create_finetune_trainer(quick_training_args, max_examples=10)\n"
   ],
   "metadata": {
    "collapsed": false,
    "ExecuteTime": {
     "end_time": "2024-02-04T21:22:13.055196Z",
     "start_time": "2024-02-04T21:22:02.523948Z"
    }
   },
   "id": "f4b6d582e8a46a33",
   "execution_count": 71
  },
  {
   "cell_type": "code",
   "outputs": [
    {
     "data": {
      "text/plain": "Dataset({\n    features: ['input_ids', 'token_type_ids', 'attention_mask', 'labels', 'input_sentences'],\n    num_rows: 10\n})"
     },
     "execution_count": 72,
     "metadata": {},
     "output_type": "execute_result"
    }
   ],
   "source": [
    "qt1.train_dataset"
   ],
   "metadata": {
    "collapsed": false,
    "ExecuteTime": {
     "end_time": "2024-02-04T21:22:13.056195500Z",
     "start_time": "2024-02-04T21:22:13.038531200Z"
    }
   },
   "id": "1495c3f85b42a",
   "execution_count": 72
  },
  {
   "cell_type": "code",
   "outputs": [
    {
     "data": {
      "text/plain": "<IPython.core.display.HTML object>",
      "text/html": "\n    <div>\n      \n      <progress value='1' max='1' style='width:300px; height:20px; vertical-align: middle;'></progress>\n      [1/1 00:00, Epoch 1/1]\n    </div>\n    <table border=\"1\" class=\"dataframe\">\n  <thead>\n <tr style=\"text-align: left;\">\n      <th>Step</th>\n      <th>Training Loss</th>\n    </tr>\n  </thead>\n  <tbody>\n  </tbody>\n</table><p>"
     },
     "metadata": {},
     "output_type": "display_data"
    },
    {
     "data": {
      "text/plain": "TrainOutput(global_step=1, training_loss=0.7468543648719788, metrics={'train_runtime': 0.3901, 'train_samples_per_second': 25.633, 'train_steps_per_second': 2.563, 'total_flos': 43743609840.0, 'train_loss': 0.7468543648719788, 'epoch': 1.0})"
     },
     "execution_count": 73,
     "metadata": {},
     "output_type": "execute_result"
    }
   ],
   "source": [
    "qt1.train()"
   ],
   "metadata": {
    "collapsed": false,
    "ExecuteTime": {
     "end_time": "2024-02-04T21:22:19.841661300Z",
     "start_time": "2024-02-04T21:22:19.395507300Z"
    }
   },
   "id": "e7aa4728fba01be9",
   "execution_count": 73
  },
  {
   "cell_type": "code",
   "outputs": [
    {
     "data": {
      "text/plain": "Map:   0%|          | 0/100000 [00:00<?, ? examples/s]",
      "application/vnd.jupyter.widget-view+json": {
       "version_major": 2,
       "version_minor": 0,
       "model_id": "289e76ae2a514485bc00f17343e228b3"
      }
     },
     "metadata": {},
     "output_type": "display_data"
    },
    {
     "data": {
      "text/plain": "Map:   0%|          | 0/18576 [00:00<?, ? examples/s]",
      "application/vnd.jupyter.widget-view+json": {
       "version_major": 2,
       "version_minor": 0,
       "model_id": "d8653e5de63a4a84947756e14572382b"
      }
     },
     "metadata": {},
     "output_type": "display_data"
    },
    {
     "data": {
      "text/plain": "<IPython.core.display.HTML object>",
      "text/html": "\n    <div>\n      \n      <progress value='3125' max='3125' style='width:300px; height:20px; vertical-align: middle;'></progress>\n      [3125/3125 02:23, Epoch 1/1]\n    </div>\n    <table border=\"1\" class=\"dataframe\">\n  <thead>\n <tr style=\"text-align: left;\">\n      <th>Step</th>\n      <th>Training Loss</th>\n    </tr>\n  </thead>\n  <tbody>\n    <tr>\n      <td>500</td>\n      <td>0.092300</td>\n    </tr>\n    <tr>\n      <td>1000</td>\n      <td>0.025400</td>\n    </tr>\n    <tr>\n      <td>1500</td>\n      <td>0.015700</td>\n    </tr>\n    <tr>\n      <td>2000</td>\n      <td>0.009900</td>\n    </tr>\n    <tr>\n      <td>2500</td>\n      <td>0.009600</td>\n    </tr>\n    <tr>\n      <td>3000</td>\n      <td>0.007300</td>\n    </tr>\n  </tbody>\n</table><p>"
     },
     "metadata": {},
     "output_type": "display_data"
    },
    {
     "data": {
      "text/plain": "TrainOutput(global_step=3125, training_loss=0.025843038120269776, metrics={'train_runtime': 143.401, 'train_samples_per_second': 697.345, 'train_steps_per_second': 21.792, 'total_flos': 808348973478144.0, 'train_loss': 0.025843038120269776, 'epoch': 1.0})"
     },
     "execution_count": 75,
     "metadata": {},
     "output_type": "execute_result"
    }
   ],
   "source": [
    "qt1 = e1.create_finetune_trainer(quick_training_args)\n",
    "qt1.train()"
   ],
   "metadata": {
    "collapsed": false,
    "ExecuteTime": {
     "end_time": "2024-02-04T21:27:04.586885Z",
     "start_time": "2024-02-04T21:24:15.374029300Z"
    }
   },
   "id": "e2f10791c72b48e0",
   "execution_count": 75
  },
  {
   "cell_type": "code",
   "outputs": [
    {
     "data": {
      "text/plain": "BertForSequenceClassification(\n  (bert): BertModel(\n    (embeddings): BertEmbeddings(\n      (word_embeddings): Embedding(30522, 384, padding_idx=0)\n      (position_embeddings): Embedding(512, 384)\n      (token_type_embeddings): Embedding(2, 384)\n      (LayerNorm): LayerNorm((384,), eps=1e-12, elementwise_affine=True)\n      (dropout): Dropout(p=0.1, inplace=False)\n    )\n    (encoder): BertEncoder(\n      (layer): ModuleList(\n        (0-11): 12 x BertLayer(\n          (attention): BertAttention(\n            (self): BertSelfAttention(\n              (query): Linear(in_features=384, out_features=384, bias=True)\n              (key): Linear(in_features=384, out_features=384, bias=True)\n              (value): Linear(in_features=384, out_features=384, bias=True)\n              (dropout): Dropout(p=0.1, inplace=False)\n            )\n            (output): BertSelfOutput(\n              (dense): Linear(in_features=384, out_features=384, bias=True)\n              (LayerNorm): LayerNorm((384,), eps=1e-12, elementwise_affine=True)\n              (dropout): Dropout(p=0.1, inplace=False)\n            )\n          )\n          (intermediate): BertIntermediate(\n            (dense): Linear(in_features=384, out_features=1536, bias=True)\n            (intermediate_act_fn): GELUActivation()\n          )\n          (output): BertOutput(\n            (dense): Linear(in_features=1536, out_features=384, bias=True)\n            (LayerNorm): LayerNorm((384,), eps=1e-12, elementwise_affine=True)\n            (dropout): Dropout(p=0.1, inplace=False)\n          )\n        )\n      )\n    )\n    (pooler): BertPooler(\n      (dense): Linear(in_features=384, out_features=384, bias=True)\n      (activation): Tanh()\n    )\n  )\n  (dropout): Dropout(p=0.1, inplace=False)\n  (classifier): Linear(in_features=384, out_features=2, bias=True)\n)"
     },
     "execution_count": 76,
     "metadata": {},
     "output_type": "execute_result"
    }
   ],
   "source": [
    "qt1.model"
   ],
   "metadata": {
    "collapsed": false,
    "ExecuteTime": {
     "end_time": "2024-02-04T21:27:22.099659400Z",
     "start_time": "2024-02-04T21:27:22.065867700Z"
    }
   },
   "id": "9a6ae5ab9b338ca9",
   "execution_count": 76
  },
  {
   "cell_type": "code",
   "outputs": [],
   "source": [
    "auto_tokenizers.append(auto_tokenizers[1])\n",
    "auto_models.append(qt1.model)\n",
    "ec_qt1 = EntailmentClassifier(-1)"
   ],
   "metadata": {
    "collapsed": false,
    "ExecuteTime": {
     "end_time": "2024-02-04T21:33:27.408109100Z",
     "start_time": "2024-02-04T21:33:27.362796Z"
    }
   },
   "id": "479bdf342f148cf4",
   "execution_count": 77
  },
  {
   "cell_type": "code",
   "outputs": [
    {
     "name": "stdout",
     "output_type": "stream",
     "text": [
      "i would like to fly from denver to pittsburgh on the cheapest flight possible\n",
      "  * 1.00 flight\n",
      "    0.00 ground_service\n",
      "    0.00 abbreviation\n",
      "    0.00 quantity\n",
      "    0.00 restriction\n",
      "    0.00 distance\n",
      "    0.00 meal\n",
      "    0.00 city\n",
      "    0.00 cheapest\n",
      "    0.00 ground_fare\n",
      "    0.00 airfare\n",
      "    0.00 flight_time\n",
      "    0.00 aircraft\n",
      "    0.00 airline\n",
      "    0.00 airport\n",
      "    0.00 capacity\n",
      "    0.00 flight_no\n",
      "show me all flights arriving at dallas\n",
      "  * 1.00 flight\n",
      "    0.00 abbreviation\n",
      "    0.00 city\n",
      "    0.00 airport\n",
      "    0.00 ground_service\n",
      "    0.00 airfare\n",
      "    0.00 ground_fare\n",
      "    0.00 airline\n",
      "    0.00 aircraft\n",
      "    0.00 meal\n",
      "    0.00 cheapest\n",
      "    0.00 flight_no\n",
      "    0.00 capacity\n",
      "    0.00 restriction\n",
      "    0.00 flight_time\n",
      "    0.00 distance\n",
      "    0.00 quantity\n",
      "i need a flight from st. petersburg to miami for thursday\n",
      "  * 1.00 flight\n",
      "    0.00 airline\n",
      "    0.00 abbreviation\n",
      "    0.00 airport\n",
      "    0.00 city\n",
      "    0.00 flight_no\n",
      "    0.00 distance\n",
      "    0.00 meal\n",
      "    0.00 capacity\n",
      "    0.00 ground_fare\n",
      "    0.00 aircraft\n",
      "    0.00 restriction\n",
      "    0.00 ground_service\n",
      "    0.00 airfare\n",
      "    0.00 quantity\n",
      "    0.00 cheapest\n",
      "    0.00 flight_time\n",
      "i want the flights from denver to pittsburgh\n",
      "  * 1.00 flight\n",
      "    0.00 ground_service\n",
      "    0.00 airport\n",
      "    0.00 quantity\n",
      "    0.00 ground_fare\n",
      "    0.00 city\n",
      "    0.00 flight_no\n",
      "    0.00 cheapest\n",
      "    0.00 aircraft\n",
      "    0.00 airline\n",
      "    0.00 airfare\n",
      "    0.00 capacity\n",
      "    0.00 distance\n",
      "    0.00 meal\n",
      "    0.00 restriction\n",
      "    0.00 flight_time\n",
      "    0.00 abbreviation\n",
      "show me the flights from denver to las vegas\n",
      "  * 1.00 flight\n",
      "    0.00 abbreviation\n",
      "    0.00 airport\n",
      "    0.00 ground_service\n",
      "    0.00 airline\n",
      "    0.00 quantity\n",
      "    0.00 city\n",
      "    0.00 flight_no\n",
      "    0.00 capacity\n",
      "    0.00 ground_fare\n",
      "    0.00 distance\n",
      "    0.00 airfare\n",
      "    0.00 restriction\n",
      "    0.00 aircraft\n",
      "    0.00 meal\n",
      "    0.00 flight_time\n",
      "    0.00 cheapest\n",
      "show me the flights from baltimore to dallas\n",
      "  * 1.00 flight\n",
      "    0.00 city\n",
      "    0.00 abbreviation\n",
      "    0.00 airport\n",
      "    0.00 aircraft\n",
      "    0.00 distance\n",
      "    0.00 ground_service\n",
      "    0.00 airfare\n",
      "    0.00 flight_time\n",
      "    0.00 quantity\n",
      "    0.00 meal\n",
      "    0.00 flight_no\n",
      "    0.00 restriction\n",
      "    0.00 airline\n",
      "    0.00 cheapest\n",
      "    0.00 ground_fare\n",
      "    0.00 capacity\n",
      "i need to fly from atlanta to charlotte north carolina next monday\n",
      "  * 1.00 flight\n",
      "    0.00 restriction\n",
      "    0.00 flight_time\n",
      "    0.00 city\n",
      "    0.00 distance\n",
      "    0.00 quantity\n",
      "    0.00 airport\n",
      "    0.00 abbreviation\n",
      "    0.00 ground_fare\n",
      "    0.00 flight_no\n",
      "    0.00 airfare\n",
      "    0.00 airline\n",
      "    0.00 ground_service\n",
      "    0.00 capacity\n",
      "    0.00 cheapest\n",
      "    0.00 aircraft\n",
      "    0.00 meal\n",
      "information on ground transportation from airport to downtown boston\n",
      "  * 1.00 ground_service\n",
      "    0.00 airport\n",
      "    0.00 ground_fare\n",
      "    0.00 abbreviation\n",
      "    0.00 airline\n",
      "    0.00 flight_time\n",
      "    0.00 flight\n",
      "    0.00 city\n",
      "    0.00 capacity\n",
      "    0.00 aircraft\n",
      "    0.00 distance\n",
      "    0.00 cheapest\n",
      "    0.00 flight_no\n",
      "    0.00 quantity\n",
      "    0.00 airfare\n",
      "    0.00 restriction\n",
      "    0.00 meal\n",
      "what cities are served by canadian airlines international\n",
      "  * 1.00 city\n",
      "    0.00 flight\n",
      "    0.00 ground_service\n",
      "    0.00 airline\n",
      "    0.00 abbreviation\n",
      "    0.00 quantity\n",
      "    0.00 flight_no\n",
      "    0.00 airport\n",
      "    0.00 aircraft\n",
      "    0.00 distance\n",
      "    0.00 restriction\n",
      "    0.00 meal\n",
      "    0.00 ground_fare\n",
      "    0.00 capacity\n",
      "    0.00 airfare\n",
      "    0.00 flight_time\n",
      "    0.00 cheapest\n",
      "what flights are available wednesday morning from boston to denver\n",
      "  * 1.00 flight\n",
      "    0.00 city\n",
      "    0.00 abbreviation\n",
      "    0.00 airport\n",
      "    0.00 cheapest\n",
      "    0.00 restriction\n",
      "    0.00 quantity\n",
      "    0.00 meal\n",
      "    0.00 airfare\n",
      "    0.00 flight_time\n",
      "    0.00 airline\n",
      "    0.00 flight_no\n",
      "    0.00 distance\n",
      "    0.00 capacity\n",
      "    0.00 aircraft\n",
      "    0.00 ground_fare\n",
      "    0.00 ground_service\n",
      "i would like your rates between atlanta and boston on september third\n",
      "  * 1.00 airfare\n",
      "    0.00 ground_fare\n",
      "    0.00 flight\n",
      "    0.00 abbreviation\n",
      "    0.00 city\n",
      "    0.00 flight_time\n",
      "    0.00 airport\n",
      "    0.00 flight_no\n",
      "    0.00 distance\n",
      "    0.00 capacity\n",
      "    0.00 ground_service\n",
      "    0.00 quantity\n",
      "    0.00 aircraft\n",
      "    0.00 meal\n",
      "    0.00 restriction\n",
      "    0.00 cheapest\n",
      "    0.00 airline\n",
      "find the cheapest one way fare from boston to oakland\n",
      "  * 1.00 airfare\n",
      "    0.00 flight\n",
      "    0.00 cheapest\n",
      "    0.00 ground_fare\n",
      "    0.00 flight_no\n",
      "    0.00 distance\n",
      "    0.00 airport\n",
      "    0.00 abbreviation\n",
      "    0.00 ground_service\n",
      "    0.00 airline\n",
      "    0.00 flight_time\n",
      "    0.00 quantity\n",
      "    0.00 capacity\n",
      "    0.00 meal\n",
      "    0.00 aircraft\n",
      "    0.00 city\n",
      "    0.00 restriction\n",
      "how many us air flights leave from washington\n",
      "  * 0.99 quantity\n",
      "    0.00 flight\n",
      "    0.00 capacity\n",
      "    0.00 city\n",
      "    0.00 meal\n",
      "    0.00 distance\n",
      "    0.00 airline\n",
      "    0.00 flight_no\n",
      "    0.00 abbreviation\n",
      "    0.00 ground_fare\n",
      "    0.00 flight_time\n",
      "    0.00 restriction\n",
      "    0.00 airport\n",
      "    0.00 airfare\n",
      "    0.00 ground_service\n",
      "    0.00 aircraft\n",
      "    0.00 cheapest\n",
      "i 'd like information on boston to washington\n",
      "  * 1.00 flight\n",
      "    0.00 city\n",
      "    0.00 airport\n",
      "    0.00 abbreviation\n",
      "    0.00 ground_service\n",
      "    0.00 cheapest\n",
      "    0.00 quantity\n",
      "    0.00 flight_no\n",
      "    0.00 flight_time\n",
      "    0.00 airfare\n",
      "    0.00 ground_fare\n",
      "    0.00 meal\n",
      "    0.00 distance\n",
      "    0.00 airline\n",
      "    0.00 aircraft\n",
      "    0.00 capacity\n",
      "    0.00 restriction\n",
      "are there delta flights leaving atlanta\n",
      "  * 1.00 flight\n",
      "    0.00 city\n",
      "    0.00 abbreviation\n",
      "    0.00 ground_fare\n",
      "    0.00 ground_service\n",
      "    0.00 airport\n",
      "    0.00 airline\n",
      "    0.00 flight_time\n",
      "    0.00 quantity\n",
      "    0.00 capacity\n",
      "    0.00 meal\n",
      "    0.00 aircraft\n",
      "    0.00 cheapest\n",
      "    0.00 distance\n",
      "    0.00 airfare\n",
      "    0.00 flight_no\n",
      "    0.00 restriction\n",
      "ground transport denver\n",
      "  * 1.00 ground_service\n",
      "    0.00 abbreviation\n",
      "    0.00 ground_fare\n",
      "    0.00 restriction\n",
      "    0.00 flight_no\n",
      "    0.00 flight\n",
      "    0.00 airport\n",
      "    0.00 quantity\n",
      "    0.00 meal\n",
      "    0.00 distance\n",
      "    0.00 airfare\n",
      "    0.00 city\n",
      "    0.00 cheapest\n",
      "    0.00 flight_time\n",
      "    0.00 airline\n",
      "    0.00 aircraft\n",
      "    0.00 capacity\n",
      "list the earliest flights from st. paul to san jose\n",
      "  * 1.00 flight\n",
      "    0.00 flight_time\n",
      "    0.00 airport\n",
      "    0.00 distance\n",
      "    0.00 capacity\n",
      "    0.00 city\n",
      "    0.00 airline\n",
      "    0.00 ground_service\n",
      "    0.00 abbreviation\n",
      "    0.00 airfare\n",
      "    0.00 cheapest\n",
      "    0.00 ground_fare\n",
      "    0.00 quantity\n",
      "    0.00 flight_no\n",
      "    0.00 meal\n",
      "    0.00 aircraft\n",
      "    0.00 restriction\n",
      "all am flights departing pittsburgh arriving denver\n",
      "  * 1.00 flight\n",
      "    0.00 city\n",
      "    0.00 airport\n",
      "    0.00 abbreviation\n",
      "    0.00 airfare\n",
      "    0.00 airline\n",
      "    0.00 ground_service\n",
      "    0.00 meal\n",
      "    0.00 ground_fare\n",
      "    0.00 cheapest\n",
      "    0.00 quantity\n",
      "    0.00 restriction\n",
      "    0.00 aircraft\n",
      "    0.00 distance\n",
      "    0.00 flight_time\n",
      "    0.00 capacity\n",
      "    0.00 flight_no\n",
      "show me ground transport in seattle\n",
      "  * 1.00 ground_service\n",
      "    0.00 abbreviation\n",
      "    0.00 ground_fare\n",
      "    0.00 airport\n",
      "    0.00 flight_time\n",
      "    0.00 city\n",
      "    0.00 distance\n",
      "    0.00 restriction\n",
      "    0.00 quantity\n",
      "    0.00 flight\n",
      "    0.00 aircraft\n",
      "    0.00 airfare\n",
      "    0.00 flight_no\n",
      "    0.00 airline\n",
      "    0.00 meal\n",
      "    0.00 capacity\n",
      "    0.00 cheapest\n",
      "what flights are available from denver to philadelphia with stopover in pittsburgh\n",
      "  * 1.00 flight\n",
      "    0.00 city\n",
      "    0.00 ground_service\n",
      "    0.00 flight_time\n",
      "    0.00 distance\n",
      "    0.00 flight_no\n",
      "    0.00 airport\n",
      "    0.00 ground_fare\n",
      "    0.00 cheapest\n",
      "    0.00 airline\n",
      "    0.00 abbreviation\n",
      "    0.00 meal\n",
      "    0.00 aircraft\n",
      "    0.00 capacity\n",
      "    0.00 airfare\n",
      "    0.00 restriction\n",
      "    0.00 quantity\n"
     ]
    }
   ],
   "source": [
    "for sentence, answer in zip(SCORE_DATA[\"20\"][0], SCORE_DATA[\"20\"][1]):\n",
    "    print(sentence)\n",
    "    for v, label in ec_qt1.classify(sentence):\n",
    "        print(\" \", \"*\" if label == answer else \" \", f\"{v:0.2f} {label}\")"
   ],
   "metadata": {
    "collapsed": false,
    "ExecuteTime": {
     "end_time": "2024-02-04T21:33:52.579565300Z",
     "start_time": "2024-02-04T21:33:52.074828100Z"
    }
   },
   "id": "19f4d8a68e813ad8",
   "execution_count": 78
  },
  {
   "cell_type": "code",
   "outputs": [],
   "source": [
    "from timer import Timer\n",
    "\n",
    "def convert_to_gpu_dataset(x):\n",
    "    d = Dataset.from_dict({'data': x})\n",
    "    return d.with_format(\"torch\", device=device)\n",
    "\n",
    "SCORE_DATASET = {\n",
    "    key: [convert_to_gpu_dataset(d) for d in values] \n",
    "    for key, values in SCORE_DATA.items()\n",
    "}  \n",
    "\n",
    "def time_my_models(model_list, key:str=\"val\"):\n",
    "    with Timer() as t:\n",
    "        for model in model_list:\n",
    "            print(format_f1_scores(f1_scores(confusion_batch(model, SCORE_DATASET[key]))))\n",
    "            t.lap()\n",
    "      \n",
    "        print(\"this took {} seconds\".format(t.laps))\n"
   ],
   "metadata": {
    "collapsed": false,
    "ExecuteTime": {
     "end_time": "2024-02-04T21:37:51.571759100Z",
     "start_time": "2024-02-04T21:37:51.535691Z"
    }
   },
   "id": "f7ea9172b087caff",
   "execution_count": 84
  },
  {
   "cell_type": "code",
   "outputs": [],
   "source": [
    "def ec_as_my_model(ec: EntailmentClassifier):\n",
    "    def my_model(xs):\n",
    "        return [ec.classify(x)[0][1] for x in xs]\n",
    "    return my_model\n",
    "\n",
    "def confusion_batch(model, on_data : tuple[Dataset, Dataset]):\n",
    "    results = model(on_data[0]['data'])\n",
    "    cm = defaultdict(lambda: defaultdict(int))\n",
    "    for y, y_ in zip(on_data[1]['data'], results):\n",
    "        cm[y][y_] += 1\n",
    "    return cm\n",
    "\n",
    "EntailmentClassifier.as_my_model = ec_as_my_model"
   ],
   "metadata": {
    "collapsed": false,
    "ExecuteTime": {
     "end_time": "2024-02-04T21:37:52.495024200Z",
     "start_time": "2024-02-04T21:37:52.485505400Z"
    }
   },
   "id": "6bb3c70fcb5b3cf8",
   "execution_count": 85
  },
  {
   "cell_type": "code",
   "outputs": [
    {
     "name": "stdout",
     "output_type": "stream",
     "text": [
      "  abbreviation (\u001B[36m15\u001B[0m, \u001B[36m1\u001B[0m, \u001B[36m0\u001B[0m): \u001B[32m0.97\u001B[0m\n",
      "  aircraft (\u001B[36m16\u001B[0m, \u001B[36m0\u001B[0m, \u001B[36m4\u001B[0m): \u001B[32m0.89\u001B[0m\n",
      "  aircraft+flight+flight_no (\u001B[36m0\u001B[0m, \u001B[36m0\u001B[0m, \u001B[36m1\u001B[0m): \u001B[32m0.0\u001B[0m\n",
      "  airfare (\u001B[36m83\u001B[0m, \u001B[36m1\u001B[0m, \u001B[36m1\u001B[0m): \u001B[32m0.99\u001B[0m\n",
      "  airline (\u001B[36m30\u001B[0m, \u001B[36m2\u001B[0m, \u001B[36m0\u001B[0m): \u001B[32m0.97\u001B[0m\n",
      "  airline+flight_no (\u001B[36m0\u001B[0m, \u001B[36m0\u001B[0m, \u001B[36m1\u001B[0m): \u001B[32m0.0\u001B[0m\n",
      "  airport (\u001B[36m5\u001B[0m, \u001B[36m0\u001B[0m, \u001B[36m0\u001B[0m): \u001B[32m1.0\u001B[0m\n",
      "  capacity (\u001B[36m5\u001B[0m, \u001B[36m0\u001B[0m, \u001B[36m0\u001B[0m): \u001B[32m1.0\u001B[0m\n",
      "  city (\u001B[36m3\u001B[0m, \u001B[36m1\u001B[0m, \u001B[36m0\u001B[0m): \u001B[32m0.86\u001B[0m\n",
      "  distance (\u001B[36m7\u001B[0m, \u001B[36m0\u001B[0m, \u001B[36m0\u001B[0m): \u001B[32m1.0\u001B[0m\n",
      "  flight (\u001B[36m667\u001B[0m, \u001B[36m9\u001B[0m, \u001B[36m4\u001B[0m): \u001B[32m0.99\u001B[0m\n",
      "  flight+airfare (\u001B[36m0\u001B[0m, \u001B[36m0\u001B[0m, \u001B[36m3\u001B[0m): \u001B[32m0.0\u001B[0m\n",
      "  flight_no (\u001B[36m3\u001B[0m, \u001B[36m2\u001B[0m, \u001B[36m0\u001B[0m): \u001B[32m0.75\u001B[0m\n",
      "  flight_time (\u001B[36m6\u001B[0m, \u001B[36m0\u001B[0m, \u001B[36m2\u001B[0m): \u001B[32m0.86\u001B[0m\n",
      "  ground_fare (\u001B[36m3\u001B[0m, \u001B[36m0\u001B[0m, \u001B[36m0\u001B[0m): \u001B[32m1.0\u001B[0m\n",
      "  ground_service (\u001B[36m50\u001B[0m, \u001B[36m2\u001B[0m, \u001B[36m0\u001B[0m): \u001B[32m0.98\u001B[0m\n",
      "  ground_service+ground_fare (\u001B[36m0\u001B[0m, \u001B[36m0\u001B[0m, \u001B[36m1\u001B[0m): \u001B[32m0.0\u001B[0m\n",
      "  meal (\u001B[36m4\u001B[0m, \u001B[36m0\u001B[0m, \u001B[36m0\u001B[0m): \u001B[32m1.0\u001B[0m\n",
      "  quantity (\u001B[36m10\u001B[0m, \u001B[36m1\u001B[0m, \u001B[36m2\u001B[0m): \u001B[32m0.87\u001B[0m\n",
      "  restriction (\u001B[36m1\u001B[0m, \u001B[36m0\u001B[0m, \u001B[36m0\u001B[0m): \u001B[32m1.0\u001B[0m\n",
      "  AVERAGE (\u001B[36m20\u001B[0m): \u001B[32m0.76\u001B[0m\n",
      "  abbreviation (\u001B[36m15\u001B[0m, \u001B[36m1\u001B[0m, \u001B[36m0\u001B[0m): \u001B[32m0.97\u001B[0m\n",
      "  aircraft (\u001B[36m16\u001B[0m, \u001B[36m0\u001B[0m, \u001B[36m4\u001B[0m): \u001B[32m0.89\u001B[0m\n",
      "  aircraft+flight+flight_no (\u001B[36m0\u001B[0m, \u001B[36m0\u001B[0m, \u001B[36m1\u001B[0m): \u001B[32m0.0\u001B[0m\n",
      "  airfare (\u001B[36m83\u001B[0m, \u001B[36m1\u001B[0m, \u001B[36m1\u001B[0m): \u001B[32m0.99\u001B[0m\n",
      "  airline (\u001B[36m29\u001B[0m, \u001B[36m2\u001B[0m, \u001B[36m1\u001B[0m): \u001B[32m0.95\u001B[0m\n",
      "  airline+flight_no (\u001B[36m0\u001B[0m, \u001B[36m0\u001B[0m, \u001B[36m1\u001B[0m): \u001B[32m0.0\u001B[0m\n",
      "  airport (\u001B[36m5\u001B[0m, \u001B[36m0\u001B[0m, \u001B[36m0\u001B[0m): \u001B[32m1.0\u001B[0m\n",
      "  capacity (\u001B[36m4\u001B[0m, \u001B[36m0\u001B[0m, \u001B[36m1\u001B[0m): \u001B[32m0.89\u001B[0m\n",
      "  city (\u001B[36m3\u001B[0m, \u001B[36m0\u001B[0m, \u001B[36m0\u001B[0m): \u001B[32m1.0\u001B[0m\n",
      "  distance (\u001B[36m7\u001B[0m, \u001B[36m0\u001B[0m, \u001B[36m0\u001B[0m): \u001B[32m1.0\u001B[0m\n",
      "  flight (\u001B[36m669\u001B[0m, \u001B[36m9\u001B[0m, \u001B[36m2\u001B[0m): \u001B[32m0.99\u001B[0m\n",
      "  flight+airfare (\u001B[36m0\u001B[0m, \u001B[36m0\u001B[0m, \u001B[36m3\u001B[0m): \u001B[32m0.0\u001B[0m\n",
      "  flight_no (\u001B[36m3\u001B[0m, \u001B[36m2\u001B[0m, \u001B[36m0\u001B[0m): \u001B[32m0.75\u001B[0m\n",
      "  flight_time (\u001B[36m7\u001B[0m, \u001B[36m0\u001B[0m, \u001B[36m1\u001B[0m): \u001B[32m0.93\u001B[0m\n",
      "  ground_fare (\u001B[36m3\u001B[0m, \u001B[36m0\u001B[0m, \u001B[36m0\u001B[0m): \u001B[32m1.0\u001B[0m\n",
      "  ground_service (\u001B[36m50\u001B[0m, \u001B[36m2\u001B[0m, \u001B[36m0\u001B[0m): \u001B[32m0.98\u001B[0m\n",
      "  ground_service+ground_fare (\u001B[36m0\u001B[0m, \u001B[36m0\u001B[0m, \u001B[36m1\u001B[0m): \u001B[32m0.0\u001B[0m\n",
      "  meal (\u001B[36m4\u001B[0m, \u001B[36m0\u001B[0m, \u001B[36m0\u001B[0m): \u001B[32m1.0\u001B[0m\n",
      "  quantity (\u001B[36m10\u001B[0m, \u001B[36m1\u001B[0m, \u001B[36m2\u001B[0m): \u001B[32m0.87\u001B[0m\n",
      "  restriction (\u001B[36m1\u001B[0m, \u001B[36m0\u001B[0m, \u001B[36m0\u001B[0m): \u001B[32m1.0\u001B[0m\n",
      "  AVERAGE (\u001B[36m20\u001B[0m): \u001B[32m0.76\u001B[0m\n",
      "this took [10.720699071884155, 9.962947368621826] seconds\n"
     ]
    }
   ],
   "source": [
    "time_my_models([e1.as_my_model(), ec_qt1.as_my_model()])"
   ],
   "metadata": {
    "collapsed": false,
    "ExecuteTime": {
     "end_time": "2024-02-04T21:38:14.331753200Z",
     "start_time": "2024-02-04T21:37:53.612768200Z"
    }
   },
   "id": "a3fc2dd8d1e1d5ce",
   "execution_count": 86
  },
  {
   "cell_type": "markdown",
   "source": [
    "### Try a full training"
   ],
   "metadata": {
    "collapsed": false
   },
   "id": "b4fbb24640fe17df"
  },
  {
   "cell_type": "code",
   "outputs": [],
   "source": [
    "auto_models = [AutoModelForSequenceClassification.from_pretrained(n) for n in tr_model_names]\n",
    "auto_tokenizers = [AutoTokenizer.from_pretrained(n) for n in tr_model_names]\n"
   ],
   "metadata": {
    "collapsed": false,
    "ExecuteTime": {
     "end_time": "2024-02-04T21:58:52.941275300Z",
     "start_time": "2024-02-04T21:58:45.841322300Z"
    }
   },
   "id": "de04eb4b87d90732",
   "execution_count": 88
  },
  {
   "cell_type": "code",
   "outputs": [
    {
     "name": "stderr",
     "output_type": "stream",
     "text": [
      "/home/we/.virtualenvs/intent-classifier/lib/python3.12/site-packages/dill/_dill.py:412: PicklingWarning: Cannot locate reference to <class '__main__.EntailmentClassifier'>.\n",
      "  StockPickler.save(self, obj, save_persistent_id)\n",
      "/home/we/.virtualenvs/intent-classifier/lib/python3.12/site-packages/dill/_dill.py:412: PicklingWarning: Cannot pickle <class '__main__.EntailmentClassifier'>: __main__.EntailmentClassifier has recursive self-references that trigger a RecursionError.\n",
      "  StockPickler.save(self, obj, save_persistent_id)\n"
     ]
    },
    {
     "data": {
      "text/plain": "Map:   0%|          | 0/100000 [00:00<?, ? examples/s]",
      "application/vnd.jupyter.widget-view+json": {
       "version_major": 2,
       "version_minor": 0,
       "model_id": "540b430c9f254528bdd7d14b67a89430"
      }
     },
     "metadata": {},
     "output_type": "display_data"
    },
    {
     "data": {
      "text/plain": "Map:   0%|          | 0/18576 [00:00<?, ? examples/s]",
      "application/vnd.jupyter.widget-view+json": {
       "version_major": 2,
       "version_minor": 0,
       "model_id": "baffae5c56fc4acc8c96d0c84a953a66"
      }
     },
     "metadata": {},
     "output_type": "display_data"
    },
    {
     "name": "stdout",
     "output_type": "stream",
     "text": [
      "  abbreviation (\u001B[36m9\u001B[0m, \u001B[36m2\u001B[0m, \u001B[36m6\u001B[0m): \u001B[32m0.69\u001B[0m\n",
      "  aircraft (\u001B[36m16\u001B[0m, \u001B[36m37\u001B[0m, \u001B[36m4\u001B[0m): \u001B[32m0.44\u001B[0m\n",
      "  aircraft+flight+flight_no (\u001B[36m0\u001B[0m, \u001B[36m0\u001B[0m, \u001B[36m1\u001B[0m): \u001B[32m0.0\u001B[0m\n",
      "  airfare (\u001B[36m33\u001B[0m, \u001B[36m11\u001B[0m, \u001B[36m51\u001B[0m): \u001B[32m0.52\u001B[0m\n",
      "  airline (\u001B[36m14\u001B[0m, \u001B[36m72\u001B[0m, \u001B[36m16\u001B[0m): \u001B[32m0.24\u001B[0m\n",
      "  airline+flight_no (\u001B[36m0\u001B[0m, \u001B[36m0\u001B[0m, \u001B[36m1\u001B[0m): \u001B[32m0.0\u001B[0m\n",
      "  airport (\u001B[36m4\u001B[0m, \u001B[36m17\u001B[0m, \u001B[36m1\u001B[0m): \u001B[32m0.31\u001B[0m\n",
      "  capacity (\u001B[36m2\u001B[0m, \u001B[36m3\u001B[0m, \u001B[36m3\u001B[0m): \u001B[32m0.4\u001B[0m\n",
      "  cheapest (\u001B[36m0\u001B[0m, \u001B[36m26\u001B[0m, \u001B[36m0\u001B[0m): \u001B[32m0.0\u001B[0m\n",
      "  city (\u001B[36m3\u001B[0m, \u001B[36m41\u001B[0m, \u001B[36m0\u001B[0m): \u001B[32m0.13\u001B[0m\n",
      "  distance (\u001B[36m3\u001B[0m, \u001B[36m3\u001B[0m, \u001B[36m4\u001B[0m): \u001B[32m0.46\u001B[0m\n",
      "  flight (\u001B[36m420\u001B[0m, \u001B[36m30\u001B[0m, \u001B[36m251\u001B[0m): \u001B[32m0.75\u001B[0m\n",
      "  flight+airfare (\u001B[36m0\u001B[0m, \u001B[36m0\u001B[0m, \u001B[36m3\u001B[0m): \u001B[32m0.0\u001B[0m\n",
      "  flight_no (\u001B[36m2\u001B[0m, \u001B[36m8\u001B[0m, \u001B[36m1\u001B[0m): \u001B[32m0.31\u001B[0m\n",
      "  flight_time (\u001B[36m2\u001B[0m, \u001B[36m96\u001B[0m, \u001B[36m6\u001B[0m): \u001B[32m0.038\u001B[0m\n",
      "  ground_fare (\u001B[36m2\u001B[0m, \u001B[36m7\u001B[0m, \u001B[36m1\u001B[0m): \u001B[32m0.33\u001B[0m\n",
      "  ground_service (\u001B[36m46\u001B[0m, \u001B[36m4\u001B[0m, \u001B[36m4\u001B[0m): \u001B[32m0.92\u001B[0m\n",
      "  ground_service+ground_fare (\u001B[36m0\u001B[0m, \u001B[36m0\u001B[0m, \u001B[36m1\u001B[0m): \u001B[32m0.0\u001B[0m\n",
      "  meal (\u001B[36m2\u001B[0m, \u001B[36m5\u001B[0m, \u001B[36m2\u001B[0m): \u001B[32m0.36\u001B[0m\n",
      "  quantity (\u001B[36m0\u001B[0m, \u001B[36m4\u001B[0m, \u001B[36m12\u001B[0m): \u001B[32m0.0\u001B[0m\n",
      "  restriction (\u001B[36m1\u001B[0m, \u001B[36m2\u001B[0m, \u001B[36m0\u001B[0m): \u001B[32m0.5\u001B[0m\n",
      "  AVERAGE (\u001B[36m21\u001B[0m): \u001B[32m0.3\u001B[0m\n",
      "this took [6.526015043258667] seconds\n"
     ]
    },
    {
     "data": {
      "text/plain": "<IPython.core.display.HTML object>",
      "text/html": "\n    <div>\n      \n      <progress value='3910' max='3910' style='width:300px; height:20px; vertical-align: middle;'></progress>\n      [3910/3910 03:03, Epoch 5/5]\n    </div>\n    <table border=\"1\" class=\"dataframe\">\n  <thead>\n <tr style=\"text-align: left;\">\n      <th>Step</th>\n      <th>Training Loss</th>\n    </tr>\n  </thead>\n  <tbody>\n    <tr>\n      <td>500</td>\n      <td>0.117600</td>\n    </tr>\n    <tr>\n      <td>1000</td>\n      <td>0.018700</td>\n    </tr>\n    <tr>\n      <td>1500</td>\n      <td>0.011300</td>\n    </tr>\n    <tr>\n      <td>2000</td>\n      <td>0.008100</td>\n    </tr>\n    <tr>\n      <td>2500</td>\n      <td>0.005700</td>\n    </tr>\n    <tr>\n      <td>3000</td>\n      <td>0.005500</td>\n    </tr>\n    <tr>\n      <td>3500</td>\n      <td>0.003400</td>\n    </tr>\n  </tbody>\n</table><p>"
     },
     "metadata": {},
     "output_type": "display_data"
    },
    {
     "name": "stdout",
     "output_type": "stream",
     "text": [
      "  abbreviation (\u001B[36m14\u001B[0m, \u001B[36m1\u001B[0m, \u001B[36m1\u001B[0m): \u001B[32m0.93\u001B[0m\n",
      "  aircraft (\u001B[36m16\u001B[0m, \u001B[36m0\u001B[0m, \u001B[36m4\u001B[0m): \u001B[32m0.89\u001B[0m\n",
      "  aircraft+flight+flight_no (\u001B[36m0\u001B[0m, \u001B[36m0\u001B[0m, \u001B[36m1\u001B[0m): \u001B[32m0.0\u001B[0m\n",
      "  airfare (\u001B[36m83\u001B[0m, \u001B[36m4\u001B[0m, \u001B[36m1\u001B[0m): \u001B[32m0.97\u001B[0m\n",
      "  airline (\u001B[36m30\u001B[0m, \u001B[36m1\u001B[0m, \u001B[36m0\u001B[0m): \u001B[32m0.98\u001B[0m\n",
      "  airline+flight_no (\u001B[36m0\u001B[0m, \u001B[36m0\u001B[0m, \u001B[36m1\u001B[0m): \u001B[32m0.0\u001B[0m\n",
      "  airport (\u001B[36m5\u001B[0m, \u001B[36m0\u001B[0m, \u001B[36m0\u001B[0m): \u001B[32m1.0\u001B[0m\n",
      "  capacity (\u001B[36m4\u001B[0m, \u001B[36m0\u001B[0m, \u001B[36m1\u001B[0m): \u001B[32m0.89\u001B[0m\n",
      "  city (\u001B[36m3\u001B[0m, \u001B[36m0\u001B[0m, \u001B[36m0\u001B[0m): \u001B[32m1.0\u001B[0m\n",
      "  distance (\u001B[36m7\u001B[0m, \u001B[36m0\u001B[0m, \u001B[36m0\u001B[0m): \u001B[32m1.0\u001B[0m\n",
      "  flight (\u001B[36m668\u001B[0m, \u001B[36m6\u001B[0m, \u001B[36m3\u001B[0m): \u001B[32m0.99\u001B[0m\n",
      "  flight+airfare (\u001B[36m0\u001B[0m, \u001B[36m0\u001B[0m, \u001B[36m3\u001B[0m): \u001B[32m0.0\u001B[0m\n",
      "  flight_no (\u001B[36m3\u001B[0m, \u001B[36m3\u001B[0m, \u001B[36m0\u001B[0m): \u001B[32m0.67\u001B[0m\n",
      "  flight_time (\u001B[36m7\u001B[0m, \u001B[36m0\u001B[0m, \u001B[36m1\u001B[0m): \u001B[32m0.93\u001B[0m\n",
      "  ground_fare (\u001B[36m3\u001B[0m, \u001B[36m0\u001B[0m, \u001B[36m0\u001B[0m): \u001B[32m1.0\u001B[0m\n",
      "  ground_service (\u001B[36m50\u001B[0m, \u001B[36m2\u001B[0m, \u001B[36m0\u001B[0m): \u001B[32m0.98\u001B[0m\n",
      "  ground_service+ground_fare (\u001B[36m0\u001B[0m, \u001B[36m0\u001B[0m, \u001B[36m1\u001B[0m): \u001B[32m0.0\u001B[0m\n",
      "  meal (\u001B[36m4\u001B[0m, \u001B[36m0\u001B[0m, \u001B[36m0\u001B[0m): \u001B[32m1.0\u001B[0m\n",
      "  quantity (\u001B[36m10\u001B[0m, \u001B[36m2\u001B[0m, \u001B[36m2\u001B[0m): \u001B[32m0.83\u001B[0m\n",
      "  restriction (\u001B[36m1\u001B[0m, \u001B[36m0\u001B[0m, \u001B[36m0\u001B[0m): \u001B[32m1.0\u001B[0m\n",
      "  AVERAGE (\u001B[36m20\u001B[0m): \u001B[32m0.75\u001B[0m\n",
      "this took [6.414644718170166] seconds\n"
     ]
    },
    {
     "name": "stderr",
     "output_type": "stream",
     "text": [
      "/home/we/.virtualenvs/intent-classifier/lib/python3.12/site-packages/dill/_dill.py:412: PicklingWarning: Cannot locate reference to <class '__main__.EntailmentClassifier'>.\n",
      "  StockPickler.save(self, obj, save_persistent_id)\n",
      "/home/we/.virtualenvs/intent-classifier/lib/python3.12/site-packages/dill/_dill.py:412: PicklingWarning: Cannot pickle <class '__main__.EntailmentClassifier'>: __main__.EntailmentClassifier has recursive self-references that trigger a RecursionError.\n",
      "  StockPickler.save(self, obj, save_persistent_id)\n"
     ]
    },
    {
     "data": {
      "text/plain": "Map:   0%|          | 0/100000 [00:00<?, ? examples/s]",
      "application/vnd.jupyter.widget-view+json": {
       "version_major": 2,
       "version_minor": 0,
       "model_id": "67bf5def61194676b6cd8a4b1f36ce54"
      }
     },
     "metadata": {},
     "output_type": "display_data"
    },
    {
     "data": {
      "text/plain": "Map:   0%|          | 0/18576 [00:00<?, ? examples/s]",
      "application/vnd.jupyter.widget-view+json": {
       "version_major": 2,
       "version_minor": 0,
       "model_id": "498fec12010a4fc5a93a0bb8d2194192"
      }
     },
     "metadata": {},
     "output_type": "display_data"
    },
    {
     "name": "stdout",
     "output_type": "stream",
     "text": [
      "  abbreviation (\u001B[36m10\u001B[0m, \u001B[36m6\u001B[0m, \u001B[36m5\u001B[0m): \u001B[32m0.65\u001B[0m\n",
      "  aircraft (\u001B[36m19\u001B[0m, \u001B[36m155\u001B[0m, \u001B[36m1\u001B[0m): \u001B[32m0.2\u001B[0m\n",
      "  aircraft+flight+flight_no (\u001B[36m0\u001B[0m, \u001B[36m0\u001B[0m, \u001B[36m1\u001B[0m): \u001B[32m0.0\u001B[0m\n",
      "  airfare (\u001B[36m26\u001B[0m, \u001B[36m10\u001B[0m, \u001B[36m58\u001B[0m): \u001B[32m0.43\u001B[0m\n",
      "  airline (\u001B[36m19\u001B[0m, \u001B[36m46\u001B[0m, \u001B[36m11\u001B[0m): \u001B[32m0.4\u001B[0m\n",
      "  airline+flight_no (\u001B[36m0\u001B[0m, \u001B[36m0\u001B[0m, \u001B[36m1\u001B[0m): \u001B[32m0.0\u001B[0m\n",
      "  airport (\u001B[36m4\u001B[0m, \u001B[36m0\u001B[0m, \u001B[36m1\u001B[0m): \u001B[32m0.89\u001B[0m\n",
      "  capacity (\u001B[36m2\u001B[0m, \u001B[36m0\u001B[0m, \u001B[36m3\u001B[0m): \u001B[32m0.57\u001B[0m\n",
      "  cheapest (\u001B[36m0\u001B[0m, \u001B[36m3\u001B[0m, \u001B[36m0\u001B[0m): \u001B[32m0.0\u001B[0m\n",
      "  city (\u001B[36m0\u001B[0m, \u001B[36m8\u001B[0m, \u001B[36m3\u001B[0m): \u001B[32m0.0\u001B[0m\n",
      "  distance (\u001B[36m5\u001B[0m, \u001B[36m9\u001B[0m, \u001B[36m2\u001B[0m): \u001B[32m0.48\u001B[0m\n",
      "  flight (\u001B[36m315\u001B[0m, \u001B[36m10\u001B[0m, \u001B[36m356\u001B[0m): \u001B[32m0.63\u001B[0m\n",
      "  flight+airfare (\u001B[36m0\u001B[0m, \u001B[36m0\u001B[0m, \u001B[36m3\u001B[0m): \u001B[32m0.0\u001B[0m\n",
      "  flight_no (\u001B[36m2\u001B[0m, \u001B[36m29\u001B[0m, \u001B[36m1\u001B[0m): \u001B[32m0.12\u001B[0m\n",
      "  flight_time (\u001B[36m2\u001B[0m, \u001B[36m95\u001B[0m, \u001B[36m6\u001B[0m): \u001B[32m0.038\u001B[0m\n",
      "  ground_fare (\u001B[36m3\u001B[0m, \u001B[36m5\u001B[0m, \u001B[36m0\u001B[0m): \u001B[32m0.55\u001B[0m\n",
      "  ground_service (\u001B[36m47\u001B[0m, \u001B[36m58\u001B[0m, \u001B[36m3\u001B[0m): \u001B[32m0.61\u001B[0m\n",
      "  ground_service+ground_fare (\u001B[36m0\u001B[0m, \u001B[36m0\u001B[0m, \u001B[36m1\u001B[0m): \u001B[32m0.0\u001B[0m\n",
      "  meal (\u001B[36m2\u001B[0m, \u001B[36m7\u001B[0m, \u001B[36m2\u001B[0m): \u001B[32m0.31\u001B[0m\n",
      "  quantity (\u001B[36m8\u001B[0m, \u001B[36m13\u001B[0m, \u001B[36m4\u001B[0m): \u001B[32m0.48\u001B[0m\n",
      "  restriction (\u001B[36m1\u001B[0m, \u001B[36m8\u001B[0m, \u001B[36m0\u001B[0m): \u001B[32m0.2\u001B[0m\n",
      "  AVERAGE (\u001B[36m21\u001B[0m): \u001B[32m0.31\u001B[0m\n",
      "this took [10.190711975097656] seconds\n"
     ]
    },
    {
     "data": {
      "text/plain": "<IPython.core.display.HTML object>",
      "text/html": "\n    <div>\n      \n      <progress value='3910' max='3910' style='width:300px; height:20px; vertical-align: middle;'></progress>\n      [3910/3910 08:19, Epoch 5/5]\n    </div>\n    <table border=\"1\" class=\"dataframe\">\n  <thead>\n <tr style=\"text-align: left;\">\n      <th>Step</th>\n      <th>Training Loss</th>\n    </tr>\n  </thead>\n  <tbody>\n    <tr>\n      <td>500</td>\n      <td>0.066000</td>\n    </tr>\n    <tr>\n      <td>1000</td>\n      <td>0.009400</td>\n    </tr>\n    <tr>\n      <td>1500</td>\n      <td>0.004200</td>\n    </tr>\n    <tr>\n      <td>2000</td>\n      <td>0.002200</td>\n    </tr>\n    <tr>\n      <td>2500</td>\n      <td>0.001700</td>\n    </tr>\n    <tr>\n      <td>3000</td>\n      <td>0.001400</td>\n    </tr>\n    <tr>\n      <td>3500</td>\n      <td>0.001400</td>\n    </tr>\n  </tbody>\n</table><p>"
     },
     "metadata": {},
     "output_type": "display_data"
    },
    {
     "name": "stdout",
     "output_type": "stream",
     "text": [
      "  abbreviation (\u001B[36m15\u001B[0m, \u001B[36m1\u001B[0m, \u001B[36m0\u001B[0m): \u001B[32m0.97\u001B[0m\n",
      "  aircraft (\u001B[36m16\u001B[0m, \u001B[36m0\u001B[0m, \u001B[36m4\u001B[0m): \u001B[32m0.89\u001B[0m\n",
      "  aircraft+flight+flight_no (\u001B[36m0\u001B[0m, \u001B[36m0\u001B[0m, \u001B[36m1\u001B[0m): \u001B[32m0.0\u001B[0m\n",
      "  airfare (\u001B[36m82\u001B[0m, \u001B[36m1\u001B[0m, \u001B[36m2\u001B[0m): \u001B[32m0.98\u001B[0m\n",
      "  airline (\u001B[36m29\u001B[0m, \u001B[36m2\u001B[0m, \u001B[36m1\u001B[0m): \u001B[32m0.95\u001B[0m\n",
      "  airline+flight_no (\u001B[36m0\u001B[0m, \u001B[36m0\u001B[0m, \u001B[36m1\u001B[0m): \u001B[32m0.0\u001B[0m\n",
      "  airport (\u001B[36m5\u001B[0m, \u001B[36m0\u001B[0m, \u001B[36m0\u001B[0m): \u001B[32m1.0\u001B[0m\n",
      "  capacity (\u001B[36m5\u001B[0m, \u001B[36m0\u001B[0m, \u001B[36m0\u001B[0m): \u001B[32m1.0\u001B[0m\n",
      "  city (\u001B[36m3\u001B[0m, \u001B[36m0\u001B[0m, \u001B[36m0\u001B[0m): \u001B[32m1.0\u001B[0m\n",
      "  distance (\u001B[36m7\u001B[0m, \u001B[36m0\u001B[0m, \u001B[36m0\u001B[0m): \u001B[32m1.0\u001B[0m\n",
      "  flight (\u001B[36m668\u001B[0m, \u001B[36m10\u001B[0m, \u001B[36m3\u001B[0m): \u001B[32m0.99\u001B[0m\n",
      "  flight+airfare (\u001B[36m0\u001B[0m, \u001B[36m0\u001B[0m, \u001B[36m3\u001B[0m): \u001B[32m0.0\u001B[0m\n",
      "  flight_no (\u001B[36m3\u001B[0m, \u001B[36m2\u001B[0m, \u001B[36m0\u001B[0m): \u001B[32m0.75\u001B[0m\n",
      "  flight_time (\u001B[36m7\u001B[0m, \u001B[36m0\u001B[0m, \u001B[36m1\u001B[0m): \u001B[32m0.93\u001B[0m\n",
      "  ground_fare (\u001B[36m3\u001B[0m, \u001B[36m0\u001B[0m, \u001B[36m0\u001B[0m): \u001B[32m1.0\u001B[0m\n",
      "  ground_service (\u001B[36m50\u001B[0m, \u001B[36m2\u001B[0m, \u001B[36m0\u001B[0m): \u001B[32m0.98\u001B[0m\n",
      "  ground_service+ground_fare (\u001B[36m0\u001B[0m, \u001B[36m0\u001B[0m, \u001B[36m1\u001B[0m): \u001B[32m0.0\u001B[0m\n",
      "  meal (\u001B[36m4\u001B[0m, \u001B[36m0\u001B[0m, \u001B[36m0\u001B[0m): \u001B[32m1.0\u001B[0m\n",
      "  quantity (\u001B[36m10\u001B[0m, \u001B[36m1\u001B[0m, \u001B[36m2\u001B[0m): \u001B[32m0.87\u001B[0m\n",
      "  restriction (\u001B[36m1\u001B[0m, \u001B[36m0\u001B[0m, \u001B[36m0\u001B[0m): \u001B[32m1.0\u001B[0m\n",
      "  AVERAGE (\u001B[36m20\u001B[0m): \u001B[32m0.77\u001B[0m\n",
      "this took [10.259182929992676] seconds\n"
     ]
    }
   ],
   "source": [
    "def training_args(model_index):\n",
    "    return TrainingArguments(\n",
    "        output_dir = f\"models/5ep-lr-{model_index}\",                  # Output directory\n",
    "        num_train_epochs = 5,              # Total number of training epochs\n",
    "        per_device_train_batch_size = 128,  # Batch size per device during training\n",
    "        per_device_eval_batch_size = 256,  # Batch size for evaluation\n",
    "        warmup_steps = 500,                # Number of warmup steps for learning rate scheduler\n",
    "        weight_decay = 0.01,               # Strength of weight decay\n",
    "        lr_scheduler_type=\"inverse_sqrt\",\n",
    "        save_steps = 1000,\n",
    "        seed=SEED,\n",
    "    )\n",
    "\n",
    "\n",
    "for model_index in range(0, 2):\n",
    "    entailment_model = EntailmentClassifier(model_index)\n",
    "    args = training_args(model_index)\n",
    "    trainer = entailment_model.create_finetune_trainer(args)\n",
    "    time_my_models([entailment_model.as_my_model()])\n",
    "    trainer.train()\n",
    "    time_my_models([entailment_model.as_my_model()])\n",
    "    "
   ],
   "metadata": {
    "collapsed": false,
    "ExecuteTime": {
     "end_time": "2024-02-04T22:13:56.440315600Z",
     "start_time": "2024-02-04T22:01:03.040819800Z"
    }
   },
   "id": "975311c983e6877a",
   "execution_count": 89
  },
  {
   "cell_type": "markdown",
   "source": [
    "We forgot to save the model! Anyway, since both are good, but the first one is faster and has not yet stabilized the training loss, let's continue its training from the checkpoint: "
   ],
   "metadata": {
    "collapsed": false
   },
   "id": "32c59d09081e954e"
  },
  {
   "cell_type": "code",
   "outputs": [
    {
     "name": "stderr",
     "output_type": "stream",
     "text": [
      "/home/we/.virtualenvs/intent-classifier/lib/python3.12/site-packages/dill/_dill.py:412: PicklingWarning: Cannot locate reference to <class '__main__.EntailmentClassifier'>.\n",
      "  StockPickler.save(self, obj, save_persistent_id)\n",
      "/home/we/.virtualenvs/intent-classifier/lib/python3.12/site-packages/dill/_dill.py:412: PicklingWarning: Cannot pickle <class '__main__.EntailmentClassifier'>: __main__.EntailmentClassifier has recursive self-references that trigger a RecursionError.\n",
      "  StockPickler.save(self, obj, save_persistent_id)\n"
     ]
    },
    {
     "data": {
      "text/plain": "Map:   0%|          | 0/100000 [00:00<?, ? examples/s]",
      "application/vnd.jupyter.widget-view+json": {
       "version_major": 2,
       "version_minor": 0,
       "model_id": "429180a2c67244788cd0b5e9cc391151"
      }
     },
     "metadata": {},
     "output_type": "display_data"
    },
    {
     "data": {
      "text/plain": "Map:   0%|          | 0/18576 [00:00<?, ? examples/s]",
      "application/vnd.jupyter.widget-view+json": {
       "version_major": 2,
       "version_minor": 0,
       "model_id": "75ce9609bb404c748e222d3dac2856b7"
      }
     },
     "metadata": {},
     "output_type": "display_data"
    },
    {
     "name": "stdout",
     "output_type": "stream",
     "text": [
      "  abbreviation (\u001B[36m14\u001B[0m, \u001B[36m1\u001B[0m, \u001B[36m1\u001B[0m): \u001B[32m0.93\u001B[0m\n",
      "  aircraft (\u001B[36m16\u001B[0m, \u001B[36m0\u001B[0m, \u001B[36m4\u001B[0m): \u001B[32m0.89\u001B[0m\n",
      "  aircraft+flight+flight_no (\u001B[36m0\u001B[0m, \u001B[36m0\u001B[0m, \u001B[36m1\u001B[0m): \u001B[32m0.0\u001B[0m\n",
      "  airfare (\u001B[36m83\u001B[0m, \u001B[36m3\u001B[0m, \u001B[36m1\u001B[0m): \u001B[32m0.98\u001B[0m\n",
      "  airline (\u001B[36m30\u001B[0m, \u001B[36m1\u001B[0m, \u001B[36m0\u001B[0m): \u001B[32m0.98\u001B[0m\n",
      "  airline+flight_no (\u001B[36m0\u001B[0m, \u001B[36m0\u001B[0m, \u001B[36m1\u001B[0m): \u001B[32m0.0\u001B[0m\n",
      "  airport (\u001B[36m5\u001B[0m, \u001B[36m0\u001B[0m, \u001B[36m0\u001B[0m): \u001B[32m1.0\u001B[0m\n",
      "  capacity (\u001B[36m5\u001B[0m, \u001B[36m0\u001B[0m, \u001B[36m0\u001B[0m): \u001B[32m1.0\u001B[0m\n",
      "  city (\u001B[36m3\u001B[0m, \u001B[36m0\u001B[0m, \u001B[36m0\u001B[0m): \u001B[32m1.0\u001B[0m\n",
      "  distance (\u001B[36m7\u001B[0m, \u001B[36m0\u001B[0m, \u001B[36m0\u001B[0m): \u001B[32m1.0\u001B[0m\n",
      "  flight (\u001B[36m669\u001B[0m, \u001B[36m8\u001B[0m, \u001B[36m2\u001B[0m): \u001B[32m0.99\u001B[0m\n",
      "  flight+airfare (\u001B[36m0\u001B[0m, \u001B[36m0\u001B[0m, \u001B[36m3\u001B[0m): \u001B[32m0.0\u001B[0m\n",
      "  flight_no (\u001B[36m3\u001B[0m, \u001B[36m3\u001B[0m, \u001B[36m0\u001B[0m): \u001B[32m0.67\u001B[0m\n",
      "  flight_time (\u001B[36m6\u001B[0m, \u001B[36m0\u001B[0m, \u001B[36m2\u001B[0m): \u001B[32m0.86\u001B[0m\n",
      "  ground_fare (\u001B[36m3\u001B[0m, \u001B[36m0\u001B[0m, \u001B[36m0\u001B[0m): \u001B[32m1.0\u001B[0m\n",
      "  ground_service (\u001B[36m50\u001B[0m, \u001B[36m3\u001B[0m, \u001B[36m0\u001B[0m): \u001B[32m0.97\u001B[0m\n",
      "  ground_service+ground_fare (\u001B[36m0\u001B[0m, \u001B[36m0\u001B[0m, \u001B[36m1\u001B[0m): \u001B[32m0.0\u001B[0m\n",
      "  meal (\u001B[36m3\u001B[0m, \u001B[36m0\u001B[0m, \u001B[36m1\u001B[0m): \u001B[32m0.86\u001B[0m\n",
      "  quantity (\u001B[36m10\u001B[0m, \u001B[36m0\u001B[0m, \u001B[36m2\u001B[0m): \u001B[32m0.91\u001B[0m\n",
      "  restriction (\u001B[36m1\u001B[0m, \u001B[36m0\u001B[0m, \u001B[36m0\u001B[0m): \u001B[32m1.0\u001B[0m\n",
      "  AVERAGE (\u001B[36m20\u001B[0m): \u001B[32m0.75\u001B[0m\n",
      "this took [7.111943960189819] seconds\n"
     ]
    },
    {
     "data": {
      "text/plain": "<IPython.core.display.HTML object>",
      "text/html": "\n    <div>\n      \n      <progress value='7820' max='7820' style='width:300px; height:20px; vertical-align: middle;'></progress>\n      [7820/7820 06:19, Epoch 10/10]\n    </div>\n    <table border=\"1\" class=\"dataframe\">\n  <thead>\n <tr style=\"text-align: left;\">\n      <th>Step</th>\n      <th>Training Loss</th>\n    </tr>\n  </thead>\n  <tbody>\n    <tr>\n      <td>500</td>\n      <td>0.004300</td>\n    </tr>\n    <tr>\n      <td>1000</td>\n      <td>0.005100</td>\n    </tr>\n    <tr>\n      <td>1500</td>\n      <td>0.003000</td>\n    </tr>\n    <tr>\n      <td>2000</td>\n      <td>0.002300</td>\n    </tr>\n    <tr>\n      <td>2500</td>\n      <td>0.002000</td>\n    </tr>\n    <tr>\n      <td>3000</td>\n      <td>0.001900</td>\n    </tr>\n    <tr>\n      <td>3500</td>\n      <td>0.001500</td>\n    </tr>\n    <tr>\n      <td>4000</td>\n      <td>0.000900</td>\n    </tr>\n    <tr>\n      <td>4500</td>\n      <td>0.001000</td>\n    </tr>\n    <tr>\n      <td>5000</td>\n      <td>0.001100</td>\n    </tr>\n    <tr>\n      <td>5500</td>\n      <td>0.001400</td>\n    </tr>\n    <tr>\n      <td>6000</td>\n      <td>0.000900</td>\n    </tr>\n    <tr>\n      <td>6500</td>\n      <td>0.000500</td>\n    </tr>\n    <tr>\n      <td>7000</td>\n      <td>0.000600</td>\n    </tr>\n    <tr>\n      <td>7500</td>\n      <td>0.000500</td>\n    </tr>\n  </tbody>\n</table><p>"
     },
     "metadata": {},
     "output_type": "display_data"
    },
    {
     "name": "stdout",
     "output_type": "stream",
     "text": [
      "  abbreviation (\u001B[36m15\u001B[0m, \u001B[36m1\u001B[0m, \u001B[36m0\u001B[0m): \u001B[32m0.97\u001B[0m\n",
      "  aircraft (\u001B[36m17\u001B[0m, \u001B[36m0\u001B[0m, \u001B[36m3\u001B[0m): \u001B[32m0.92\u001B[0m\n",
      "  aircraft+flight+flight_no (\u001B[36m0\u001B[0m, \u001B[36m0\u001B[0m, \u001B[36m1\u001B[0m): \u001B[32m0.0\u001B[0m\n",
      "  airfare (\u001B[36m82\u001B[0m, \u001B[36m4\u001B[0m, \u001B[36m2\u001B[0m): \u001B[32m0.96\u001B[0m\n",
      "  airline (\u001B[36m30\u001B[0m, \u001B[36m1\u001B[0m, \u001B[36m0\u001B[0m): \u001B[32m0.98\u001B[0m\n",
      "  airline+flight_no (\u001B[36m0\u001B[0m, \u001B[36m0\u001B[0m, \u001B[36m1\u001B[0m): \u001B[32m0.0\u001B[0m\n",
      "  airport (\u001B[36m5\u001B[0m, \u001B[36m0\u001B[0m, \u001B[36m0\u001B[0m): \u001B[32m1.0\u001B[0m\n",
      "  capacity (\u001B[36m5\u001B[0m, \u001B[36m0\u001B[0m, \u001B[36m0\u001B[0m): \u001B[32m1.0\u001B[0m\n",
      "  city (\u001B[36m3\u001B[0m, \u001B[36m0\u001B[0m, \u001B[36m0\u001B[0m): \u001B[32m1.0\u001B[0m\n",
      "  distance (\u001B[36m7\u001B[0m, \u001B[36m0\u001B[0m, \u001B[36m0\u001B[0m): \u001B[32m1.0\u001B[0m\n",
      "  flight (\u001B[36m667\u001B[0m, \u001B[36m7\u001B[0m, \u001B[36m4\u001B[0m): \u001B[32m0.99\u001B[0m\n",
      "  flight+airfare (\u001B[36m0\u001B[0m, \u001B[36m0\u001B[0m, \u001B[36m3\u001B[0m): \u001B[32m0.0\u001B[0m\n",
      "  flight_no (\u001B[36m3\u001B[0m, \u001B[36m3\u001B[0m, \u001B[36m0\u001B[0m): \u001B[32m0.67\u001B[0m\n",
      "  flight_time (\u001B[36m6\u001B[0m, \u001B[36m0\u001B[0m, \u001B[36m2\u001B[0m): \u001B[32m0.86\u001B[0m\n",
      "  ground_fare (\u001B[36m3\u001B[0m, \u001B[36m0\u001B[0m, \u001B[36m0\u001B[0m): \u001B[32m1.0\u001B[0m\n",
      "  ground_service (\u001B[36m50\u001B[0m, \u001B[36m2\u001B[0m, \u001B[36m0\u001B[0m): \u001B[32m0.98\u001B[0m\n",
      "  ground_service+ground_fare (\u001B[36m0\u001B[0m, \u001B[36m0\u001B[0m, \u001B[36m1\u001B[0m): \u001B[32m0.0\u001B[0m\n",
      "  meal (\u001B[36m4\u001B[0m, \u001B[36m0\u001B[0m, \u001B[36m0\u001B[0m): \u001B[32m1.0\u001B[0m\n",
      "  quantity (\u001B[36m10\u001B[0m, \u001B[36m1\u001B[0m, \u001B[36m2\u001B[0m): \u001B[32m0.87\u001B[0m\n",
      "  restriction (\u001B[36m1\u001B[0m, \u001B[36m0\u001B[0m, \u001B[36m0\u001B[0m): \u001B[32m1.0\u001B[0m\n",
      "  AVERAGE (\u001B[36m20\u001B[0m): \u001B[32m0.76\u001B[0m\n",
      "this took [6.376817941665649] seconds\n"
     ]
    }
   ],
   "source": [
    "def training_args(model_index):\n",
    "    return TrainingArguments(\n",
    "        output_dir = f\"models/5ep-lr-{model_index}\",                  # Output directory\n",
    "        num_train_epochs = 10,             # Total number of training epochs\n",
    "        per_device_train_batch_size = 128, # Batch size per device during training\n",
    "        per_device_eval_batch_size = 256,  # Batch size for evaluation\n",
    "        warmup_steps = 500,                # Number of warmup steps for learning rate scheduler\n",
    "        weight_decay = 0.01,               # Strength of weight decay\n",
    "        lr_scheduler_type=\"inverse_sqrt\",\n",
    "        save_strategy='epoch',\n",
    "        seed=SEED,\n",
    "    )\n",
    "\n",
    "entailment_model = EntailmentClassifier(0)\n",
    "args = training_args(0)\n",
    "\n",
    "trainer = entailment_model.create_finetune_trainer(args)\n",
    "time_my_models([entailment_model.as_my_model()])\n",
    "trainer.train()\n",
    "time_my_models([entailment_model.as_my_model()])"
   ],
   "metadata": {
    "collapsed": false,
    "ExecuteTime": {
     "end_time": "2024-02-04T23:08:50.945195200Z",
     "start_time": "2024-02-04T23:01:41.264496400Z"
    }
   },
   "id": "f02b2159a0e8f71c",
   "execution_count": 93
  },
  {
   "cell_type": "markdown",
   "source": [
    "We see that the models are quite good, but we never implemented the multiclass labels.\n",
    "Let's rectify that."
   ],
   "metadata": {
    "collapsed": false
   },
   "id": "383ef5d363a5503a"
  },
  {
   "cell_type": "code",
   "outputs": [
    {
     "data": {
      "text/plain": "['may i please see airlines and flight numbers from new york to toronto on the same date june seventeenth also arriving in toronto before noon thank you',\n 'all flights and fares from atlanta to dallas round trip after 12 pm less than 1100 dollars',\n 'give me the flights and fares on december twenty seventh from indianapolis to orlando',\n 'show me all flights and fares from denver to san francisco',\n 'all flights and fares from pittsburgh to dallas round trip after 12 pm less than 1100 dollars',\n 'show all flights and fares from denver to san francisco',\n 'please give me a list of all the flights between dallas and baltimore and their cost',\n 'first flights and fares from pittsburgh to atlanta on a thursday',\n 'show me the costs and times for flights from san francisco to atlanta',\n 'all flights and fares from dallas']"
     },
     "execution_count": 90,
     "metadata": {},
     "output_type": "execute_result"
    }
   ],
   "source": [
    "multi_indices = [ix for ix, v in enumerate(data_y_train) if '+' in v]\n",
    "SCORE_DATA[\"train_multi_indices\"] = ([SCORE_DATA[\"train\"][0][ix] for ix in multi_indices],\n",
    "        [SCORE_DATA[\"train\"][1][ix] for ix in multi_indices])\n",
    "\n",
    "SCORE_DATA[\"train_multi_indices\"][0][:10]"
   ],
   "metadata": {
    "collapsed": false,
    "ExecuteTime": {
     "end_time": "2024-02-04T22:52:55.757773800Z",
     "start_time": "2024-02-04T22:52:55.692769600Z"
    }
   },
   "id": "61a3c081b5f1b080",
   "execution_count": 90
  },
  {
   "cell_type": "code",
   "outputs": [
    {
     "name": "stdout",
     "output_type": "stream",
     "text": [
      "may i please see airlines and flight numbers from new york to toronto on the same date june seventeenth also arriving in toronto before noon thank you\n",
      "  2 0.62 flight_no\n",
      "  1 0.38 airline\n",
      "    0.00 flight\n",
      "    0.00 airfare\n",
      "    0.00 flight_time\n",
      "    0.00 ground_service\n",
      "    0.00 restriction\n",
      "    0.00 quantity\n",
      "    0.00 abbreviation\n",
      "    0.00 ground_fare\n",
      "    0.00 aircraft\n",
      "    0.00 capacity\n",
      "    0.00 airport\n",
      "    0.00 meal\n",
      "    0.00 city\n",
      "    0.00 distance\n",
      "    0.00 cheapest\n",
      "all flights and fares from atlanta to dallas round trip after 12 pm less than 1100 dollars\n",
      "  1 0.58 flight\n",
      "  2 0.42 airfare\n",
      "    0.00 airport\n",
      "    0.00 city\n",
      "    0.00 capacity\n",
      "    0.00 abbreviation\n",
      "    0.00 flight_time\n",
      "    0.00 ground_service\n",
      "    0.00 distance\n",
      "    0.00 aircraft\n",
      "    0.00 cheapest\n",
      "    0.00 ground_fare\n",
      "    0.00 flight_no\n",
      "    0.00 quantity\n",
      "    0.00 meal\n",
      "    0.00 restriction\n",
      "    0.00 airline\n",
      "give me the flights and fares on december twenty seventh from indianapolis to orlando\n",
      "  1 0.53 flight\n",
      "  2 0.47 airfare\n",
      "    0.00 flight_no\n",
      "    0.00 city\n",
      "    0.00 quantity\n",
      "    0.00 flight_time\n",
      "    0.00 capacity\n",
      "    0.00 cheapest\n",
      "    0.00 aircraft\n",
      "    0.00 meal\n",
      "    0.00 abbreviation\n",
      "    0.00 restriction\n",
      "    0.00 airport\n",
      "    0.00 ground_fare\n",
      "    0.00 airline\n",
      "    0.00 distance\n",
      "    0.00 ground_service\n",
      "show me all flights and fares from denver to san francisco\n",
      "  2 0.57 airfare\n",
      "  1 0.43 flight\n",
      "    0.00 city\n",
      "    0.00 aircraft\n",
      "    0.00 capacity\n",
      "    0.00 cheapest\n",
      "    0.00 quantity\n",
      "    0.00 airline\n",
      "    0.00 flight_time\n",
      "    0.00 abbreviation\n",
      "    0.00 airport\n",
      "    0.00 restriction\n",
      "    0.00 ground_fare\n",
      "    0.00 distance\n",
      "    0.00 flight_no\n",
      "    0.00 ground_service\n",
      "    0.00 meal\n",
      "all flights and fares from pittsburgh to dallas round trip after 12 pm less than 1100 dollars\n",
      "  2 0.58 airfare\n",
      "  1 0.42 flight\n",
      "    0.00 airport\n",
      "    0.00 aircraft\n",
      "    0.00 ground_fare\n",
      "    0.00 city\n",
      "    0.00 airline\n",
      "    0.00 abbreviation\n",
      "    0.00 distance\n",
      "    0.00 meal\n",
      "    0.00 ground_service\n",
      "    0.00 capacity\n",
      "    0.00 flight_time\n",
      "    0.00 restriction\n",
      "    0.00 quantity\n",
      "    0.00 flight_no\n",
      "    0.00 cheapest\n",
      "show all flights and fares from denver to san francisco\n",
      "  1 0.51 flight\n",
      "  2 0.49 airfare\n",
      "    0.00 airport\n",
      "    0.00 airline\n",
      "    0.00 capacity\n",
      "    0.00 quantity\n",
      "    0.00 city\n",
      "    0.00 meal\n",
      "    0.00 distance\n",
      "    0.00 flight_time\n",
      "    0.00 flight_no\n",
      "    0.00 restriction\n",
      "    0.00 cheapest\n",
      "    0.00 abbreviation\n",
      "    0.00 ground_fare\n",
      "    0.00 ground_service\n",
      "    0.00 aircraft\n",
      "please give me a list of all the flights between dallas and baltimore and their cost\n",
      "  1 0.80 flight\n",
      "  2 0.20 airfare\n",
      "    0.00 distance\n",
      "    0.00 abbreviation\n",
      "    0.00 quantity\n",
      "    0.00 flight_time\n",
      "    0.00 flight_no\n",
      "    0.00 ground_service\n",
      "    0.00 cheapest\n",
      "    0.00 ground_fare\n",
      "    0.00 restriction\n",
      "    0.00 airport\n",
      "    0.00 city\n",
      "    0.00 meal\n",
      "    0.00 capacity\n",
      "    0.00 aircraft\n",
      "    0.00 airline\n",
      "first flights and fares from pittsburgh to atlanta on a thursday\n",
      "  2 0.58 airfare\n",
      "  1 0.42 flight\n",
      "    0.00 flight_no\n",
      "    0.00 flight_time\n",
      "    0.00 meal\n",
      "    0.00 city\n",
      "    0.00 capacity\n",
      "    0.00 abbreviation\n",
      "    0.00 ground_fare\n",
      "    0.00 airport\n",
      "    0.00 distance\n",
      "    0.00 aircraft\n",
      "    0.00 ground_service\n",
      "    0.00 airline\n",
      "    0.00 restriction\n",
      "    0.00 cheapest\n",
      "    0.00 quantity\n",
      "show me the costs and times for flights from san francisco to atlanta\n",
      "  1 0.94 airfare\n",
      "  2 0.05 flight_time\n",
      "    0.00 flight\n",
      "    0.00 airport\n",
      "    0.00 meal\n",
      "    0.00 restriction\n",
      "    0.00 capacity\n",
      "    0.00 city\n",
      "    0.00 flight_no\n",
      "    0.00 airline\n",
      "    0.00 distance\n",
      "    0.00 aircraft\n",
      "    0.00 abbreviation\n",
      "    0.00 ground_fare\n",
      "    0.00 quantity\n",
      "    0.00 cheapest\n",
      "    0.00 ground_service\n",
      "all flights and fares from dallas\n",
      "  2 0.56 airfare\n",
      "  1 0.44 flight\n",
      "    0.00 airport\n",
      "    0.00 city\n",
      "    0.00 ground_service\n",
      "    0.00 flight_time\n",
      "    0.00 distance\n",
      "    0.00 capacity\n",
      "    0.00 cheapest\n",
      "    0.00 airline\n",
      "    0.00 quantity\n",
      "    0.00 meal\n",
      "    0.00 restriction\n",
      "    0.00 flight_no\n",
      "    0.00 aircraft\n",
      "    0.00 abbreviation\n",
      "    0.00 ground_fare\n",
      "again i will repeat i want to make a one way flight from boston to atlanta will you tell me how much the fares are i would like the cheapest fare\n",
      "  1 0.63 flight\n",
      "  2 0.37 airfare\n",
      "    0.00 cheapest\n",
      "    0.00 abbreviation\n",
      "    0.00 meal\n",
      "    0.00 capacity\n",
      "    0.00 flight_time\n",
      "    0.00 airport\n",
      "    0.00 city\n",
      "    0.00 ground_service\n",
      "    0.00 ground_fare\n",
      "    0.00 quantity\n",
      "    0.00 distance\n",
      "    0.00 flight_no\n",
      "    0.00 aircraft\n",
      "    0.00 airline\n",
      "    0.00 restriction\n",
      "give me the flights and fares on december twenty seventh from orlando to indianapolis airfare\n",
      "  2 0.54 airfare\n",
      "  1 0.46 flight\n",
      "    0.00 aircraft\n",
      "    0.00 quantity\n",
      "    0.00 distance\n",
      "    0.00 city\n",
      "    0.00 cheapest\n",
      "    0.00 meal\n",
      "    0.00 airport\n",
      "    0.00 abbreviation\n",
      "    0.00 ground_service\n",
      "    0.00 flight_no\n",
      "    0.00 airline\n",
      "    0.00 restriction\n",
      "    0.00 flight_time\n",
      "    0.00 ground_fare\n",
      "    0.00 capacity\n",
      "show all flights and fares from pittsburgh to san francisco\n",
      "  1 0.77 flight\n",
      "  2 0.23 airfare\n",
      "    0.00 airport\n",
      "    0.00 meal\n",
      "    0.00 ground_service\n",
      "    0.00 flight_no\n",
      "    0.00 distance\n",
      "    0.00 flight_time\n",
      "    0.00 city\n",
      "    0.00 abbreviation\n",
      "    0.00 ground_fare\n",
      "    0.00 capacity\n",
      "    0.00 quantity\n",
      "    0.00 cheapest\n",
      "    0.00 restriction\n",
      "    0.00 aircraft\n",
      "    0.00 airline\n",
      "please list me the flights and their cost of all airlines flying from denver to baltimore\n",
      "  1 0.83 flight\n",
      "  2 0.17 airfare\n",
      "    0.00 flight_time\n",
      "    0.00 quantity\n",
      "    0.00 meal\n",
      "    0.00 capacity\n",
      "    0.00 airport\n",
      "    0.00 restriction\n",
      "    0.00 flight_no\n",
      "    0.00 cheapest\n",
      "    0.00 distance\n",
      "    0.00 ground_service\n",
      "    0.00 ground_fare\n",
      "    0.00 abbreviation\n",
      "    0.00 airline\n",
      "    0.00 city\n",
      "    0.00 aircraft\n",
      "show me all flights and fares from dallas to san francisco\n",
      "  2 0.58 airfare\n",
      "  1 0.42 flight\n",
      "    0.00 flight_time\n",
      "    0.00 airport\n",
      "    0.00 ground_fare\n",
      "    0.00 restriction\n",
      "    0.00 quantity\n",
      "    0.00 distance\n",
      "    0.00 flight_no\n",
      "    0.00 cheapest\n",
      "    0.00 meal\n",
      "    0.00 city\n",
      "    0.00 capacity\n",
      "    0.00 abbreviation\n",
      "    0.00 aircraft\n",
      "    0.00 ground_service\n",
      "    0.00 airline\n",
      "what are the flights and fares from atlanta to philadelphia\n",
      "  2 0.52 airfare\n",
      "  1 0.48 flight\n",
      "    0.00 airport\n",
      "    0.00 cheapest\n",
      "    0.00 flight_time\n",
      "    0.00 capacity\n",
      "    0.00 ground_service\n",
      "    0.00 ground_fare\n",
      "    0.00 city\n",
      "    0.00 flight_no\n",
      "    0.00 aircraft\n",
      "    0.00 restriction\n",
      "    0.00 airline\n",
      "    0.00 abbreviation\n",
      "    0.00 quantity\n",
      "    0.00 meal\n",
      "    0.00 distance\n"
     ]
    }
   ],
   "source": [
    "\n",
    "for sentence, answer in zip(SCORE_DATA[\"train_multi_indices\"][0], SCORE_DATA[\"train_multi_indices\"][1]):\n",
    "    print(sentence)\n",
    "    base_answers = {a:ix for ix, a in enumerate(answer.split('+'), 1)}\n",
    "    for v, label in entailment_model.classify(sentence):\n",
    "        print(\" \", base_answers.get(label, \" \"), f\"{v:0.2f} {label}\")"
   ],
   "metadata": {
    "collapsed": false,
    "ExecuteTime": {
     "end_time": "2024-02-04T23:15:48.761666100Z",
     "start_time": "2024-02-04T23:15:48.448966900Z"
    }
   },
   "id": "44a8cc22cb3482ac",
   "execution_count": 95
  },
  {
   "cell_type": "code",
   "outputs": [
    {
     "data": {
      "text/plain": "[(12,),\n (11,),\n (13,),\n (7,),\n (0,),\n (5,),\n (10,),\n (8,),\n (2,),\n (1,),\n (14,),\n (15,),\n (3, 10),\n (9,),\n (16,),\n (3,),\n (4,),\n (9, 2),\n (2, 11),\n (6,)]"
     },
     "execution_count": 97,
     "metadata": {},
     "output_type": "execute_result"
    }
   ],
   "source": [
    "MULTICLASS_PENALTY = 0.10\n",
    "labels = list(labels)\n",
    "\n",
    "multiclass_labels = [\n",
    "    tuple(base_labels.index(l) for l in label.split('+')) for label in labels\n",
    "]\n",
    "\n",
    "multiclass_labels\n"
   ],
   "metadata": {
    "collapsed": false,
    "ExecuteTime": {
     "end_time": "2024-02-04T23:24:37.033352100Z",
     "start_time": "2024-02-04T23:24:37.013304200Z"
    }
   },
   "id": "862adc6f7d713a18",
   "execution_count": 97
  },
  {
   "cell_type": "code",
   "outputs": [
    {
     "data": {
      "text/plain": "[(0.8999246001243592, 'flight+airfare'),\n (0.5051178932189941, 'flight'),\n (0.494806706905365, 'airfare'),\n (0.3948105449711875, 'airfare+flight_time')]"
     },
     "execution_count": 99,
     "metadata": {},
     "output_type": "execute_result"
    }
   ],
   "source": [
    "PROB_THRESHOLD = 0.2\n",
    "\n",
    "def ec_classify_multi(self, sentence):\n",
    "        input_ids = self.tokenizer.batch_encode_plus(\n",
    "                                    [[sentence, t] for t in base_hypotheses], \n",
    "                                   add_special_tokens=True, \n",
    "                                   padding=True,\n",
    "                                   truncation=True,\n",
    "                                   return_tensors='pt').to(self.device)\n",
    "        logits = self.model(**input_ids)['logits'][:, self.entailment_label_id]\n",
    "        probs = logits.softmax(dim=0).tolist()    \n",
    "        assert len(probs) == len(base_hypotheses) == len(base_labels)\n",
    "        all_probs = [sum(probs[ix] - MULTICLASS_PENALTY for ix in mlabels) + MULTICLASS_PENALTY \n",
    "                     for mlabels in multiclass_labels]        \n",
    "\n",
    "        return sorted(((p, l) for p, l in zip(all_probs, labels) if p >= PROB_THRESHOLD), reverse=True)\n",
    "\n",
    "ec_classify_multi(entailment_model, \"show me all flights and fares from dallas to san francisco\")"
   ],
   "metadata": {
    "collapsed": false,
    "ExecuteTime": {
     "end_time": "2024-02-04T23:27:15.242239100Z",
     "start_time": "2024-02-04T23:27:15.058647100Z"
    }
   },
   "id": "d6e2ad9577e68e51",
   "execution_count": 99
  },
  {
   "cell_type": "code",
   "outputs": [
    {
     "name": "stdout",
     "output_type": "stream",
     "text": [
      "may i please see airlines and flight numbers from new york to toronto on the same date june seventeenth also arriving in toronto before noon thank you\n",
      "  * 0.90 airline+flight_no\n",
      "    0.52 airline\n",
      "    0.48 flight_no\n",
      "all flights and fares from atlanta to dallas round trip after 12 pm less than 1100 dollars\n",
      "  * 0.90 flight+airfare\n",
      "    0.52 flight\n",
      "    0.48 airfare\n",
      "    0.38 airfare+flight_time\n",
      "give me the flights and fares on december twenty seventh from indianapolis to orlando\n",
      "  * 0.90 flight+airfare\n",
      "    0.51 airfare\n",
      "    0.49 flight\n",
      "    0.41 airfare+flight_time\n",
      "show me all flights and fares from denver to san francisco\n",
      "  * 0.90 flight+airfare\n",
      "    0.51 airfare\n",
      "    0.49 flight\n",
      "    0.41 airfare+flight_time\n",
      "all flights and fares from pittsburgh to dallas round trip after 12 pm less than 1100 dollars\n",
      "  * 0.90 flight+airfare\n",
      "    0.58 flight\n",
      "    0.42 airfare\n",
      "    0.32 airfare+flight_time\n",
      "show all flights and fares from denver to san francisco\n",
      "  * 0.90 flight+airfare\n",
      "    0.55 airfare\n",
      "    0.45 flight\n",
      "    0.45 airfare+flight_time\n",
      "please give me a list of all the flights between dallas and baltimore and their cost\n",
      "  * 0.90 flight+airfare\n",
      "    0.53 flight\n",
      "    0.47 airfare\n",
      "    0.37 airfare+flight_time\n",
      "first flights and fares from pittsburgh to atlanta on a thursday\n",
      "  * 0.90 flight+airfare\n",
      "    0.60 airfare\n",
      "    0.50 airfare+flight_time\n",
      "    0.40 flight\n",
      "show me the costs and times for flights from san francisco to atlanta\n",
      "  * 0.90 airfare+flight_time\n",
      "    0.84 airfare\n",
      "    0.74 flight+airfare\n",
      "all flights and fares from dallas\n",
      "  * 0.90 flight+airfare\n",
      "    0.62 airfare\n",
      "    0.52 airfare+flight_time\n",
      "    0.38 flight\n",
      "again i will repeat i want to make a one way flight from boston to atlanta will you tell me how much the fares are i would like the cheapest fare\n",
      "  * 0.90 flight+airfare\n",
      "    0.53 flight\n",
      "    0.47 airfare\n",
      "    0.37 airfare+flight_time\n",
      "give me the flights and fares on december twenty seventh from orlando to indianapolis airfare\n",
      "  * 0.90 flight+airfare\n",
      "    0.56 airfare\n",
      "    0.46 airfare+flight_time\n",
      "    0.44 flight\n",
      "show all flights and fares from pittsburgh to san francisco\n",
      "  * 0.90 flight+airfare\n",
      "    0.57 airfare\n",
      "    0.47 airfare+flight_time\n",
      "    0.43 flight\n",
      "please list me the flights and their cost of all airlines flying from denver to baltimore\n",
      "  * 0.90 flight+airfare\n",
      "    0.65 flight\n",
      "    0.35 airfare\n",
      "    0.25 airfare+flight_time\n",
      "show me all flights and fares from dallas to san francisco\n",
      "  * 0.90 flight+airfare\n",
      "    0.51 airfare\n",
      "    0.49 flight\n",
      "    0.41 airfare+flight_time\n",
      "what are the flights and fares from atlanta to philadelphia\n",
      "  * 0.90 flight+airfare\n",
      "    0.57 airfare\n",
      "    0.47 airfare+flight_time\n",
      "    0.43 flight\n"
     ]
    }
   ],
   "source": [
    "EntailmentClassifier.classify_multi = ec_classify_multi\n",
    "\n",
    "for sentence, answer in zip(SCORE_DATA[\"train_multi_indices\"][0], SCORE_DATA[\"train_multi_indices\"][1]):\n",
    "    print(sentence)\n",
    "    for v, label in entailment_model.classify_multi(sentence):\n",
    "        print(\" \", \"*\" if label == answer else \" \", f\"{v:0.2f} {label}\")"
   ],
   "metadata": {
    "collapsed": false,
    "ExecuteTime": {
     "end_time": "2024-02-04T23:30:07.160258500Z",
     "start_time": "2024-02-04T23:30:06.755284700Z"
    }
   },
   "id": "51fff4b6e17036c8",
   "execution_count": 101
  },
  {
   "cell_type": "code",
   "outputs": [],
   "source": [
    "def ec_as_my_model_multi(ec: EntailmentClassifier):\n",
    "    def my_model(xs):\n",
    "        return [ec.classify_multi(x)[0][1] for x in xs]\n",
    "    return my_model\n",
    "\n",
    "EntailmentClassifier.as_my_model_multi = ec_as_my_model_multi"
   ],
   "metadata": {
    "collapsed": false,
    "ExecuteTime": {
     "end_time": "2024-02-04T23:32:00.287887600Z",
     "start_time": "2024-02-04T23:32:00.247887200Z"
    }
   },
   "id": "99340d4cfc285fb9",
   "execution_count": 102
  },
  {
   "cell_type": "code",
   "outputs": [
    {
     "name": "stdout",
     "output_type": "stream",
     "text": [
      "  abbreviation (\u001B[36m15\u001B[0m, \u001B[36m1\u001B[0m, \u001B[36m0\u001B[0m): \u001B[32m0.97\u001B[0m\n",
      "  aircraft (\u001B[36m17\u001B[0m, \u001B[36m0\u001B[0m, \u001B[36m3\u001B[0m): \u001B[32m0.92\u001B[0m\n",
      "  aircraft+flight+flight_no (\u001B[36m0\u001B[0m, \u001B[36m0\u001B[0m, \u001B[36m1\u001B[0m): \u001B[32m0.0\u001B[0m\n",
      "  airfare (\u001B[36m83\u001B[0m, \u001B[36m1\u001B[0m, \u001B[36m1\u001B[0m): \u001B[32m0.99\u001B[0m\n",
      "  airline (\u001B[36m29\u001B[0m, \u001B[36m1\u001B[0m, \u001B[36m1\u001B[0m): \u001B[32m0.97\u001B[0m\n",
      "  airline+flight_no (\u001B[36m0\u001B[0m, \u001B[36m0\u001B[0m, \u001B[36m1\u001B[0m): \u001B[32m0.0\u001B[0m\n",
      "  airport (\u001B[36m5\u001B[0m, \u001B[36m0\u001B[0m, \u001B[36m0\u001B[0m): \u001B[32m1.0\u001B[0m\n",
      "  capacity (\u001B[36m5\u001B[0m, \u001B[36m0\u001B[0m, \u001B[36m0\u001B[0m): \u001B[32m1.0\u001B[0m\n",
      "  city (\u001B[36m3\u001B[0m, \u001B[36m0\u001B[0m, \u001B[36m0\u001B[0m): \u001B[32m1.0\u001B[0m\n",
      "  distance (\u001B[36m7\u001B[0m, \u001B[36m0\u001B[0m, \u001B[36m0\u001B[0m): \u001B[32m1.0\u001B[0m\n",
      "  flight (\u001B[36m667\u001B[0m, \u001B[36m5\u001B[0m, \u001B[36m4\u001B[0m): \u001B[32m0.99\u001B[0m\n",
      "  flight+airfare (\u001B[36m3\u001B[0m, \u001B[36m1\u001B[0m, \u001B[36m0\u001B[0m): \u001B[32m0.86\u001B[0m\n",
      "  flight_no (\u001B[36m3\u001B[0m, \u001B[36m3\u001B[0m, \u001B[36m0\u001B[0m): \u001B[32m0.67\u001B[0m\n",
      "  flight_time (\u001B[36m7\u001B[0m, \u001B[36m0\u001B[0m, \u001B[36m1\u001B[0m): \u001B[32m0.93\u001B[0m\n",
      "  ground_fare (\u001B[36m3\u001B[0m, \u001B[36m0\u001B[0m, \u001B[36m0\u001B[0m): \u001B[32m1.0\u001B[0m\n",
      "  ground_service (\u001B[36m50\u001B[0m, \u001B[36m2\u001B[0m, \u001B[36m0\u001B[0m): \u001B[32m0.98\u001B[0m\n",
      "  ground_service+ground_fare (\u001B[36m0\u001B[0m, \u001B[36m0\u001B[0m, \u001B[36m1\u001B[0m): \u001B[32m0.0\u001B[0m\n",
      "  meal (\u001B[36m4\u001B[0m, \u001B[36m0\u001B[0m, \u001B[36m0\u001B[0m): \u001B[32m1.0\u001B[0m\n",
      "  quantity (\u001B[36m10\u001B[0m, \u001B[36m1\u001B[0m, \u001B[36m2\u001B[0m): \u001B[32m0.87\u001B[0m\n",
      "  restriction (\u001B[36m1\u001B[0m, \u001B[36m0\u001B[0m, \u001B[36m0\u001B[0m): \u001B[32m1.0\u001B[0m\n",
      "  AVERAGE (\u001B[36m20\u001B[0m): \u001B[32m0.81\u001B[0m\n",
      "this took [6.651221990585327] seconds\n"
     ]
    }
   ],
   "source": [
    "time_my_models([entailment_model.as_my_model_multi()])"
   ],
   "metadata": {
    "collapsed": false,
    "ExecuteTime": {
     "end_time": "2024-02-04T23:32:31.590157200Z",
     "start_time": "2024-02-04T23:32:24.946240500Z"
    }
   },
   "id": "c1932dff6d0fd124",
   "execution_count": 103
  },
  {
   "cell_type": "code",
   "outputs": [],
   "source": [
    "trainer.save_model('../server/models/ml-xtremedistil-l6-h256-in-tune-1.0-10ep')"
   ],
   "metadata": {
    "collapsed": false,
    "ExecuteTime": {
     "end_time": "2024-02-04T23:38:40.677927600Z",
     "start_time": "2024-02-04T23:38:40.550894200Z"
    }
   },
   "id": "7789b8e895112ca0",
   "execution_count": 106
  },
  {
   "cell_type": "code",
   "outputs": [],
   "source": [
    "import os\n",
    "\n",
    "save_path = '../server/models/ml-xtremedistil-l6-h256-in-tune-1.0-10ep'\n",
    "\n",
    "with open(os.path.join(save_path, 'base_labels.tsv'), 'wt', encoding='utf-8') as f:\n",
    "    w = csv.writer(f, delimiter='\\t')\n",
    "    w.writerows(sorted(base_hypotheses_by_label.items()))\n",
    "    \n",
    "with open(os.path.join(save_path, 'labels.txt'), 'wt', encoding='utf-8') as f:\n",
    "    print(*labels, sep='\\n', file=f)"
   ],
   "metadata": {
    "collapsed": false,
    "ExecuteTime": {
     "end_time": "2024-02-04T23:57:16.306404900Z",
     "start_time": "2024-02-04T23:57:16.267402300Z"
    }
   },
   "id": "bfabdf288ec6be56",
   "execution_count": 108
  },
  {
   "cell_type": "code",
   "outputs": [
    {
     "data": {
      "text/plain": "[(0.9998464584350586, 'flight'), (0.8998540645133289, 'flight+airfare')]"
     },
     "execution_count": 109,
     "metadata": {},
     "output_type": "execute_result"
    }
   ],
   "source": [
    "entailment_model.classify_multi(\"what are the flights from san francisco to denver\")"
   ],
   "metadata": {
    "collapsed": false,
    "ExecuteTime": {
     "end_time": "2024-02-05T00:28:37.702417200Z",
     "start_time": "2024-02-05T00:28:37.447167Z"
    }
   },
   "id": "66553cf7f45318f3",
   "execution_count": 109
  },
  {
   "cell_type": "code",
   "outputs": [
    {
     "data": {
      "text/plain": "TrainingArguments(\n_n_gpu=1,\nadafactor=False,\nadam_beta1=0.9,\nadam_beta2=0.999,\nadam_epsilon=1e-08,\nauto_find_batch_size=False,\nbf16=False,\nbf16_full_eval=False,\ndata_seed=None,\ndataloader_drop_last=False,\ndataloader_num_workers=0,\ndataloader_persistent_workers=False,\ndataloader_pin_memory=True,\nddp_backend=None,\nddp_broadcast_buffers=None,\nddp_bucket_cap_mb=None,\nddp_find_unused_parameters=None,\nddp_timeout=1800,\ndebug=[],\ndeepspeed=None,\ndisable_tqdm=False,\ndispatch_batches=None,\ndo_eval=False,\ndo_predict=False,\ndo_train=False,\neval_accumulation_steps=None,\neval_delay=0,\neval_steps=None,\nevaluation_strategy=IntervalStrategy.NO,\nfp16=False,\nfp16_backend=auto,\nfp16_full_eval=False,\nfp16_opt_level=O1,\nfsdp=[],\nfsdp_config={'min_num_params': 0, 'xla': False, 'xla_fsdp_grad_ckpt': False},\nfsdp_min_num_params=0,\nfsdp_transformer_layer_cls_to_wrap=None,\nfull_determinism=False,\ngradient_accumulation_steps=1,\ngradient_checkpointing=False,\ngradient_checkpointing_kwargs=None,\ngreater_is_better=None,\ngroup_by_length=False,\nhalf_precision_backend=auto,\nhub_always_push=False,\nhub_model_id=None,\nhub_private_repo=False,\nhub_strategy=HubStrategy.EVERY_SAVE,\nhub_token=<HUB_TOKEN>,\nignore_data_skip=False,\ninclude_inputs_for_metrics=False,\ninclude_num_input_tokens_seen=False,\ninclude_tokens_per_second=False,\njit_mode_eval=False,\nlabel_names=None,\nlabel_smoothing_factor=0.0,\nlearning_rate=5e-05,\nlength_column_name=length,\nload_best_model_at_end=False,\nlocal_rank=0,\nlog_level=passive,\nlog_level_replica=warning,\nlog_on_each_node=True,\nlogging_dir=models/5ep-lr-0/runs/Feb05_00-01-41_WIZARD,\nlogging_first_step=False,\nlogging_nan_inf_filter=True,\nlogging_steps=500,\nlogging_strategy=IntervalStrategy.STEPS,\nlr_scheduler_kwargs={},\nlr_scheduler_type=SchedulerType.INVERSE_SQRT,\nmax_grad_norm=1.0,\nmax_steps=-1,\nmetric_for_best_model=None,\nmp_parameters=,\nneftune_noise_alpha=None,\nno_cuda=False,\nnum_train_epochs=10,\noptim=OptimizerNames.ADAMW_TORCH,\noptim_args=None,\noutput_dir=models/5ep-lr-0,\noverwrite_output_dir=False,\npast_index=-1,\nper_device_eval_batch_size=256,\nper_device_train_batch_size=128,\nprediction_loss_only=False,\npush_to_hub=False,\npush_to_hub_model_id=None,\npush_to_hub_organization=None,\npush_to_hub_token=<PUSH_TO_HUB_TOKEN>,\nray_scope=last,\nremove_unused_columns=True,\nreport_to=[],\nresume_from_checkpoint=None,\nrun_name=models/5ep-lr-0,\nsave_on_each_node=False,\nsave_only_model=False,\nsave_safetensors=True,\nsave_steps=500,\nsave_strategy=IntervalStrategy.EPOCH,\nsave_total_limit=None,\nseed=1337,\nskip_memory_metrics=True,\nsplit_batches=False,\ntf32=None,\ntorch_compile=False,\ntorch_compile_backend=None,\ntorch_compile_mode=None,\ntorchdynamo=None,\ntpu_metrics_debug=False,\ntpu_num_cores=None,\nuse_cpu=False,\nuse_ipex=False,\nuse_legacy_prediction_loop=False,\nuse_mps_device=False,\nwarmup_ratio=0.0,\nwarmup_steps=500,\nweight_decay=0.01,\n)"
     },
     "execution_count": 110,
     "metadata": {},
     "output_type": "execute_result"
    }
   ],
   "source": [
    "args"
   ],
   "metadata": {
    "collapsed": false,
    "ExecuteTime": {
     "end_time": "2024-02-05T02:42:42.265443300Z",
     "start_time": "2024-02-05T02:42:42.193404400Z"
    }
   },
   "id": "f1dd0815e99b48c7",
   "execution_count": 110
  },
  {
   "cell_type": "code",
   "outputs": [],
   "source": [],
   "metadata": {
    "collapsed": false
   },
   "id": "4567698a3e6bd01e"
  }
 ],
 "metadata": {
  "kernelspec": {
   "display_name": "Python 3",
   "language": "python",
   "name": "python3"
  },
  "language_info": {
   "codemirror_mode": {
    "name": "ipython",
    "version": 2
   },
   "file_extension": ".py",
   "mimetype": "text/x-python",
   "name": "python",
   "nbconvert_exporter": "python",
   "pygments_lexer": "ipython2",
   "version": "2.7.6"
  }
 },
 "nbformat": 4,
 "nbformat_minor": 5
}
