{
 "cells": [
  {
   "cell_type": "markdown",
   "source": [
    "Import from our main project and also import the `reload` method if we decide to hot-reload a module"
   ],
   "metadata": {
    "collapsed": false
   },
   "id": "5f9e837a1e50e178"
  },
  {
   "cell_type": "code",
   "outputs": [],
   "source": [
    "import sys\n",
    "sys.path.extend(['../server', '../client'])\n",
    "\n",
    "import benchmark \n",
    "format_f1_scores = benchmark.format_f1_scores\n",
    "f1_scores = benchmark.f1_scores\n",
    "\n",
    "from importlib import reload\n"
   ],
   "metadata": {
    "collapsed": true,
    "ExecuteTime": {
     "end_time": "2024-02-03T16:53:39.514440400Z",
     "start_time": "2024-02-03T16:53:39.318706800Z"
    }
   },
   "id": "initial_id",
   "execution_count": 2
  },
  {
   "cell_type": "markdown",
   "source": [
    "Perform training on GPU"
   ],
   "metadata": {
    "collapsed": false
   },
   "id": "e595ef02c8fa9604"
  },
  {
   "cell_type": "code",
   "outputs": [],
   "source": [
    "import torch \n",
    "device = torch.device(\"cuda\")"
   ],
   "metadata": {
    "collapsed": false,
    "ExecuteTime": {
     "end_time": "2024-02-03T16:54:10.104456600Z",
     "start_time": "2024-02-03T16:54:09.025840600Z"
    }
   },
   "id": "6e8726ed9f5bcc55",
   "execution_count": 3
  },
  {
   "cell_type": "markdown",
   "source": [
    "Import data (do not use NumPy arrays this time)"
   ],
   "metadata": {
    "collapsed": false
   },
   "id": "881d50ef71fe561"
  },
  {
   "cell_type": "code",
   "outputs": [],
   "source": [
    "import csv\n",
    "from collections import defaultdict\n",
    "\n",
    "from sklearn import metrics\n",
    "from sklearn.model_selection import train_test_split\n",
    "\n",
    "SEED = 1337\n",
    "\n",
    "with open('../data/atis/train.tsv', 'rt') as f:\n",
    "    reader = csv.reader(f, delimiter='\\t')\n",
    "    data = list(reader)\n",
    "    data_x = [row[0] for row in data]\n",
    "    data_y = [row[1] for row in data]\n",
    "\n",
    "data_x_train, data_x_val, data_y_train, data_y_val = train_test_split(data_x, data_y, test_size=0.2, random_state=SEED)\n",
    "\n",
    "def val_accuracy(f):\n",
    "    print(metrics.accuracy_score(data_y_val, f(data_x_val)))\n",
    "\n",
    "data_x_words = sorted({w for x in data_x_train for w in x.split(' ')})\n",
    "\n",
    "by_label = defaultdict(list)\n",
    "for x, y in zip(data_x_train, data_y_train):\n",
    "    by_label[y].append(x)\n",
    "labels = set(by_label)\n",
    "\n",
    "SCORE_DATA = { \"train\": [data_x_train, data_y_train], \"val\": [data_x_val, data_y_val]}\n",
    "\n",
    "def confusion(model, on_data : tuple[list[str], list[str]]):\n",
    "    cm = defaultdict(lambda: defaultdict(int))\n",
    "    for x, y in zip(*on_data):\n",
    "        cm[y][model(x)] += 1\n",
    "    return cm\n",
    "\n",
    "def print_f1_scores(model, data_key=\"train\"):\n",
    "    print(format_f1_scores(f1_scores(confusion(model, SCORE_DATA[data_key]))))\n"
   ],
   "metadata": {
    "collapsed": false,
    "ExecuteTime": {
     "end_time": "2024-02-03T16:55:30.461576800Z",
     "start_time": "2024-02-03T16:55:29.733988700Z"
    }
   },
   "id": "6571f9f9973cde21",
   "execution_count": 4
  },
  {
   "cell_type": "markdown",
   "source": [
    "Import the same transformers classifiers as the last time and use the GPU:"
   ],
   "metadata": {
    "collapsed": false
   },
   "id": "f44ab55f24cfbacb"
  },
  {
   "cell_type": "code",
   "outputs": [],
   "source": [
    "from transformers import pipeline\n",
    "\n",
    "tr_model_names = [\n",
    "    \"MoritzLaurer/multilingual-MiniLMv2-L6-mnli-xnli\", # 100m parameters\n",
    "    \"MoritzLaurer/DeBERTa-v3-base-mnli-fever-anli\", # 200m parameters\n",
    "    \"facebook/bart-large-mnli\", # 400m parameters\n",
    "]\n",
    "\n",
    "tr_models = [pipeline(\"zero-shot-classification\", model=name, device=device) \n",
    "             for name in tr_model_names]\n",
    "\n",
    "BATCH_SIZE = 128\n",
    "\n",
    "def into_my_model(transformer_model):\n",
    "    def as_model(xs):\n",
    "        results = transformer_model(xs, batch_size=BATCH_SIZE, candidate_labels=sorted(labels))\n",
    "        return [result['labels'][0] for result in results]\n",
    "    return as_model\n",
    "\n",
    "my_models = [into_my_model(model) for model in tr_models] "
   ],
   "metadata": {
    "collapsed": false,
    "ExecuteTime": {
     "end_time": "2024-02-03T17:30:56.737158200Z",
     "start_time": "2024-02-03T17:30:52.540888700Z"
    }
   },
   "id": "724f29420d0f2662",
   "execution_count": 17
  },
  {
   "cell_type": "markdown",
   "source": [
    "Perform a quick test:"
   ],
   "metadata": {
    "collapsed": false
   },
   "id": "33f8f8653f6f4bdc"
  },
  {
   "cell_type": "code",
   "outputs": [
    {
     "data": {
      "text/plain": "['flight', 'capacity']"
     },
     "execution_count": 18,
     "metadata": {},
     "output_type": "execute_result"
    }
   ],
   "source": [
    "SCORE_DATA[\"2\"] = ['fly to nyc', 'take a taxi to penn station'], ['flight', 'ground_service']\n",
    "my_models[0](SCORE_DATA[\"2\"][0])"
   ],
   "metadata": {
    "collapsed": false,
    "ExecuteTime": {
     "end_time": "2024-02-03T17:31:16.612892100Z",
     "start_time": "2024-02-03T17:31:16.271929900Z"
    }
   },
   "id": "251f875d91b55072",
   "execution_count": 18
  },
  {
   "cell_type": "markdown",
   "source": [
    "Let's use a more professional-looking context manager when measuring time:\n",
    "\n"
   ],
   "metadata": {
    "collapsed": false
   },
   "id": "f8af81e549cafe85"
  },
  {
   "cell_type": "code",
   "outputs": [],
   "source": [
    "import time\n",
    "\n",
    "class Timer:\n",
    "    def __enter__(self):\n",
    "        self.start = time.time()\n",
    "        self.laps = []\n",
    "        return self\n",
    "\n",
    "    def __exit__(self, *args):\n",
    "        pass\n",
    "    \n",
    "    @property \n",
    "    def elapsed(self):\n",
    "        return time.time() - self.start\n",
    "    \n",
    "    def lap(self):\n",
    "        self.laps.append(self.elapsed)\n",
    "        self.start += self.laps[-1]    \n",
    "\n",
    "    @property \n",
    "    def average_lap(self):\n",
    "        return sum(self.laps) / len(self.laps)\n",
    "\n",
    "# Usage example:\n",
    "with Timer() as t:\n",
    "    assert t.elapsed < 0.1\n",
    "    time.sleep(0.5)\n",
    "    assert 0.4 < t.elapsed < 0.6\n",
    "    t.lap()\n",
    "    assert t.elapsed < 0.1\n",
    "    assert len(t.laps) == 1\n",
    "    t.lap()\n",
    "    assert 0.2 < t.average_lap < 0.3\n"
   ],
   "metadata": {
    "collapsed": false,
    "ExecuteTime": {
     "end_time": "2024-02-03T17:34:54.690733200Z",
     "start_time": "2024-02-03T17:34:54.137525300Z"
    }
   },
   "id": "59919cd3d37cea26",
   "execution_count": 23
  },
  {
   "cell_type": "markdown",
   "source": [
    "Convert our naive arrays to GPU tensors"
   ],
   "metadata": {
    "collapsed": false
   },
   "id": "ae96cbd7f21fbd89"
  },
  {
   "cell_type": "code",
   "outputs": [],
   "source": [
    "from datasets import Dataset\n",
    "\n",
    "def convert_to_gpu_dataset(x):\n",
    "    d = Dataset.from_dict({'data': x})\n",
    "    return d.with_format(\"torch\", device=device)\n",
    "\n",
    "SCORE_DATASET = {\n",
    "    key: [convert_to_gpu_dataset(d) for d in values] \n",
    "    for key, values in SCORE_DATA.items()\n",
    "}    "
   ],
   "metadata": {
    "collapsed": false,
    "ExecuteTime": {
     "end_time": "2024-02-03T17:25:24.033334900Z",
     "start_time": "2024-02-03T17:25:19.644734100Z"
    }
   },
   "id": "afd28bb2085d47d2",
   "execution_count": 12
  },
  {
   "cell_type": "code",
   "outputs": [],
   "source": [
    "def confusion_batch(model, on_data : tuple[Dataset, Dataset]):\n",
    "    results = model(on_data[0]['data'])\n",
    "    cm = defaultdict(lambda: defaultdict(int))\n",
    "    for y, y_ in zip(on_data[1]['data'], results):\n",
    "        cm[y][y_] += 1\n",
    "    return cm\n",
    "        "
   ],
   "metadata": {
    "collapsed": false,
    "ExecuteTime": {
     "end_time": "2024-02-03T17:31:32.404833Z",
     "start_time": "2024-02-03T17:31:32.399804200Z"
    }
   },
   "id": "b3c0adad574a15f3",
   "execution_count": 20
  },
  {
   "cell_type": "markdown",
   "source": [
    "Now that we use the GPU for inference and the datasets are preloaded,\n",
    "we can check the inference time and the validation results."
   ],
   "metadata": {
    "collapsed": false
   },
   "id": "21b576096b07700d"
  },
  {
   "cell_type": "code",
   "outputs": [
    {
     "name": "stdout",
     "output_type": "stream",
     "text": [
      "  abbreviation (\u001B[36m56\u001B[0m, \u001B[36m115\u001B[0m, \u001B[36m37\u001B[0m): \u001B[32m0.42\u001B[0m\n",
      "  aircraft (\u001B[36m30\u001B[0m, \u001B[36m7\u001B[0m, \u001B[36m28\u001B[0m): \u001B[32m0.63\u001B[0m\n",
      "  airfare (\u001B[36m14\u001B[0m, \u001B[36m3\u001B[0m, \u001B[36m305\u001B[0m): \u001B[32m0.083\u001B[0m\n",
      "  airfare+flight_time (\u001B[36m0\u001B[0m, \u001B[36m0\u001B[0m, \u001B[36m1\u001B[0m): \u001B[32m0.0\u001B[0m\n",
      "  airline (\u001B[36m70\u001B[0m, \u001B[36m59\u001B[0m, \u001B[36m48\u001B[0m): \u001B[32m0.57\u001B[0m\n",
      "  airline+flight_no (\u001B[36m0\u001B[0m, \u001B[36m1\u001B[0m, \u001B[36m1\u001B[0m): \u001B[32m0.0\u001B[0m\n",
      "  airport (\u001B[36m12\u001B[0m, \u001B[36m65\u001B[0m, \u001B[36m1\u001B[0m): \u001B[32m0.27\u001B[0m\n",
      "  capacity (\u001B[36m6\u001B[0m, \u001B[36m66\u001B[0m, \u001B[36m5\u001B[0m): \u001B[32m0.14\u001B[0m\n",
      "  cheapest (\u001B[36m1\u001B[0m, \u001B[36m149\u001B[0m, \u001B[36m0\u001B[0m): \u001B[32m0.013\u001B[0m\n",
      "  city (\u001B[36m5\u001B[0m, \u001B[36m3\u001B[0m, \u001B[36m10\u001B[0m): \u001B[32m0.43\u001B[0m\n",
      "  distance (\u001B[36m7\u001B[0m, \u001B[36m153\u001B[0m, \u001B[36m6\u001B[0m): \u001B[32m0.081\u001B[0m\n",
      "  flight (\u001B[36m2259\u001B[0m, \u001B[36m135\u001B[0m, \u001B[36m496\u001B[0m): \u001B[32m0.88\u001B[0m\n",
      "  flight+airfare (\u001B[36m9\u001B[0m, \u001B[36m122\u001B[0m, \u001B[36m5\u001B[0m): \u001B[32m0.12\u001B[0m\n",
      "  flight_no (\u001B[36m0\u001B[0m, \u001B[36m31\u001B[0m, \u001B[36m9\u001B[0m): \u001B[32m0.0\u001B[0m\n",
      "  flight_time (\u001B[36m17\u001B[0m, \u001B[36m15\u001B[0m, \u001B[36m27\u001B[0m): \u001B[32m0.45\u001B[0m\n",
      "  ground_fare (\u001B[36m1\u001B[0m, \u001B[36m118\u001B[0m, \u001B[36m13\u001B[0m): \u001B[32m0.015\u001B[0m\n",
      "  ground_service (\u001B[36m8\u001B[0m, \u001B[36m0\u001B[0m, \u001B[36m177\u001B[0m): \u001B[32m0.083\u001B[0m\n",
      "  meal (\u001B[36m2\u001B[0m, \u001B[36m45\u001B[0m, \u001B[36m0\u001B[0m): \u001B[32m0.082\u001B[0m\n",
      "  quantity (\u001B[36m0\u001B[0m, \u001B[36m46\u001B[0m, \u001B[36m37\u001B[0m): \u001B[32m0.0\u001B[0m\n",
      "  restriction (\u001B[36m4\u001B[0m, \u001B[36m73\u001B[0m, \u001B[36m0\u001B[0m): \u001B[32m0.099\u001B[0m\n",
      "  AVERAGE (\u001B[36m20\u001B[0m): \u001B[32m0.22\u001B[0m\n",
      "  abbreviation (\u001B[36m86\u001B[0m, \u001B[36m87\u001B[0m, \u001B[36m7\u001B[0m): \u001B[32m0.65\u001B[0m\n",
      "  aircraft (\u001B[36m10\u001B[0m, \u001B[36m914\u001B[0m, \u001B[36m48\u001B[0m): \u001B[32m0.02\u001B[0m\n",
      "  airfare (\u001B[36m229\u001B[0m, \u001B[36m1340\u001B[0m, \u001B[36m90\u001B[0m): \u001B[32m0.24\u001B[0m\n",
      "  airfare+flight_time (\u001B[36m0\u001B[0m, \u001B[36m7\u001B[0m, \u001B[36m1\u001B[0m): \u001B[32m0.0\u001B[0m\n",
      "  airline (\u001B[36m0\u001B[0m, \u001B[36m65\u001B[0m, \u001B[36m118\u001B[0m): \u001B[32m0.0\u001B[0m\n",
      "  airline+flight_no (\u001B[36m0\u001B[0m, \u001B[36m16\u001B[0m, \u001B[36m1\u001B[0m): \u001B[32m0.0\u001B[0m\n",
      "  airport (\u001B[36m7\u001B[0m, \u001B[36m25\u001B[0m, \u001B[36m6\u001B[0m): \u001B[32m0.31\u001B[0m\n",
      "  capacity (\u001B[36m2\u001B[0m, \u001B[36m2\u001B[0m, \u001B[36m9\u001B[0m): \u001B[32m0.27\u001B[0m\n",
      "  cheapest (\u001B[36m0\u001B[0m, \u001B[36m3\u001B[0m, \u001B[36m1\u001B[0m): \u001B[32m0.0\u001B[0m\n",
      "  city (\u001B[36m1\u001B[0m, \u001B[36m2\u001B[0m, \u001B[36m14\u001B[0m): \u001B[32m0.11\u001B[0m\n",
      "  distance (\u001B[36m9\u001B[0m, \u001B[36m549\u001B[0m, \u001B[36m4\u001B[0m): \u001B[32m0.032\u001B[0m\n",
      "  flight (\u001B[36m81\u001B[0m, \u001B[36m17\u001B[0m, \u001B[36m2674\u001B[0m): \u001B[32m0.057\u001B[0m\n",
      "  flight+airfare (\u001B[36m5\u001B[0m, \u001B[36m118\u001B[0m, \u001B[36m9\u001B[0m): \u001B[32m0.073\u001B[0m\n",
      "  flight_no (\u001B[36m0\u001B[0m, \u001B[36m0\u001B[0m, \u001B[36m9\u001B[0m): \u001B[32m0.0\u001B[0m\n",
      "  flight_time (\u001B[36m0\u001B[0m, \u001B[36m1\u001B[0m, \u001B[36m44\u001B[0m): \u001B[32m0.0\u001B[0m\n",
      "  ground_fare (\u001B[36m0\u001B[0m, \u001B[36m1\u001B[0m, \u001B[36m14\u001B[0m): \u001B[32m0.0\u001B[0m\n",
      "  ground_service (\u001B[36m49\u001B[0m, \u001B[36m0\u001B[0m, \u001B[36m136\u001B[0m): \u001B[32m0.42\u001B[0m\n",
      "  meal (\u001B[36m0\u001B[0m, \u001B[36m0\u001B[0m, \u001B[36m2\u001B[0m): \u001B[32m0.0\u001B[0m\n",
      "  quantity (\u001B[36m36\u001B[0m, \u001B[36m22\u001B[0m, \u001B[36m1\u001B[0m): \u001B[32m0.76\u001B[0m\n",
      "  restriction (\u001B[36m0\u001B[0m, \u001B[36m23\u001B[0m, \u001B[36m4\u001B[0m): \u001B[32m0.0\u001B[0m\n",
      "  AVERAGE (\u001B[36m20\u001B[0m): \u001B[32m0.15\u001B[0m\n",
      "  abbreviation (\u001B[36m77\u001B[0m, \u001B[36m91\u001B[0m, \u001B[36m16\u001B[0m): \u001B[32m0.59\u001B[0m\n",
      "  aircraft (\u001B[36m51\u001B[0m, \u001B[36m24\u001B[0m, \u001B[36m7\u001B[0m): \u001B[32m0.77\u001B[0m\n",
      "  airfare (\u001B[36m167\u001B[0m, \u001B[36m664\u001B[0m, \u001B[36m152\u001B[0m): \u001B[32m0.29\u001B[0m\n",
      "  airfare+flight_time (\u001B[36m0\u001B[0m, \u001B[36m3\u001B[0m, \u001B[36m1\u001B[0m): \u001B[32m0.0\u001B[0m\n",
      "  airline (\u001B[36m48\u001B[0m, \u001B[36m156\u001B[0m, \u001B[36m70\u001B[0m): \u001B[32m0.3\u001B[0m\n",
      "  airline+flight_no (\u001B[36m0\u001B[0m, \u001B[36m1\u001B[0m, \u001B[36m1\u001B[0m): \u001B[32m0.0\u001B[0m\n",
      "  airport (\u001B[36m11\u001B[0m, \u001B[36m98\u001B[0m, \u001B[36m2\u001B[0m): \u001B[32m0.18\u001B[0m\n",
      "  capacity (\u001B[36m7\u001B[0m, \u001B[36m2\u001B[0m, \u001B[36m4\u001B[0m): \u001B[32m0.7\u001B[0m\n",
      "  cheapest (\u001B[36m0\u001B[0m, \u001B[36m10\u001B[0m, \u001B[36m1\u001B[0m): \u001B[32m0.0\u001B[0m\n",
      "  city (\u001B[36m2\u001B[0m, \u001B[36m89\u001B[0m, \u001B[36m13\u001B[0m): \u001B[32m0.038\u001B[0m\n",
      "  distance (\u001B[36m11\u001B[0m, \u001B[36m136\u001B[0m, \u001B[36m2\u001B[0m): \u001B[32m0.14\u001B[0m\n",
      "  flight (\u001B[36m1680\u001B[0m, \u001B[36m102\u001B[0m, \u001B[36m1075\u001B[0m): \u001B[32m0.74\u001B[0m\n",
      "  flight+airfare (\u001B[36m7\u001B[0m, \u001B[36m206\u001B[0m, \u001B[36m7\u001B[0m): \u001B[32m0.062\u001B[0m\n",
      "  flight_no (\u001B[36m0\u001B[0m, \u001B[36m1\u001B[0m, \u001B[36m9\u001B[0m): \u001B[32m0.0\u001B[0m\n",
      "  flight_time (\u001B[36m0\u001B[0m, \u001B[36m1\u001B[0m, \u001B[36m44\u001B[0m): \u001B[32m0.0\u001B[0m\n",
      "  ground_fare (\u001B[36m0\u001B[0m, \u001B[36m1\u001B[0m, \u001B[36m14\u001B[0m): \u001B[32m0.0\u001B[0m\n",
      "  ground_service (\u001B[36m29\u001B[0m, \u001B[36m0\u001B[0m, \u001B[36m156\u001B[0m): \u001B[32m0.27\u001B[0m\n",
      "  meal (\u001B[36m1\u001B[0m, \u001B[36m7\u001B[0m, \u001B[36m1\u001B[0m): \u001B[32m0.2\u001B[0m\n",
      "  quantity (\u001B[36m2\u001B[0m, \u001B[36m2\u001B[0m, \u001B[36m35\u001B[0m): \u001B[32m0.098\u001B[0m\n",
      "  restriction (\u001B[36m1\u001B[0m, \u001B[36m19\u001B[0m, \u001B[36m3\u001B[0m): \u001B[32m0.083\u001B[0m\n",
      "  AVERAGE (\u001B[36m20\u001B[0m): \u001B[32m0.22\u001B[0m\n",
      "this took [13.208370685577393, 52.29733872413635, 135.33391213417053] seconds\n"
     ]
    }
   ],
   "source": [
    "with Timer() as t:\n",
    "    for model in my_models:\n",
    "        print(format_f1_scores(f1_scores(confusion_batch(model, SCORE_DATASET[\"train\"]))))\n",
    "        t.lap()\n",
    "  \n",
    "    print(\"this took {} seconds\".format(t.laps))\n"
   ],
   "metadata": {
    "collapsed": false,
    "ExecuteTime": {
     "end_time": "2024-02-03T17:41:29.232760500Z",
     "start_time": "2024-02-03T17:38:08.373251300Z"
    }
   },
   "id": "81089bd3a0bc7cc1",
   "execution_count": 24
  },
  {
   "cell_type": "code",
   "outputs": [
    {
     "name": "stderr",
     "output_type": "stream",
     "text": [
      "Asking to truncate to max_length but no maximum length is provided and the model has no predefined maximum length. Default to no truncation.\n"
     ]
    },
    {
     "name": "stdout",
     "output_type": "stream",
     "text": [
      "  abbreviation (\u001B[36m8\u001B[0m, \u001B[36m24\u001B[0m, \u001B[36m7\u001B[0m): \u001B[32m0.34\u001B[0m\n",
      "  aircraft (\u001B[36m12\u001B[0m, \u001B[36m2\u001B[0m, \u001B[36m8\u001B[0m): \u001B[32m0.71\u001B[0m\n",
      "  aircraft+flight+flight_no (\u001B[36m0\u001B[0m, \u001B[36m0\u001B[0m, \u001B[36m1\u001B[0m): \u001B[32m0.0\u001B[0m\n",
      "  airfare (\u001B[36m6\u001B[0m, \u001B[36m0\u001B[0m, \u001B[36m78\u001B[0m): \u001B[32m0.13\u001B[0m\n",
      "  airline (\u001B[36m18\u001B[0m, \u001B[36m15\u001B[0m, \u001B[36m12\u001B[0m): \u001B[32m0.57\u001B[0m\n",
      "  airline+flight_no (\u001B[36m0\u001B[0m, \u001B[36m0\u001B[0m, \u001B[36m1\u001B[0m): \u001B[32m0.0\u001B[0m\n",
      "  airport (\u001B[36m5\u001B[0m, \u001B[36m21\u001B[0m, \u001B[36m0\u001B[0m): \u001B[32m0.32\u001B[0m\n",
      "  capacity (\u001B[36m3\u001B[0m, \u001B[36m15\u001B[0m, \u001B[36m2\u001B[0m): \u001B[32m0.26\u001B[0m\n",
      "  cheapest (\u001B[36m0\u001B[0m, \u001B[36m45\u001B[0m, \u001B[36m0\u001B[0m): \u001B[32m0.0\u001B[0m\n",
      "  city (\u001B[36m2\u001B[0m, \u001B[36m3\u001B[0m, \u001B[36m1\u001B[0m): \u001B[32m0.5\u001B[0m\n",
      "  distance (\u001B[36m1\u001B[0m, \u001B[36m50\u001B[0m, \u001B[36m6\u001B[0m): \u001B[32m0.034\u001B[0m\n",
      "  flight (\u001B[36m548\u001B[0m, \u001B[36m38\u001B[0m, \u001B[36m123\u001B[0m): \u001B[32m0.87\u001B[0m\n",
      "  flight+airfare (\u001B[36m2\u001B[0m, \u001B[36m31\u001B[0m, \u001B[36m1\u001B[0m): \u001B[32m0.11\u001B[0m\n",
      "  flight_no (\u001B[36m0\u001B[0m, \u001B[36m8\u001B[0m, \u001B[36m3\u001B[0m): \u001B[32m0.0\u001B[0m\n",
      "  flight_time (\u001B[36m2\u001B[0m, \u001B[36m1\u001B[0m, \u001B[36m6\u001B[0m): \u001B[32m0.36\u001B[0m\n",
      "  ground_fare (\u001B[36m0\u001B[0m, \u001B[36m36\u001B[0m, \u001B[36m3\u001B[0m): \u001B[32m0.0\u001B[0m\n",
      "  ground_service (\u001B[36m1\u001B[0m, \u001B[36m0\u001B[0m, \u001B[36m49\u001B[0m): \u001B[32m0.039\u001B[0m\n",
      "  ground_service+ground_fare (\u001B[36m0\u001B[0m, \u001B[36m0\u001B[0m, \u001B[36m1\u001B[0m): \u001B[32m0.0\u001B[0m\n",
      "  meal (\u001B[36m4\u001B[0m, \u001B[36m7\u001B[0m, \u001B[36m0\u001B[0m): \u001B[32m0.53\u001B[0m\n",
      "  quantity (\u001B[36m0\u001B[0m, \u001B[36m9\u001B[0m, \u001B[36m12\u001B[0m): \u001B[32m0.0\u001B[0m\n",
      "  restriction (\u001B[36m1\u001B[0m, \u001B[36m9\u001B[0m, \u001B[36m0\u001B[0m): \u001B[32m0.18\u001B[0m\n",
      "  AVERAGE (\u001B[36m21\u001B[0m): \u001B[32m0.24\u001B[0m\n",
      "  abbreviation (\u001B[36m12\u001B[0m, \u001B[36m20\u001B[0m, \u001B[36m3\u001B[0m): \u001B[32m0.51\u001B[0m\n",
      "  aircraft (\u001B[36m4\u001B[0m, \u001B[36m231\u001B[0m, \u001B[36m16\u001B[0m): \u001B[32m0.031\u001B[0m\n",
      "  aircraft+flight+flight_no (\u001B[36m0\u001B[0m, \u001B[36m0\u001B[0m, \u001B[36m1\u001B[0m): \u001B[32m0.0\u001B[0m\n",
      "  airfare (\u001B[36m63\u001B[0m, \u001B[36m336\u001B[0m, \u001B[36m21\u001B[0m): \u001B[32m0.26\u001B[0m\n",
      "  airfare+flight_time (\u001B[36m0\u001B[0m, \u001B[36m2\u001B[0m, \u001B[36m0\u001B[0m): \u001B[32m0.0\u001B[0m\n",
      "  airline (\u001B[36m0\u001B[0m, \u001B[36m12\u001B[0m, \u001B[36m30\u001B[0m): \u001B[32m0.0\u001B[0m\n",
      "  airline+flight_no (\u001B[36m0\u001B[0m, \u001B[36m4\u001B[0m, \u001B[36m1\u001B[0m): \u001B[32m0.0\u001B[0m\n",
      "  airport (\u001B[36m2\u001B[0m, \u001B[36m9\u001B[0m, \u001B[36m3\u001B[0m): \u001B[32m0.25\u001B[0m\n",
      "  capacity (\u001B[36m0\u001B[0m, \u001B[36m0\u001B[0m, \u001B[36m5\u001B[0m): \u001B[32m0.0\u001B[0m\n",
      "  city (\u001B[36m0\u001B[0m, \u001B[36m2\u001B[0m, \u001B[36m3\u001B[0m): \u001B[32m0.0\u001B[0m\n",
      "  distance (\u001B[36m6\u001B[0m, \u001B[36m135\u001B[0m, \u001B[36m1\u001B[0m): \u001B[32m0.081\u001B[0m\n",
      "  flight (\u001B[36m27\u001B[0m, \u001B[36m1\u001B[0m, \u001B[36m644\u001B[0m): \u001B[32m0.077\u001B[0m\n",
      "  flight+airfare (\u001B[36m1\u001B[0m, \u001B[36m28\u001B[0m, \u001B[36m2\u001B[0m): \u001B[32m0.062\u001B[0m\n",
      "  flight_no (\u001B[36m0\u001B[0m, \u001B[36m0\u001B[0m, \u001B[36m3\u001B[0m): \u001B[32m0.0\u001B[0m\n",
      "  flight_time (\u001B[36m0\u001B[0m, \u001B[36m0\u001B[0m, \u001B[36m8\u001B[0m): \u001B[32m0.0\u001B[0m\n",
      "  ground_fare (\u001B[36m0\u001B[0m, \u001B[36m1\u001B[0m, \u001B[36m3\u001B[0m): \u001B[32m0.0\u001B[0m\n",
      "  ground_service (\u001B[36m10\u001B[0m, \u001B[36m0\u001B[0m, \u001B[36m40\u001B[0m): \u001B[32m0.33\u001B[0m\n",
      "  ground_service+ground_fare (\u001B[36m0\u001B[0m, \u001B[36m0\u001B[0m, \u001B[36m1\u001B[0m): \u001B[32m0.0\u001B[0m\n",
      "  meal (\u001B[36m0\u001B[0m, \u001B[36m0\u001B[0m, \u001B[36m4\u001B[0m): \u001B[32m0.0\u001B[0m\n",
      "  quantity (\u001B[36m11\u001B[0m, \u001B[36m4\u001B[0m, \u001B[36m1\u001B[0m): \u001B[32m0.81\u001B[0m\n",
      "  restriction (\u001B[36m0\u001B[0m, \u001B[36m6\u001B[0m, \u001B[36m1\u001B[0m): \u001B[32m0.0\u001B[0m\n",
      "  AVERAGE (\u001B[36m21\u001B[0m): \u001B[32m0.12\u001B[0m\n",
      "  abbreviation (\u001B[36m11\u001B[0m, \u001B[36m12\u001B[0m, \u001B[36m4\u001B[0m): \u001B[32m0.58\u001B[0m\n",
      "  aircraft (\u001B[36m16\u001B[0m, \u001B[36m5\u001B[0m, \u001B[36m4\u001B[0m): \u001B[32m0.78\u001B[0m\n",
      "  aircraft+flight+flight_no (\u001B[36m0\u001B[0m, \u001B[36m0\u001B[0m, \u001B[36m1\u001B[0m): \u001B[32m0.0\u001B[0m\n",
      "  airfare (\u001B[36m40\u001B[0m, \u001B[36m153\u001B[0m, \u001B[36m44\u001B[0m): \u001B[32m0.29\u001B[0m\n",
      "  airfare+flight_time (\u001B[36m0\u001B[0m, \u001B[36m1\u001B[0m, \u001B[36m0\u001B[0m): \u001B[32m0.0\u001B[0m\n",
      "  airline (\u001B[36m13\u001B[0m, \u001B[36m37\u001B[0m, \u001B[36m17\u001B[0m): \u001B[32m0.33\u001B[0m\n",
      "  airline+flight_no (\u001B[36m0\u001B[0m, \u001B[36m3\u001B[0m, \u001B[36m1\u001B[0m): \u001B[32m0.0\u001B[0m\n",
      "  airport (\u001B[36m5\u001B[0m, \u001B[36m22\u001B[0m, \u001B[36m0\u001B[0m): \u001B[32m0.31\u001B[0m\n",
      "  capacity (\u001B[36m3\u001B[0m, \u001B[36m0\u001B[0m, \u001B[36m2\u001B[0m): \u001B[32m0.75\u001B[0m\n",
      "  city (\u001B[36m1\u001B[0m, \u001B[36m27\u001B[0m, \u001B[36m2\u001B[0m): \u001B[32m0.065\u001B[0m\n",
      "  distance (\u001B[36m5\u001B[0m, \u001B[36m44\u001B[0m, \u001B[36m2\u001B[0m): \u001B[32m0.18\u001B[0m\n",
      "  flight (\u001B[36m412\u001B[0m, \u001B[36m29\u001B[0m, \u001B[36m259\u001B[0m): \u001B[32m0.74\u001B[0m\n",
      "  flight+airfare (\u001B[36m3\u001B[0m, \u001B[36m64\u001B[0m, \u001B[36m0\u001B[0m): \u001B[32m0.086\u001B[0m\n",
      "  flight_no (\u001B[36m1\u001B[0m, \u001B[36m1\u001B[0m, \u001B[36m2\u001B[0m): \u001B[32m0.4\u001B[0m\n",
      "  flight_time (\u001B[36m0\u001B[0m, \u001B[36m0\u001B[0m, \u001B[36m8\u001B[0m): \u001B[32m0.0\u001B[0m\n",
      "  ground_fare (\u001B[36m0\u001B[0m, \u001B[36m1\u001B[0m, \u001B[36m3\u001B[0m): \u001B[32m0.0\u001B[0m\n",
      "  ground_service (\u001B[36m8\u001B[0m, \u001B[36m0\u001B[0m, \u001B[36m42\u001B[0m): \u001B[32m0.28\u001B[0m\n",
      "  ground_service+ground_fare (\u001B[36m0\u001B[0m, \u001B[36m0\u001B[0m, \u001B[36m1\u001B[0m): \u001B[32m0.0\u001B[0m\n",
      "  meal (\u001B[36m1\u001B[0m, \u001B[36m1\u001B[0m, \u001B[36m3\u001B[0m): \u001B[32m0.33\u001B[0m\n",
      "  quantity (\u001B[36m1\u001B[0m, \u001B[36m0\u001B[0m, \u001B[36m11\u001B[0m): \u001B[32m0.15\u001B[0m\n",
      "  restriction (\u001B[36m1\u001B[0m, \u001B[36m6\u001B[0m, \u001B[36m0\u001B[0m): \u001B[32m0.25\u001B[0m\n",
      "  AVERAGE (\u001B[36m21\u001B[0m): \u001B[32m0.26\u001B[0m\n",
      "this took [3.4023900032043457, 13.07123327255249, 33.18706512451172] seconds\n"
     ]
    }
   ],
   "source": [
    "with Timer() as t:\n",
    "    for model in my_models:\n",
    "        print(format_f1_scores(f1_scores(confusion_batch(model, SCORE_DATASET[\"val\"]))))\n",
    "        t.lap()\n",
    "  \n",
    "    print(\"this took {} seconds\".format(t.laps))\n"
   ],
   "metadata": {
    "collapsed": false,
    "ExecuteTime": {
     "end_time": "2024-02-03T17:33:18.617358500Z",
     "start_time": "2024-02-03T17:32:28.940457700Z"
    }
   },
   "id": "fb28cd3e4d9da787",
   "execution_count": 22
  },
  {
   "cell_type": "markdown",
   "source": [
    "Let's also try this 33m parameter model:"
   ],
   "metadata": {
    "collapsed": false
   },
   "id": "a8022b62ab06b22e"
  },
  {
   "cell_type": "code",
   "outputs": [
    {
     "data": {
      "text/plain": "config.json:   0%|          | 0.00/956 [00:00<?, ?B/s]",
      "application/vnd.jupyter.widget-view+json": {
       "version_major": 2,
       "version_minor": 0,
       "model_id": "ad02928421c447e1add4f9c9d57b7aa2"
      }
     },
     "metadata": {},
     "output_type": "display_data"
    },
    {
     "data": {
      "text/plain": "model.safetensors:   0%|          | 0.00/66.7M [00:00<?, ?B/s]",
      "application/vnd.jupyter.widget-view+json": {
       "version_major": 2,
       "version_minor": 0,
       "model_id": "33e061b2b85841759e523b12b2d993e6"
      }
     },
     "metadata": {},
     "output_type": "display_data"
    },
    {
     "data": {
      "text/plain": "tokenizer_config.json:   0%|          | 0.00/1.24k [00:00<?, ?B/s]",
      "application/vnd.jupyter.widget-view+json": {
       "version_major": 2,
       "version_minor": 0,
       "model_id": "e23339cdbe3d4fd5aab2817b75df67f4"
      }
     },
     "metadata": {},
     "output_type": "display_data"
    },
    {
     "data": {
      "text/plain": "vocab.txt:   0%|          | 0.00/232k [00:00<?, ?B/s]",
      "application/vnd.jupyter.widget-view+json": {
       "version_major": 2,
       "version_minor": 0,
       "model_id": "c4c09391478e4672b339a473cfbe769d"
      }
     },
     "metadata": {},
     "output_type": "display_data"
    },
    {
     "data": {
      "text/plain": "tokenizer.json:   0%|          | 0.00/711k [00:00<?, ?B/s]",
      "application/vnd.jupyter.widget-view+json": {
       "version_major": 2,
       "version_minor": 0,
       "model_id": "bc44c739bd5742cab9a05512df6ab148"
      }
     },
     "metadata": {},
     "output_type": "display_data"
    },
    {
     "data": {
      "text/plain": "special_tokens_map.json:   0%|          | 0.00/695 [00:00<?, ?B/s]",
      "application/vnd.jupyter.widget-view+json": {
       "version_major": 2,
       "version_minor": 0,
       "model_id": "52ca4468dbba45f5a130d74ef8ef6eb2"
      }
     },
     "metadata": {},
     "output_type": "display_data"
    }
   ],
   "source": [
    "small_model_name = \"pszemraj/xtremedistil-l12-h384-uncased-zeroshot-v1.1\"\n",
    "small_model = into_my_model(pipeline(\"zero-shot-classification\", device=device, model = small_model_name))"
   ],
   "metadata": {
    "collapsed": false,
    "ExecuteTime": {
     "end_time": "2024-02-03T18:35:14.100064700Z",
     "start_time": "2024-02-03T18:35:06.991218600Z"
    }
   },
   "id": "ca9e56ced6a8396f",
   "execution_count": 25
  },
  {
   "cell_type": "code",
   "outputs": [
    {
     "name": "stdout",
     "output_type": "stream",
     "text": [
      "  abbreviation (\u001B[36m11\u001B[0m, \u001B[36m4\u001B[0m, \u001B[36m4\u001B[0m): \u001B[32m0.73\u001B[0m\n",
      "  aircraft (\u001B[36m17\u001B[0m, \u001B[36m46\u001B[0m, \u001B[36m3\u001B[0m): \u001B[32m0.41\u001B[0m\n",
      "  aircraft+flight+flight_no (\u001B[36m0\u001B[0m, \u001B[36m0\u001B[0m, \u001B[36m1\u001B[0m): \u001B[32m0.0\u001B[0m\n",
      "  airfare (\u001B[36m22\u001B[0m, \u001B[36m176\u001B[0m, \u001B[36m62\u001B[0m): \u001B[32m0.16\u001B[0m\n",
      "  airfare+flight_time (\u001B[36m0\u001B[0m, \u001B[36m2\u001B[0m, \u001B[36m0\u001B[0m): \u001B[32m0.0\u001B[0m\n",
      "  airline (\u001B[36m18\u001B[0m, \u001B[36m159\u001B[0m, \u001B[36m12\u001B[0m): \u001B[32m0.17\u001B[0m\n",
      "  airline+flight_no (\u001B[36m0\u001B[0m, \u001B[36m6\u001B[0m, \u001B[36m1\u001B[0m): \u001B[32m0.0\u001B[0m\n",
      "  airport (\u001B[36m5\u001B[0m, \u001B[36m8\u001B[0m, \u001B[36m0\u001B[0m): \u001B[32m0.56\u001B[0m\n",
      "  capacity (\u001B[36m0\u001B[0m, \u001B[36m0\u001B[0m, \u001B[36m5\u001B[0m): \u001B[32m0.0\u001B[0m\n",
      "  cheapest (\u001B[36m0\u001B[0m, \u001B[36m1\u001B[0m, \u001B[36m0\u001B[0m): \u001B[32m0.0\u001B[0m\n",
      "  city (\u001B[36m0\u001B[0m, \u001B[36m18\u001B[0m, \u001B[36m3\u001B[0m): \u001B[32m0.0\u001B[0m\n",
      "  distance (\u001B[36m4\u001B[0m, \u001B[36m23\u001B[0m, \u001B[36m3\u001B[0m): \u001B[32m0.24\u001B[0m\n",
      "  flight (\u001B[36m326\u001B[0m, \u001B[36m14\u001B[0m, \u001B[36m345\u001B[0m): \u001B[32m0.64\u001B[0m\n",
      "  flight+airfare (\u001B[36m0\u001B[0m, \u001B[36m12\u001B[0m, \u001B[36m3\u001B[0m): \u001B[32m0.0\u001B[0m\n",
      "  flight_no (\u001B[36m0\u001B[0m, \u001B[36m0\u001B[0m, \u001B[36m3\u001B[0m): \u001B[32m0.0\u001B[0m\n",
      "  flight_time (\u001B[36m1\u001B[0m, \u001B[36m0\u001B[0m, \u001B[36m7\u001B[0m): \u001B[32m0.22\u001B[0m\n",
      "  ground_fare (\u001B[36m0\u001B[0m, \u001B[36m0\u001B[0m, \u001B[36m3\u001B[0m): \u001B[32m0.0\u001B[0m\n",
      "  ground_service (\u001B[36m40\u001B[0m, \u001B[36m2\u001B[0m, \u001B[36m10\u001B[0m): \u001B[32m0.87\u001B[0m\n",
      "  ground_service+ground_fare (\u001B[36m0\u001B[0m, \u001B[36m0\u001B[0m, \u001B[36m1\u001B[0m): \u001B[32m0.0\u001B[0m\n",
      "  meal (\u001B[36m2\u001B[0m, \u001B[36m0\u001B[0m, \u001B[36m2\u001B[0m): \u001B[32m0.67\u001B[0m\n",
      "  quantity (\u001B[36m1\u001B[0m, \u001B[36m2\u001B[0m, \u001B[36m11\u001B[0m): \u001B[32m0.13\u001B[0m\n",
      "  restriction (\u001B[36m1\u001B[0m, \u001B[36m6\u001B[0m, \u001B[36m0\u001B[0m): \u001B[32m0.25\u001B[0m\n",
      "  AVERAGE (\u001B[36m22\u001B[0m): \u001B[32m0.23\u001B[0m\n",
      "  abbreviation (\u001B[36m8\u001B[0m, \u001B[36m24\u001B[0m, \u001B[36m7\u001B[0m): \u001B[32m0.34\u001B[0m\n",
      "  aircraft (\u001B[36m12\u001B[0m, \u001B[36m2\u001B[0m, \u001B[36m8\u001B[0m): \u001B[32m0.71\u001B[0m\n",
      "  aircraft+flight+flight_no (\u001B[36m0\u001B[0m, \u001B[36m0\u001B[0m, \u001B[36m1\u001B[0m): \u001B[32m0.0\u001B[0m\n",
      "  airfare (\u001B[36m6\u001B[0m, \u001B[36m0\u001B[0m, \u001B[36m78\u001B[0m): \u001B[32m0.13\u001B[0m\n",
      "  airline (\u001B[36m18\u001B[0m, \u001B[36m15\u001B[0m, \u001B[36m12\u001B[0m): \u001B[32m0.57\u001B[0m\n",
      "  airline+flight_no (\u001B[36m0\u001B[0m, \u001B[36m0\u001B[0m, \u001B[36m1\u001B[0m): \u001B[32m0.0\u001B[0m\n",
      "  airport (\u001B[36m5\u001B[0m, \u001B[36m21\u001B[0m, \u001B[36m0\u001B[0m): \u001B[32m0.32\u001B[0m\n",
      "  capacity (\u001B[36m3\u001B[0m, \u001B[36m15\u001B[0m, \u001B[36m2\u001B[0m): \u001B[32m0.26\u001B[0m\n",
      "  cheapest (\u001B[36m0\u001B[0m, \u001B[36m45\u001B[0m, \u001B[36m0\u001B[0m): \u001B[32m0.0\u001B[0m\n",
      "  city (\u001B[36m2\u001B[0m, \u001B[36m3\u001B[0m, \u001B[36m1\u001B[0m): \u001B[32m0.5\u001B[0m\n",
      "  distance (\u001B[36m1\u001B[0m, \u001B[36m50\u001B[0m, \u001B[36m6\u001B[0m): \u001B[32m0.034\u001B[0m\n",
      "  flight (\u001B[36m548\u001B[0m, \u001B[36m38\u001B[0m, \u001B[36m123\u001B[0m): \u001B[32m0.87\u001B[0m\n",
      "  flight+airfare (\u001B[36m2\u001B[0m, \u001B[36m31\u001B[0m, \u001B[36m1\u001B[0m): \u001B[32m0.11\u001B[0m\n",
      "  flight_no (\u001B[36m0\u001B[0m, \u001B[36m8\u001B[0m, \u001B[36m3\u001B[0m): \u001B[32m0.0\u001B[0m\n",
      "  flight_time (\u001B[36m2\u001B[0m, \u001B[36m1\u001B[0m, \u001B[36m6\u001B[0m): \u001B[32m0.36\u001B[0m\n",
      "  ground_fare (\u001B[36m0\u001B[0m, \u001B[36m36\u001B[0m, \u001B[36m3\u001B[0m): \u001B[32m0.0\u001B[0m\n",
      "  ground_service (\u001B[36m1\u001B[0m, \u001B[36m0\u001B[0m, \u001B[36m49\u001B[0m): \u001B[32m0.039\u001B[0m\n",
      "  ground_service+ground_fare (\u001B[36m0\u001B[0m, \u001B[36m0\u001B[0m, \u001B[36m1\u001B[0m): \u001B[32m0.0\u001B[0m\n",
      "  meal (\u001B[36m4\u001B[0m, \u001B[36m7\u001B[0m, \u001B[36m0\u001B[0m): \u001B[32m0.53\u001B[0m\n",
      "  quantity (\u001B[36m0\u001B[0m, \u001B[36m9\u001B[0m, \u001B[36m12\u001B[0m): \u001B[32m0.0\u001B[0m\n",
      "  restriction (\u001B[36m1\u001B[0m, \u001B[36m9\u001B[0m, \u001B[36m0\u001B[0m): \u001B[32m0.18\u001B[0m\n",
      "  AVERAGE (\u001B[36m21\u001B[0m): \u001B[32m0.24\u001B[0m\n",
      "this took [4.767035961151123, 3.152026891708374] seconds\n"
     ]
    }
   ],
   "source": [
    "def time_my_models(model_list, key:str=\"val\"):\n",
    "    with Timer() as t:\n",
    "        for model in model_list:\n",
    "            print(format_f1_scores(f1_scores(confusion_batch(model, SCORE_DATASET[key]))))\n",
    "            t.lap()\n",
    "      \n",
    "        print(\"this took {} seconds\".format(t.laps))\n",
    "\n",
    "time_my_models([small_model, my_models[0]])"
   ],
   "metadata": {
    "collapsed": false,
    "ExecuteTime": {
     "end_time": "2024-02-03T18:36:29.105708Z",
     "start_time": "2024-02-03T18:36:21.177451Z"
    }
   },
   "id": "6a05493a77ac65bf",
   "execution_count": 28
  },
  {
   "cell_type": "code",
   "outputs": [],
   "source": [
    "tr_model_names = [small_model_name, *tr_model_names]\n",
    "my_models = [small_model, *tr_model_names]"
   ],
   "metadata": {
    "collapsed": false,
    "ExecuteTime": {
     "end_time": "2024-02-03T18:40:24.979455400Z",
     "start_time": "2024-02-03T18:40:24.946306100Z"
    }
   },
   "id": "47709fcaa6bf81e",
   "execution_count": 30
  },
  {
   "cell_type": "markdown",
   "source": [
    "Let's examine the models more closely:"
   ],
   "metadata": {
    "collapsed": false
   },
   "id": "5e78d4f893b475ca"
  },
  {
   "cell_type": "code",
   "outputs": [],
   "source": [
    "from transformers import AutoModelForSequenceClassification, AutoTokenizer\n",
    "auto_models = [AutoModelForSequenceClassification.from_pretrained(n) for n in tr_model_names]\n",
    "auto_tokenizers = [AutoTokenizer.from_pretrained(n) for n in tr_model_names]"
   ],
   "metadata": {
    "collapsed": false,
    "ExecuteTime": {
     "end_time": "2024-02-03T18:45:33.457693500Z",
     "start_time": "2024-02-03T18:45:24.704498600Z"
    }
   },
   "id": "49231d66647ad51c",
   "execution_count": 40
  },
  {
   "cell_type": "code",
   "outputs": [
    {
     "name": "stdout",
     "output_type": "stream",
     "text": [
      "BertForSequenceClassification(\n",
      "  (bert): BertModel(\n",
      "    (embeddings): BertEmbeddings(\n",
      "      (word_embeddings): Embedding(30522, 384, padding_idx=0)\n",
      "      (position_embeddings): Embedding(512, 384)\n",
      "      (token_type_embeddings): Embedding(2, 384)\n",
      "      (LayerNorm): LayerNorm((384,), eps=1e-12, elementwise_affine=True)\n",
      "      (dropout): Dropout(p=0.1, inplace=False)\n",
      "    )\n",
      "    (encoder): BertEncoder(\n",
      "      (layer): ModuleList(\n",
      "        (0-11): 12 x BertLayer(\n",
      "          (attention): BertAttention(\n",
      "            (self): BertSelfAttention(\n",
      "              (query): Linear(in_features=384, out_features=384, bias=True)\n",
      "              (key): Linear(in_features=384, out_features=384, bias=True)\n",
      "              (value): Linear(in_features=384, out_features=384, bias=True)\n",
      "              (dropout): Dropout(p=0.1, inplace=False)\n",
      "            )\n",
      "            (output): BertSelfOutput(\n",
      "              (dense): Linear(in_features=384, out_features=384, bias=True)\n",
      "              (LayerNorm): LayerNorm((384,), eps=1e-12, elementwise_affine=True)\n",
      "              (dropout): Dropout(p=0.1, inplace=False)\n",
      "            )\n",
      "          )\n",
      "          (intermediate): BertIntermediate(\n",
      "            (dense): Linear(in_features=384, out_features=1536, bias=True)\n",
      "            (intermediate_act_fn): GELUActivation()\n",
      "          )\n",
      "          (output): BertOutput(\n",
      "            (dense): Linear(in_features=1536, out_features=384, bias=True)\n",
      "            (LayerNorm): LayerNorm((384,), eps=1e-12, elementwise_affine=True)\n",
      "            (dropout): Dropout(p=0.1, inplace=False)\n",
      "          )\n",
      "        )\n",
      "      )\n",
      "    )\n",
      "    (pooler): BertPooler(\n",
      "      (dense): Linear(in_features=384, out_features=384, bias=True)\n",
      "      (activation): Tanh()\n",
      "    )\n",
      "  )\n",
      "  (dropout): Dropout(p=0.1, inplace=False)\n",
      "  (classifier): Linear(in_features=384, out_features=2, bias=True)\n",
      ")\n",
      "XLMRobertaForSequenceClassification(\n",
      "  (roberta): XLMRobertaModel(\n",
      "    (embeddings): XLMRobertaEmbeddings(\n",
      "      (word_embeddings): Embedding(250002, 384, padding_idx=1)\n",
      "      (position_embeddings): Embedding(514, 384, padding_idx=1)\n",
      "      (token_type_embeddings): Embedding(1, 384)\n",
      "      (LayerNorm): LayerNorm((384,), eps=1e-05, elementwise_affine=True)\n",
      "      (dropout): Dropout(p=0.1, inplace=False)\n",
      "    )\n",
      "    (encoder): XLMRobertaEncoder(\n",
      "      (layer): ModuleList(\n",
      "        (0-5): 6 x XLMRobertaLayer(\n",
      "          (attention): XLMRobertaAttention(\n",
      "            (self): XLMRobertaSelfAttention(\n",
      "              (query): Linear(in_features=384, out_features=384, bias=True)\n",
      "              (key): Linear(in_features=384, out_features=384, bias=True)\n",
      "              (value): Linear(in_features=384, out_features=384, bias=True)\n",
      "              (dropout): Dropout(p=0.1, inplace=False)\n",
      "            )\n",
      "            (output): XLMRobertaSelfOutput(\n",
      "              (dense): Linear(in_features=384, out_features=384, bias=True)\n",
      "              (LayerNorm): LayerNorm((384,), eps=1e-05, elementwise_affine=True)\n",
      "              (dropout): Dropout(p=0.1, inplace=False)\n",
      "            )\n",
      "          )\n",
      "          (intermediate): XLMRobertaIntermediate(\n",
      "            (dense): Linear(in_features=384, out_features=1536, bias=True)\n",
      "            (intermediate_act_fn): GELUActivation()\n",
      "          )\n",
      "          (output): XLMRobertaOutput(\n",
      "            (dense): Linear(in_features=1536, out_features=384, bias=True)\n",
      "            (LayerNorm): LayerNorm((384,), eps=1e-05, elementwise_affine=True)\n",
      "            (dropout): Dropout(p=0.1, inplace=False)\n",
      "          )\n",
      "        )\n",
      "      )\n",
      "    )\n",
      "  )\n",
      "  (classifier): XLMRobertaClassificationHead(\n",
      "    (dense): Linear(in_features=384, out_features=384, bias=True)\n",
      "    (dropout): Dropout(p=0.1, inplace=False)\n",
      "    (out_proj): Linear(in_features=384, out_features=3, bias=True)\n",
      "  )\n",
      ")\n",
      "DebertaV2ForSequenceClassification(\n",
      "  (deberta): DebertaV2Model(\n",
      "    (embeddings): DebertaV2Embeddings(\n",
      "      (word_embeddings): Embedding(128100, 768, padding_idx=0)\n",
      "      (LayerNorm): LayerNorm((768,), eps=1e-07, elementwise_affine=True)\n",
      "      (dropout): StableDropout()\n",
      "    )\n",
      "    (encoder): DebertaV2Encoder(\n",
      "      (layer): ModuleList(\n",
      "        (0-11): 12 x DebertaV2Layer(\n",
      "          (attention): DebertaV2Attention(\n",
      "            (self): DisentangledSelfAttention(\n",
      "              (query_proj): Linear(in_features=768, out_features=768, bias=True)\n",
      "              (key_proj): Linear(in_features=768, out_features=768, bias=True)\n",
      "              (value_proj): Linear(in_features=768, out_features=768, bias=True)\n",
      "              (pos_dropout): StableDropout()\n",
      "              (dropout): StableDropout()\n",
      "            )\n",
      "            (output): DebertaV2SelfOutput(\n",
      "              (dense): Linear(in_features=768, out_features=768, bias=True)\n",
      "              (LayerNorm): LayerNorm((768,), eps=1e-07, elementwise_affine=True)\n",
      "              (dropout): StableDropout()\n",
      "            )\n",
      "          )\n",
      "          (intermediate): DebertaV2Intermediate(\n",
      "            (dense): Linear(in_features=768, out_features=3072, bias=True)\n",
      "            (intermediate_act_fn): GELUActivation()\n",
      "          )\n",
      "          (output): DebertaV2Output(\n",
      "            (dense): Linear(in_features=3072, out_features=768, bias=True)\n",
      "            (LayerNorm): LayerNorm((768,), eps=1e-07, elementwise_affine=True)\n",
      "            (dropout): StableDropout()\n",
      "          )\n",
      "        )\n",
      "      )\n",
      "      (rel_embeddings): Embedding(512, 768)\n",
      "      (LayerNorm): LayerNorm((768,), eps=1e-07, elementwise_affine=True)\n",
      "    )\n",
      "  )\n",
      "  (pooler): ContextPooler(\n",
      "    (dense): Linear(in_features=768, out_features=768, bias=True)\n",
      "    (dropout): StableDropout()\n",
      "  )\n",
      "  (classifier): Linear(in_features=768, out_features=3, bias=True)\n",
      "  (dropout): StableDropout()\n",
      ")\n",
      "BartForSequenceClassification(\n",
      "  (model): BartModel(\n",
      "    (shared): Embedding(50265, 1024, padding_idx=1)\n",
      "    (encoder): BartEncoder(\n",
      "      (embed_tokens): Embedding(50265, 1024, padding_idx=1)\n",
      "      (embed_positions): BartLearnedPositionalEmbedding(1026, 1024)\n",
      "      (layers): ModuleList(\n",
      "        (0-11): 12 x BartEncoderLayer(\n",
      "          (self_attn): BartSdpaAttention(\n",
      "            (k_proj): Linear(in_features=1024, out_features=1024, bias=True)\n",
      "            (v_proj): Linear(in_features=1024, out_features=1024, bias=True)\n",
      "            (q_proj): Linear(in_features=1024, out_features=1024, bias=True)\n",
      "            (out_proj): Linear(in_features=1024, out_features=1024, bias=True)\n",
      "          )\n",
      "          (self_attn_layer_norm): LayerNorm((1024,), eps=1e-05, elementwise_affine=True)\n",
      "          (activation_fn): GELUActivation()\n",
      "          (fc1): Linear(in_features=1024, out_features=4096, bias=True)\n",
      "          (fc2): Linear(in_features=4096, out_features=1024, bias=True)\n",
      "          (final_layer_norm): LayerNorm((1024,), eps=1e-05, elementwise_affine=True)\n",
      "        )\n",
      "      )\n",
      "      (layernorm_embedding): LayerNorm((1024,), eps=1e-05, elementwise_affine=True)\n",
      "    )\n",
      "    (decoder): BartDecoder(\n",
      "      (embed_tokens): Embedding(50265, 1024, padding_idx=1)\n",
      "      (embed_positions): BartLearnedPositionalEmbedding(1026, 1024)\n",
      "      (layers): ModuleList(\n",
      "        (0-11): 12 x BartDecoderLayer(\n",
      "          (self_attn): BartSdpaAttention(\n",
      "            (k_proj): Linear(in_features=1024, out_features=1024, bias=True)\n",
      "            (v_proj): Linear(in_features=1024, out_features=1024, bias=True)\n",
      "            (q_proj): Linear(in_features=1024, out_features=1024, bias=True)\n",
      "            (out_proj): Linear(in_features=1024, out_features=1024, bias=True)\n",
      "          )\n",
      "          (activation_fn): GELUActivation()\n",
      "          (self_attn_layer_norm): LayerNorm((1024,), eps=1e-05, elementwise_affine=True)\n",
      "          (encoder_attn): BartSdpaAttention(\n",
      "            (k_proj): Linear(in_features=1024, out_features=1024, bias=True)\n",
      "            (v_proj): Linear(in_features=1024, out_features=1024, bias=True)\n",
      "            (q_proj): Linear(in_features=1024, out_features=1024, bias=True)\n",
      "            (out_proj): Linear(in_features=1024, out_features=1024, bias=True)\n",
      "          )\n",
      "          (encoder_attn_layer_norm): LayerNorm((1024,), eps=1e-05, elementwise_affine=True)\n",
      "          (fc1): Linear(in_features=1024, out_features=4096, bias=True)\n",
      "          (fc2): Linear(in_features=4096, out_features=1024, bias=True)\n",
      "          (final_layer_norm): LayerNorm((1024,), eps=1e-05, elementwise_affine=True)\n",
      "        )\n",
      "      )\n",
      "      (layernorm_embedding): LayerNorm((1024,), eps=1e-05, elementwise_affine=True)\n",
      "    )\n",
      "  )\n",
      "  (classification_head): BartClassificationHead(\n",
      "    (dense): Linear(in_features=1024, out_features=1024, bias=True)\n",
      "    (dropout): Dropout(p=0.0, inplace=False)\n",
      "    (out_proj): Linear(in_features=1024, out_features=3, bias=True)\n",
      "  )\n",
      ")\n"
     ]
    }
   ],
   "source": [
    "for m in auto_models:\n",
    "    print(m)"
   ],
   "metadata": {
    "collapsed": false,
    "ExecuteTime": {
     "end_time": "2024-02-03T18:45:35.679086400Z",
     "start_time": "2024-02-03T18:45:35.667091800Z"
    }
   },
   "id": "e7214d555bf51299",
   "execution_count": 41
  },
  {
   "cell_type": "code",
   "outputs": [
    {
     "name": "stdout",
     "output_type": "stream",
     "text": [
      "  abbreviation (\u001B[36m11\u001B[0m, \u001B[36m4\u001B[0m, \u001B[36m4\u001B[0m): \u001B[32m0.73\u001B[0m\n",
      "  aircraft (\u001B[36m17\u001B[0m, \u001B[36m46\u001B[0m, \u001B[36m3\u001B[0m): \u001B[32m0.41\u001B[0m\n",
      "  aircraft+flight+flight_no (\u001B[36m0\u001B[0m, \u001B[36m0\u001B[0m, \u001B[36m1\u001B[0m): \u001B[32m0.0\u001B[0m\n",
      "  airfare (\u001B[36m22\u001B[0m, \u001B[36m176\u001B[0m, \u001B[36m62\u001B[0m): \u001B[32m0.16\u001B[0m\n",
      "  airfare+flight_time (\u001B[36m0\u001B[0m, \u001B[36m2\u001B[0m, \u001B[36m0\u001B[0m): \u001B[32m0.0\u001B[0m\n",
      "  airline (\u001B[36m18\u001B[0m, \u001B[36m159\u001B[0m, \u001B[36m12\u001B[0m): \u001B[32m0.17\u001B[0m\n",
      "  airline+flight_no (\u001B[36m0\u001B[0m, \u001B[36m6\u001B[0m, \u001B[36m1\u001B[0m): \u001B[32m0.0\u001B[0m\n",
      "  airport (\u001B[36m5\u001B[0m, \u001B[36m8\u001B[0m, \u001B[36m0\u001B[0m): \u001B[32m0.56\u001B[0m\n",
      "  capacity (\u001B[36m0\u001B[0m, \u001B[36m0\u001B[0m, \u001B[36m5\u001B[0m): \u001B[32m0.0\u001B[0m\n",
      "  cheapest (\u001B[36m0\u001B[0m, \u001B[36m1\u001B[0m, \u001B[36m0\u001B[0m): \u001B[32m0.0\u001B[0m\n",
      "  city (\u001B[36m0\u001B[0m, \u001B[36m18\u001B[0m, \u001B[36m3\u001B[0m): \u001B[32m0.0\u001B[0m\n",
      "  distance (\u001B[36m4\u001B[0m, \u001B[36m23\u001B[0m, \u001B[36m3\u001B[0m): \u001B[32m0.24\u001B[0m\n",
      "  flight (\u001B[36m326\u001B[0m, \u001B[36m14\u001B[0m, \u001B[36m345\u001B[0m): \u001B[32m0.64\u001B[0m\n",
      "  flight+airfare (\u001B[36m0\u001B[0m, \u001B[36m12\u001B[0m, \u001B[36m3\u001B[0m): \u001B[32m0.0\u001B[0m\n",
      "  flight_no (\u001B[36m0\u001B[0m, \u001B[36m0\u001B[0m, \u001B[36m3\u001B[0m): \u001B[32m0.0\u001B[0m\n",
      "  flight_time (\u001B[36m1\u001B[0m, \u001B[36m0\u001B[0m, \u001B[36m7\u001B[0m): \u001B[32m0.22\u001B[0m\n",
      "  ground_fare (\u001B[36m0\u001B[0m, \u001B[36m0\u001B[0m, \u001B[36m3\u001B[0m): \u001B[32m0.0\u001B[0m\n",
      "  ground_service (\u001B[36m40\u001B[0m, \u001B[36m2\u001B[0m, \u001B[36m10\u001B[0m): \u001B[32m0.87\u001B[0m\n",
      "  ground_service+ground_fare (\u001B[36m0\u001B[0m, \u001B[36m0\u001B[0m, \u001B[36m1\u001B[0m): \u001B[32m0.0\u001B[0m\n",
      "  meal (\u001B[36m2\u001B[0m, \u001B[36m0\u001B[0m, \u001B[36m2\u001B[0m): \u001B[32m0.67\u001B[0m\n",
      "  quantity (\u001B[36m1\u001B[0m, \u001B[36m2\u001B[0m, \u001B[36m11\u001B[0m): \u001B[32m0.13\u001B[0m\n",
      "  restriction (\u001B[36m1\u001B[0m, \u001B[36m6\u001B[0m, \u001B[36m0\u001B[0m): \u001B[32m0.25\u001B[0m\n",
      "  AVERAGE (\u001B[36m22\u001B[0m): \u001B[32m0.23\u001B[0m\n",
      "this took [4.776393413543701] seconds\n"
     ]
    }
   ],
   "source": [
    "very_small_model_name = \"MoritzLaurer/xtremedistil-l6-h256-zeroshot-v1.1-all-33\"\n",
    "very_small_model = into_my_model(pipeline(\"zero-shot-classification\", device=device, model = small_model_name))\n",
    "\n",
    "time_my_models([very_small_model])"
   ],
   "metadata": {
    "collapsed": false,
    "ExecuteTime": {
     "end_time": "2024-02-03T18:51:54.102221Z",
     "start_time": "2024-02-03T18:51:48.992294600Z"
    }
   },
   "id": "a9ef394dd234afce",
   "execution_count": 43
  },
  {
   "cell_type": "code",
   "outputs": [
    {
     "data": {
      "text/plain": "['pszemraj/xtremedistil-l12-h384-uncased-zeroshot-v1.1',\n 'MoritzLaurer/multilingual-MiniLMv2-L6-mnli-xnli',\n 'MoritzLaurer/DeBERTa-v3-base-mnli-fever-anli',\n 'facebook/bart-large-mnli']"
     },
     "execution_count": 45,
     "metadata": {},
     "output_type": "execute_result"
    }
   ],
   "source": [
    "tr_model_names"
   ],
   "metadata": {
    "collapsed": false,
    "ExecuteTime": {
     "end_time": "2024-02-04T14:15:13.575566700Z",
     "start_time": "2024-02-04T14:15:12.976499700Z"
    }
   },
   "id": "8b76270a29bb3f32",
   "execution_count": 45
  },
  {
   "cell_type": "code",
   "outputs": [],
   "source": [],
   "metadata": {
    "collapsed": false
   },
   "id": "2629a9e3e38ea8f6"
  }
 ],
 "metadata": {
  "kernelspec": {
   "display_name": "Python 3",
   "language": "python",
   "name": "python3"
  },
  "language_info": {
   "codemirror_mode": {
    "name": "ipython",
    "version": 2
   },
   "file_extension": ".py",
   "mimetype": "text/x-python",
   "name": "python",
   "nbconvert_exporter": "python",
   "pygments_lexer": "ipython2",
   "version": "2.7.6"
  }
 },
 "nbformat": 4,
 "nbformat_minor": 5
}
