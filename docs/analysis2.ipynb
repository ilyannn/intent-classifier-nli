{
 "cells": [
  {
   "cell_type": "markdown",
   "source": [
    "From the [previous analysis](./analysis.ipynb)"
   ],
   "metadata": {
    "collapsed": false
   },
   "id": "52a35c0318a8e20a"
  },
  {
   "cell_type": "code",
   "outputs": [],
   "source": [
    "import csv\n",
    "from collections import defaultdict\n",
    "\n",
    "from sklearn import metrics\n",
    "from sklearn.model_selection import train_test_split\n",
    "\n",
    "    \n",
    "SEED = 1337\n",
    "\n",
    "with open('../data/atis/train.tsv', 'rt') as f:\n",
    "    reader = csv.reader(f, delimiter='\\t')\n",
    "    data = list(reader)\n",
    "    data_x = [row[0] for row in data]\n",
    "    data_y = [row[1] for row in data]\n",
    "\n",
    "data_x_train, data_x_val, data_y_train, data_y_val = train_test_split(data_x, data_y, test_size=0.2, random_state=SEED)\n",
    "\n",
    "def val_accuracy(f):\n",
    "    print(metrics.accuracy_score(data_y_val, f(data_x_val)))\n",
    "\n",
    "data_x_words = sorted({w for x in data_x_train for w in x.split(' ')})\n",
    "\n",
    "def one_hot_features(x):\n",
    "    \"\"\"Feature at index i equals 1 iff the word i is in the string x\"\"\"\n",
    "    xw = x.split(' ')\n",
    "    return [int(w in xw) for w in data_x_words]\n",
    "\n",
    "data_x_features = [one_hot_features(x) for x in data_x_train]\n",
    "\n",
    "by_label = defaultdict(list)\n",
    "for x, y in zip(data_x_train, data_y_train):\n",
    "    by_label[y].append(x)\n",
    "labels = set(by_label)"
   ],
   "metadata": {
    "collapsed": true,
    "ExecuteTime": {
     "end_time": "2024-01-30T19:43:34.543474700Z",
     "start_time": "2024-01-30T19:43:33.273361500Z"
    }
   },
   "id": "initial_id",
   "execution_count": 1
  },
  {
   "cell_type": "code",
   "outputs": [
    {
     "data": {
      "text/plain": "array([ 165,    1,    4,   37,    6,   77,    1,    1,    1,    8,   45,\n          2,   11,    1,    1,    1,    1,    1,    1,    1,    1,    1,\n          1,    5,    1,    3,    2,    3,    1,    1,    2,   31,    1,\n          1,    1,    1,    1,    3,    1,    1,    1,    1,    1,    1,\n          1,    1,    1,    1,    2,    1,    1,    1,   15,    3,    1,\n         20,    2,    2,    2,    3,    1,    1,    1,    2,    1,    2,\n          2,    2,    1,    4,    1,   14,    1,    1,    1,    1,    1,\n          2,    1,    1,    1,    1,    2,   33,    1,    1,    3,    1,\n          1,    1,    1,    1,    5,    1,    1,    1,    3,    1,   61,\n          1,    1,    1,    2,    1,    1,    3,    4,   43,    1,    5,\n          1,    1,   35,    1,    1,    4,    1,    1,    1,    2,    1,\n          1,    2,    1,    1,    5,    2,    1,    1,    1,   36,    3,\n          3,    1,    1,    1,    1,    3,    4,    1,    1,   21,    1,\n          1,    3,    1,  645,    1,    5,    1,    1,   34,    2,    1,\n          2,    1,  172,  137,    1,    1,    8,   70,   49,   14,    1,\n         63,  322,    7,    1,  107,   16,    2,  446,    1,   15,   93,\n          3,  133,    4,   48,  584,   50,    3,   80,    4,    9,    2,\n          1,    3,    1,   16,  349,    3,    2,   42,    4,    9,    4,\n          3,  112,   21,  142,   14,  119,    2,  561,   73,  142,    2,\n         12,  444,    1,   22,   28,  139,    1,    1,    1,    1,    1,\n        277,    1,    4,   30,    6,  776,    6,    1,   19,    1,    1,\n         17,   13,    5,    1,   13,   42,    2,   22,    1,   95,    5,\n          5,    1,    7,   18,   10,    1,    1,    2,    1,    1,   76,\n          2,  153,   69,    3,   31,   17,  134,  159,   10,   51,    2,\n          1,    3,   26,   48,    4,    8,   24,    5,    1,    3,   18,\n          1,    2,    1,    1,   75,    1,   54,    5,   37,   10,    1,\n          2,    1,    1,   32,  481,    2,    1,   26,    4,  106,    2,\n         21,    3,   85,  730,   30,   37,    4,    8,    2,    2,    1,\n          4,    1,   25,    7,   70,    2,    1,   17,    2,   20,    1,\n         11,    6,   14,   74,  159,    1,   27,   58,    1,    2,    4,\n          7,    2,  115,   69,   14,    1,   29,    2,    1,   14,   10,\n          1,    9,    1,    1,    1,   92,    1,    3,   39,    9,   11,\n          7,    2,    3,  182,  119,    5,    4,   18,    1,   12,   14,\n          1,   90,  188,    3,   13,  871, 1794,   11,  194,   23,    2,\n          4,  207,   66,    1,    6,   15,  643,   67,    1,    2, 2737,\n         20,    2,   44,    1,  135,   99,   20,   48,    1,    2,    1,\n        162,    8,    3,    1,   16,  149,    1,    1,    4,    3,    1,\n          8,    1,    1,    1,    1,    6,   65,  106,    4,  720,    1,\n          9,  601,    3,    1,    1,   67,    1,    1,   94,    1,    1,\n         14,   31,   27,  477,   22,    2,    1,    7,    7,    1,    5,\n         38,   61,   41,    2,    1,   55,   23,    1,    2,   36,   19,\n         48,    3,    2,    5,    1,    1,   76,   25,    2,   19,    3,\n         52,    1,    1,    7,   35,  112,   30,  250,   19,    1,    6,\n          1,  355,    2,    9,    1,  353,   10,    1,    4,    1,    1,\n          6,   33,    1,    2,   21,   50,   35,   18,   31,    1,    4,\n          9,    2,    2,   17,    5,    4,   42,    2,    3,   40,    5,\n        903,   31,    8,    1,   31,    3,   37,    1,   75,    2,    5,\n          2,   11,   96,    1,   34,    2,    2,   20,  113,    1,    2,\n         42,    4,  227,    4,   10,   40,    1,    7,    4,    1,   38,\n          3,    3,  171,    1,  108,   74,   71,   25,    1,    5,   15,\n          6,    1,  103,    2,   74,    2,   10,   18,   28,   22,   13,\n          5,    2,    1,   65,    1,  177,    9,  286,    1,    7,    1,\n          1,    1,    2,   32, 1056,    1,  121,    7,   12,    1,    1,\n          2,   47,    2,    1,    1,    3,   65,   14,   17,    4,    1,\n          3,   26,    1,    3,    7,   40,  415,    1,   72,  500,    1,\n          3,   11,    6,  250,  218,   20,    1,    1,   19,    1,   12,\n          1,    2,    3,    1,    5,    2,    1,    6,   11,    1,    3,\n          1,    2,    1,    4,   13,    2,    2,    1,    1,    2,    2,\n          1,   15,    1,   21,   15,    6,  142,    1,    1,    1,    4,\n          1,   48,   14,  748,   76,    3,    2,    1,   19,    1,    2,\n          1,    1,    6,    3,   67,   22,   40,   21,   25,   14,   28,\n         33,    2,    3,    6,    1,    1,    6,   68,    5,    7,    7,\n        742,    1,    4,    2,    5,    8,   10,    2,    3,    4,    1,\n          3,    2,    3,    1,    1,    4,    1,   98,   13,    1,    1,\n          1,    3,    1,    2,   69,   44,    3,   21,   22,    1,    1,\n         88,    3,    2,    1,   30,   18,    2,    4,    1,    2,   39,\n          2,   60,    3,    3,    6,    3,   27,    8,    1,  276, 1433,\n          5,    1,   13,  174,    1,    4,    1,    1,   20,    2,   11,\n          6,   14,    3,    3,    3,   13,  119,    2,   37,    9,   39,\n         19, 2850,   12,   59,    1,    1,   69,    1,    1,    1,    1,\n          9,  150,   31,    7,    1,  153,    3,    1,    4,  106,    2,\n          2,   41,   11,    1,   15,   87,   13,   32,   13,   10,    7,\n        106,    2,   71,    5,   23,    2,   14,    2,    1,   77,    2,\n         13,    1,    1,  113,    1,    1,  253,  117,    2,  178,   10,\n         16,    6,    2,    2,    3,   12,  991,    9,    8,    1,  125,\n          1,    2,   16,    2,  144,    2,    2,    1,    1,   66,  202,\n          7,    1,    5,    6,  101,  164,   15,    1,    1])"
     },
     "execution_count": 7,
     "metadata": {},
     "output_type": "execute_result"
    }
   ],
   "source": [
    "import numpy as np\n",
    "\n",
    "data_x_wcounts = np.sum(data_x_features, axis=0)\n",
    "data_x_wcounts"
   ],
   "metadata": {
    "collapsed": false,
    "ExecuteTime": {
     "end_time": "2024-01-30T19:51:14.826981300Z",
     "start_time": "2024-01-30T19:51:14.791702300Z"
    }
   },
   "id": "85b1619ed6fc4cf1",
   "execution_count": 7
  },
  {
   "cell_type": "code",
   "outputs": [
    {
     "data": {
      "text/plain": "845"
     },
     "execution_count": 8,
     "metadata": {},
     "output_type": "execute_result"
    }
   ],
   "source": [
    "len(data_x_words)"
   ],
   "metadata": {
    "collapsed": false,
    "ExecuteTime": {
     "end_time": "2024-01-30T19:51:19.046264300Z",
     "start_time": "2024-01-30T19:51:19.028794800Z"
    }
   },
   "id": "cdb77def7d2f5f2",
   "execution_count": 8
  },
  {
   "cell_type": "code",
   "outputs": [
    {
     "data": {
      "text/plain": "     counts  words\n0       165     'd\n1         1  'hare\n2         4    'll\n3        37     'm\n4         6    're\n..      ...    ...\n840     101   york\n841     164    you\n842      15   your\n843       1    yyz\n844       1   zone\n\n[845 rows x 2 columns]",
      "text/html": "<div>\n<style scoped>\n    .dataframe tbody tr th:only-of-type {\n        vertical-align: middle;\n    }\n\n    .dataframe tbody tr th {\n        vertical-align: top;\n    }\n\n    .dataframe thead th {\n        text-align: right;\n    }\n</style>\n<table border=\"1\" class=\"dataframe\">\n  <thead>\n    <tr style=\"text-align: right;\">\n      <th></th>\n      <th>counts</th>\n      <th>words</th>\n    </tr>\n  </thead>\n  <tbody>\n    <tr>\n      <th>0</th>\n      <td>165</td>\n      <td>'d</td>\n    </tr>\n    <tr>\n      <th>1</th>\n      <td>1</td>\n      <td>'hare</td>\n    </tr>\n    <tr>\n      <th>2</th>\n      <td>4</td>\n      <td>'ll</td>\n    </tr>\n    <tr>\n      <th>3</th>\n      <td>37</td>\n      <td>'m</td>\n    </tr>\n    <tr>\n      <th>4</th>\n      <td>6</td>\n      <td>'re</td>\n    </tr>\n    <tr>\n      <th>...</th>\n      <td>...</td>\n      <td>...</td>\n    </tr>\n    <tr>\n      <th>840</th>\n      <td>101</td>\n      <td>york</td>\n    </tr>\n    <tr>\n      <th>841</th>\n      <td>164</td>\n      <td>you</td>\n    </tr>\n    <tr>\n      <th>842</th>\n      <td>15</td>\n      <td>your</td>\n    </tr>\n    <tr>\n      <th>843</th>\n      <td>1</td>\n      <td>yyz</td>\n    </tr>\n    <tr>\n      <th>844</th>\n      <td>1</td>\n      <td>zone</td>\n    </tr>\n  </tbody>\n</table>\n<p>845 rows × 2 columns</p>\n</div>"
     },
     "execution_count": 10,
     "metadata": {},
     "output_type": "execute_result"
    }
   ],
   "source": [
    "from pandas import DataFrame\n",
    "data_x_words_counts = DataFrame({'counts': data_x_wcounts, 'words': data_x_words})\n",
    "data_x_words_counts"
   ],
   "metadata": {
    "collapsed": false,
    "ExecuteTime": {
     "end_time": "2024-01-30T19:51:43.693445900Z",
     "start_time": "2024-01-30T19:51:43.658936600Z"
    }
   },
   "id": "db2ace7f11b4dbde",
   "execution_count": 10
  },
  {
   "cell_type": "code",
   "outputs": [
    {
     "data": {
      "text/plain": "     counts       words\n760    2850          to\n384    2737        from\n369    1794     flights\n736    1433         the\n576    1056          on\n820     991        what\n506     903          me\n368     871      flight\n225     776      boston\n652     748         san\n682     742        show\n300     730      denver\n416     720           i\n146     645           a\n380     643   francisco\n419     601          in\n180     584         and\n205     561     atlanta\n603     500  pittsburgh\n290     481      dallas",
      "text/html": "<div>\n<style scoped>\n    .dataframe tbody tr th:only-of-type {\n        vertical-align: middle;\n    }\n\n    .dataframe tbody tr th {\n        vertical-align: top;\n    }\n\n    .dataframe thead th {\n        text-align: right;\n    }\n</style>\n<table border=\"1\" class=\"dataframe\">\n  <thead>\n    <tr style=\"text-align: right;\">\n      <th></th>\n      <th>counts</th>\n      <th>words</th>\n    </tr>\n  </thead>\n  <tbody>\n    <tr>\n      <th>760</th>\n      <td>2850</td>\n      <td>to</td>\n    </tr>\n    <tr>\n      <th>384</th>\n      <td>2737</td>\n      <td>from</td>\n    </tr>\n    <tr>\n      <th>369</th>\n      <td>1794</td>\n      <td>flights</td>\n    </tr>\n    <tr>\n      <th>736</th>\n      <td>1433</td>\n      <td>the</td>\n    </tr>\n    <tr>\n      <th>576</th>\n      <td>1056</td>\n      <td>on</td>\n    </tr>\n    <tr>\n      <th>820</th>\n      <td>991</td>\n      <td>what</td>\n    </tr>\n    <tr>\n      <th>506</th>\n      <td>903</td>\n      <td>me</td>\n    </tr>\n    <tr>\n      <th>368</th>\n      <td>871</td>\n      <td>flight</td>\n    </tr>\n    <tr>\n      <th>225</th>\n      <td>776</td>\n      <td>boston</td>\n    </tr>\n    <tr>\n      <th>652</th>\n      <td>748</td>\n      <td>san</td>\n    </tr>\n    <tr>\n      <th>682</th>\n      <td>742</td>\n      <td>show</td>\n    </tr>\n    <tr>\n      <th>300</th>\n      <td>730</td>\n      <td>denver</td>\n    </tr>\n    <tr>\n      <th>416</th>\n      <td>720</td>\n      <td>i</td>\n    </tr>\n    <tr>\n      <th>146</th>\n      <td>645</td>\n      <td>a</td>\n    </tr>\n    <tr>\n      <th>380</th>\n      <td>643</td>\n      <td>francisco</td>\n    </tr>\n    <tr>\n      <th>419</th>\n      <td>601</td>\n      <td>in</td>\n    </tr>\n    <tr>\n      <th>180</th>\n      <td>584</td>\n      <td>and</td>\n    </tr>\n    <tr>\n      <th>205</th>\n      <td>561</td>\n      <td>atlanta</td>\n    </tr>\n    <tr>\n      <th>603</th>\n      <td>500</td>\n      <td>pittsburgh</td>\n    </tr>\n    <tr>\n      <th>290</th>\n      <td>481</td>\n      <td>dallas</td>\n    </tr>\n  </tbody>\n</table>\n</div>"
     },
     "execution_count": 11,
     "metadata": {},
     "output_type": "execute_result"
    }
   ],
   "source": [
    "data_x_words_counts.sort_values(by='counts', ascending=False, inplace=True)\n",
    "data_x_words_counts.head(20)"
   ],
   "metadata": {
    "collapsed": false,
    "ExecuteTime": {
     "end_time": "2024-01-30T19:52:41.860674200Z",
     "start_time": "2024-01-30T19:52:41.819912100Z"
    }
   },
   "id": "b63266b294af35ea",
   "execution_count": 11
  },
  {
   "cell_type": "code",
   "outputs": [],
   "source": [
    "data_x_features = np.array(data_x_features)\n",
    "flights_feature = data_x_features[:, 369]"
   ],
   "metadata": {
    "collapsed": false,
    "ExecuteTime": {
     "end_time": "2024-01-30T19:56:07.125259600Z",
     "start_time": "2024-01-30T19:56:07.088309400Z"
    }
   },
   "id": "39800317fc7c1862",
   "execution_count": 14
  },
  {
   "cell_type": "code",
   "outputs": [
    {
     "data": {
      "text/plain": "array([0, 1, 1, ..., 0, 0, 1])"
     },
     "execution_count": 15,
     "metadata": {},
     "output_type": "execute_result"
    }
   ],
   "source": [
    "flights_feature"
   ],
   "metadata": {
    "collapsed": false,
    "ExecuteTime": {
     "end_time": "2024-01-30T19:56:11.258485600Z",
     "start_time": "2024-01-30T19:56:11.256238200Z"
    }
   },
   "id": "c9ecd95fa26be7aa",
   "execution_count": 15
  },
  {
   "cell_type": "code",
   "outputs": [
    {
     "data": {
      "text/plain": "['can i see ground transportation from long beach airport to downtown',\n \"i 'd like to see flights from baltimore to atlanta that arrive before noon\",\n 'what flights from salt lake city to new york city arrive next saturday before 6 pm']"
     },
     "execution_count": 17,
     "metadata": {},
     "output_type": "execute_result"
    }
   ],
   "source": [
    "data_x_train[0:3]"
   ],
   "metadata": {
    "collapsed": false,
    "ExecuteTime": {
     "end_time": "2024-01-30T19:56:32.474759900Z",
     "start_time": "2024-01-30T19:56:32.434258400Z"
    }
   },
   "id": "bf43c1973ff5c87b",
   "execution_count": 17
  },
  {
   "cell_type": "code",
   "outputs": [
    {
     "data": {
      "text/plain": "array(['flight', 'flight', 'flight', ..., 'flight', 'flight', 'flight'],\n      dtype='<U19')"
     },
     "execution_count": 19,
     "metadata": {},
     "output_type": "execute_result"
    }
   ],
   "source": [
    "data_y_train = np.array(data_y_train)\n",
    "data_y_train[flights_feature != 0]"
   ],
   "metadata": {
    "collapsed": false,
    "ExecuteTime": {
     "end_time": "2024-01-30T19:58:20.216197200Z",
     "start_time": "2024-01-30T19:58:20.202693900Z"
    }
   },
   "id": "f9064add5fe02aa4",
   "execution_count": 19
  },
  {
   "cell_type": "code",
   "outputs": [
    {
     "data": {
      "text/plain": "(array(['aircraft', 'airfare', 'airfare+flight_time', 'airline', 'airport',\n        'flight', 'flight+airfare', 'flight_no', 'flight_time', 'quantity',\n        'restriction'], dtype='<U19'),\n array([   1,   45,    1,   24,    1, 1658,   13,    3,   16,   31,    1]))"
     },
     "execution_count": 22,
     "metadata": {},
     "output_type": "execute_result"
    }
   ],
   "source": [
    "np.unique(_, return_counts=True)"
   ],
   "metadata": {
    "collapsed": false,
    "ExecuteTime": {
     "end_time": "2024-01-30T19:59:38.821402900Z",
     "start_time": "2024-01-30T19:59:38.774946400Z"
    }
   },
   "id": "18297ddba73309e2",
   "execution_count": 22
  },
  {
   "cell_type": "code",
   "outputs": [
    {
     "data": {
      "text/plain": "array(['show me any show me what the first class fares are of the flights from pittsburgh to san francisco on monday',\n       'show me all the prices of flights from baltimore to dallas',\n       'what are the fares for flights between atlanta and dfw provided by american airlines',\n       'please show me all fares for flights from denver to oakland',\n       'what are the fares for flights between atlanta and dfw',\n       'what is the cost of flights from denver to san francisco',\n       'please give me the prices for all flights from philadelphia to denver airport next sunday',\n       'show fares and flights from denver to oakland',\n       'show me the price of all flights from atlanta to washington dc',\n       'show me prices of flights from baltimore to dallas',\n       'what is the price of flights from indianapolis to memphis',\n       'show me fares less than 400 dollars for flights from dallas to baltimore',\n       'what are the round trip fares for flights from denver to philadelphia arriving after 1700 on continental',\n       'what is the cost for these flights from baltimore to philadelphia',\n       'what is the fare for flights from denver to atlanta',\n       'what are the prices of the flights from dallas to baltimore',\n       'what are the coach fares for flights from charlotte to newark tuesday evening',\n       'show me the prices of all flights from atlanta to washington dc',\n       'list the fares of midway airlines flights from boston to philadelphia',\n       'show me the fares on all flights round trip from pittsburgh to oakland',\n       'what are the cheapest fares for flights from newark to la leaving wednesday after 3 pm',\n       'what are the coach fares for flights from charlotte to newark tuesday afternoon',\n       'what are the first class and coach fares for flights from chicago to kansas city arriving around 7 pm next thursday',\n       'can you show me economy class one way fares for flights from oakland to dallas on december sixteenth',\n       'can you show me the economy fare flights from baltimore to dallas',\n       'what are the prices of the flights from atlanta to dallas in the morning',\n       'what are the costs of flights from dallas to boston tomorrow',\n       'list a round trip fare from kansas city to minneapolis flights',\n       'list the fares of us air flights from boston to philadelphia',\n       'show me the fares for delta flights from dallas to san francisco',\n       'show me fares for flights from minneapolis to seattle on july first 1993',\n       'what are the fares for flights from charlotte to newark on tuesday and wednesday',\n       'please list the cost of all flights from philadelphia to denver airport next sunday',\n       'what united airlines first class airfare flights are available from denver to baltimore on july three',\n       'what are the fares for flights from la to newark leaving monday morning',\n       'fares and flights from pittsburgh to philadelphia',\n       'what are the coach class fares on flights from pittsburgh to atlanta',\n       'fares and flights from baltimore to philadelphia',\n       'show me the air fare for the flights from baltimore to dallas',\n       'please list fares for all the flights from atlanta to philadelphia on august the first',\n       'what are the coach fares for flights from newark to la leaving after 3 pm',\n       'what are the coach fares for flights from pittsburgh to denver',\n       'all fares and flights from philadelphia',\n       'show prices for all flights from baltimore to dallas on july twenty ninth',\n       'what are the fares for flights serving a meal from boston to pittsburgh before noon on thursday'],\n      dtype='<U259')"
     },
     "execution_count": 28,
     "metadata": {},
     "output_type": "execute_result"
    }
   ],
   "source": [
    "data_x_train = np.array(data_x_train)\n",
    "data_x_train[(data_y_train == \"airfare\") & (flights_feature != 0)]"
   ],
   "metadata": {
    "collapsed": false,
    "ExecuteTime": {
     "end_time": "2024-01-30T20:02:59.196660400Z",
     "start_time": "2024-01-30T20:02:59.165906700Z"
    }
   },
   "id": "68a18dfb6098b41e",
   "execution_count": 28
  },
  {
   "cell_type": "code",
   "outputs": [
    {
     "data": {
      "text/plain": "set()"
     },
     "execution_count": 35,
     "metadata": {},
     "output_type": "execute_result"
    }
   ],
   "source": [
    "{s for s in data_x_train[(data_y_train == \"airfare\") & (flights_feature != 0)] if 'price' not in s and 'cost' not in s and 'fare' not in s}"
   ],
   "metadata": {
    "collapsed": false,
    "ExecuteTime": {
     "end_time": "2024-01-30T20:05:42.068216500Z",
     "start_time": "2024-01-30T20:05:42.030726200Z"
    }
   },
   "id": "fc984cdd0a24c6c0",
   "execution_count": 35
  },
  {
   "cell_type": "code",
   "outputs": [
    {
     "data": {
      "text/plain": "{'give me the least expensive first class round trip ticket on us air from cleveland to miami',\n 'hi could i get a one way ticket from milwaukee to orlando',\n 'hi i want a round trip ticket to dallas',\n \"i 'd like a round trip ticket from los angeles to tacoma washington\",\n \"i 'd like a ticket from denver to atlanta with a stopover in pittsburgh is this possible\",\n \"i 'd like to buy a coach class ticket from denver to atlanta with a stopover in pittsburgh\",\n \"i 'd like to have some information on a ticket from denver to pittsburgh and atlanta\",\n 'i need 2 first class tickets from dallas fort worth to san francisco',\n 'i need a first class ticket on united airlines from denver to baltimore scheduled for december seventeenth',\n 'i need a ticket from los angeles to charlotte that leaves early in the morning',\n 'i need one first class ticket from dallas fort worth to san francisco',\n 'i want a one way ticket from dallas to baltimore',\n 'i would like a ticket leaving from denver colorado to atlanta georgia with a stop in pittsburgh',\n 'i would like your rates between atlanta and boston on september third',\n \"in economy class from dallas to baltimore arriving july seventh i 'd like to know what 's the cheapest ticket possible\",\n \"okay i 've got somebody else who wants to take a round trip ticket from charlotte to montreal\",\n 'please show me round trip tickets from denver to oakland',\n 'show me round trip first class tickets from new york to miami',\n 'show me round trip tickets from new york to miami',\n 'show me the cheapest one way tickets from atlanta to dallas',\n 'show me the round trip tickets from baltimore to atlanta',\n 'show me the round trip tickets from baltimore to dallas',\n \"what 's the cheapest one way ticket from baltimore to atlanta\",\n 'what are the most expensive first class tickets between boston and san francisco',\n 'what is the cheapest one way ticket from denver to pittsburgh',\n 'what is the cheapest ticket from baltimore to san francisco on friday august thirtieth',\n 'what is the least expensive one way ticket from atlanta to denver leaving on october twelfth',\n 'what round trip tickets are there from cleveland to miami on us air that arrive before 4 pm'}"
     },
     "execution_count": 38,
     "metadata": {},
     "output_type": "execute_result"
    }
   ],
   "source": [
    "{s for s in data_x_train[(data_y_train == \"airfare\")] if 'price' not in s and 'how much' not in s and  'cost' not in s and 'fare' not in s}"
   ],
   "metadata": {
    "collapsed": false,
    "ExecuteTime": {
     "end_time": "2024-01-30T20:13:29.647014400Z",
     "start_time": "2024-01-30T20:13:29.598070900Z"
    }
   },
   "id": "1685b10cfc3f2fa4",
   "execution_count": 38
  },
  {
   "cell_type": "code",
   "outputs": [],
   "source": [
    "airfare_preditor = lambda s: (' price' in s) + (' cost ' in s) + (' fare' in s) + (' rate' in s) + (' ticket' in s) + ('how much' in s)\n"
   ],
   "metadata": {
    "collapsed": false,
    "ExecuteTime": {
     "end_time": "2024-01-30T20:16:16.455660Z",
     "start_time": "2024-01-30T20:16:16.449660500Z"
    }
   },
   "id": "796aad38528643bb",
   "execution_count": 39
  },
  {
   "cell_type": "code",
   "outputs": [],
   "source": [
    "def f1_score(tp, fp, fn):\n",
    "    assert tp or fn or fp\n",
    "    return 2 * tp / (2 * tp + fn + fp)\n",
    "\n",
    "\n",
    "def f1_scores(confusion_matrix):\n",
    "    tp = defaultdict(float)\n",
    "    fn = defaultdict(float)\n",
    "    fp = defaultdict(float)\n",
    "    all_labels = set(confusion_matrix)\n",
    "\n",
    "    for actual, row in confusion_matrix.items():\n",
    "        for predicted, value in row.items():\n",
    "            all_labels.add(predicted)\n",
    "            if predicted == actual:\n",
    "                tp[actual] = value\n",
    "            else:\n",
    "                fp[actual] += value\n",
    "                fn[predicted] += value\n",
    "\n",
    "    return [\n",
    "        (lb, tp[lb], fn[lb], fp[lb], f1_score(tp[lb], fn[lb], fp[lb]))\n",
    "        for lb in sorted(all_labels)\n",
    "    ]"
   ],
   "metadata": {
    "collapsed": false,
    "ExecuteTime": {
     "end_time": "2024-01-30T20:17:55.526571800Z",
     "start_time": "2024-01-30T20:17:55.511564300Z"
    }
   },
   "id": "fe0f8d712d297abf",
   "execution_count": 40
  },
  {
   "cell_type": "code",
   "outputs": [],
   "source": [
    "def confusion(model, on_data : tuple[list[str], list[str]]):\n",
    "    cm = defaultdict(lambda: defaultdict(int))\n",
    "    for x, y in zip(*on_data):\n",
    "        cm[y][model(x)] += 1\n",
    "    return cm"
   ],
   "metadata": {
    "collapsed": false,
    "ExecuteTime": {
     "end_time": "2024-01-30T20:26:01.186439600Z",
     "start_time": "2024-01-30T20:26:01.141623100Z"
    }
   },
   "id": "88026bc1da752451",
   "execution_count": 46
  },
  {
   "cell_type": "code",
   "outputs": [],
   "source": [
    "format_integer = format_confusion = str\n",
    "\n",
    "def format_f1_scores(scores: list[tuple[str, int, int, int, float]]):\n",
    "    return \"\\n\".join(\n",
    "        f\"  {label} ({', '.join(map(format_integer, nums))}): {format_confusion(value)}\"\n",
    "        for label, *nums, value in scores\n",
    "    )\n",
    "\n",
    "def print_train_f1_scores(model, on_data = [data_x_train, data_y_train]):\n",
    "    print(format_f1_scores(f1_scores(confusion(model, on_data))))"
   ],
   "metadata": {
    "collapsed": false,
    "ExecuteTime": {
     "end_time": "2024-01-30T20:25:05.134482400Z",
     "start_time": "2024-01-30T20:25:05.130733400Z"
    }
   },
   "id": "4148d19838a40f3d",
   "execution_count": 44
  },
  {
   "cell_type": "code",
   "outputs": [
    {
     "name": "stdout",
     "output_type": "stream",
     "text": [
      "  abbreviation (0.0, 0.0, 93.0): 0.0\n",
      "  aircraft (0.0, 0.0, 58.0): 0.0\n",
      "  airfare (299, 116.0, 20.0): 0.8147138964577657\n",
      "  airfare+flight_time (0.0, 0.0, 1.0): 0.0\n",
      "  airline (0.0, 0.0, 118.0): 0.0\n",
      "  airline+flight_no (0.0, 0.0, 1.0): 0.0\n",
      "  airport (0.0, 0.0, 13.0): 0.0\n",
      "  capacity (0.0, 0.0, 11.0): 0.0\n",
      "  cheapest (0.0, 0.0, 1.0): 0.0\n",
      "  city (0.0, 0.0, 15.0): 0.0\n",
      "  distance (0.0, 0.0, 13.0): 0.0\n",
      "  flight (2703, 589.0, 52.0): 0.8939970233173474\n",
      "  flight+airfare (0.0, 0.0, 14.0): 0.0\n",
      "  flight_no (0.0, 0.0, 9.0): 0.0\n",
      "  flight_time (0.0, 0.0, 44.0): 0.0\n",
      "  ground_fare (0.0, 0.0, 14.0): 0.0\n",
      "  ground_service (0.0, 0.0, 185.0): 0.0\n",
      "  meal (0.0, 0.0, 2.0): 0.0\n",
      "  quantity (0.0, 0.0, 37.0): 0.0\n",
      "  restriction (0.0, 0.0, 4.0): 0.0\n"
     ]
    }
   ],
   "source": [
    "print_train_f1_scores(lambda s: 'airfare' if airfare_preditor(s) else 'flight')"
   ],
   "metadata": {
    "collapsed": false,
    "ExecuteTime": {
     "end_time": "2024-01-30T20:26:07.746101300Z",
     "start_time": "2024-01-30T20:26:07.696218400Z"
    }
   },
   "id": "27f32d7e0ff2f85b",
   "execution_count": 47
  },
  {
   "cell_type": "code",
   "outputs": [
    {
     "name": "stdout",
     "output_type": "stream",
     "text": [
      "  abbreviation (0.0, 0.0, 93.0): 0.0\n",
      "  aircraft (0.0, 0.0, 58.0): 0.0\n",
      "  airfare (296, 103.0, 23.0): 0.8245125348189415\n",
      "  airfare+flight_time (0.0, 0.0, 1.0): 0.0\n",
      "  airline (0.0, 0.0, 118.0): 0.0\n",
      "  airline+flight_no (0.0, 0.0, 1.0): 0.0\n",
      "  airport (0.0, 0.0, 13.0): 0.0\n",
      "  capacity (0.0, 0.0, 11.0): 0.0\n",
      "  cheapest (0.0, 0.0, 1.0): 0.0\n",
      "  city (0.0, 0.0, 15.0): 0.0\n",
      "  distance (0.0, 0.0, 13.0): 0.0\n",
      "  flight (2697, 403.0, 58.0): 0.921263877028181\n",
      "  flight+airfare (0.0, 0.0, 14.0): 0.0\n",
      "  flight_no (0.0, 0.0, 9.0): 0.0\n",
      "  flight_time (0.0, 0.0, 44.0): 0.0\n",
      "  ground_fare (0.0, 0.0, 14.0): 0.0\n",
      "  ground_service (179, 29.0, 6.0): 0.910941475826972\n",
      "  meal (0.0, 0.0, 2.0): 0.0\n",
      "  quantity (0.0, 0.0, 37.0): 0.0\n",
      "  restriction (0.0, 0.0, 4.0): 0.0\n"
     ]
    }
   ],
   "source": [
    "ground_predictor = lambda s: ('ground transport' in s) + (' car ' in s ) + (' cars ' in s) + (' limo' in s) + (' taxi' in s) + (' downtown' in s)\n",
    "\n",
    "print_train_f1_scores(lambda s:'ground_service' if ground_predictor(s) else 'airfare' if airfare_preditor(s) else 'flight')\n"
   ],
   "metadata": {
    "collapsed": false,
    "ExecuteTime": {
     "end_time": "2024-01-30T20:47:39.736695700Z",
     "start_time": "2024-01-30T20:47:39.691425900Z"
    }
   },
   "id": "40e9c28469ecf293",
   "execution_count": 61
  },
  {
   "cell_type": "code",
   "outputs": [],
   "source": [
    "df = DataFrame({'x': data_x_train, 'y': data_y_train})"
   ],
   "metadata": {
    "collapsed": false,
    "ExecuteTime": {
     "end_time": "2024-01-30T20:47:40.248520400Z",
     "start_time": "2024-01-30T20:47:40.236517500Z"
    }
   },
   "id": "697ffcf2819b586",
   "execution_count": 62
  },
  {
   "cell_type": "code",
   "outputs": [
    {
     "data": {
      "text/plain": "                                                      x               y  gs_p  \\\n0     can i see ground transportation from long beac...  ground_service     2   \n1     i 'd like to see flights from baltimore to atl...          flight     0   \n2     what flights from salt lake city to new york c...          flight     0   \n3     i need a flight from denver to philadelphia on...          flight     0   \n4                     ground transportation in san jose  ground_service     1   \n...                                                 ...             ...   ...   \n3702  i need to go from boston to atlanta in the sam...          flight     0   \n3703                                  oakland to denver          flight     0   \n3704                             what does us stand for    abbreviation     0   \n3705  how much time does it take to go between the a...  ground_service     2   \n3706  show any flights leaving san francisco on sund...          flight     0   \n\n      a_p  \n0       0  \n1       0  \n2       0  \n3       0  \n4       0  \n...   ...  \n3702    0  \n3703    0  \n3704    0  \n3705    1  \n3706    0  \n\n[3707 rows x 4 columns]",
      "text/html": "<div>\n<style scoped>\n    .dataframe tbody tr th:only-of-type {\n        vertical-align: middle;\n    }\n\n    .dataframe tbody tr th {\n        vertical-align: top;\n    }\n\n    .dataframe thead th {\n        text-align: right;\n    }\n</style>\n<table border=\"1\" class=\"dataframe\">\n  <thead>\n    <tr style=\"text-align: right;\">\n      <th></th>\n      <th>x</th>\n      <th>y</th>\n      <th>gs_p</th>\n      <th>a_p</th>\n    </tr>\n  </thead>\n  <tbody>\n    <tr>\n      <th>0</th>\n      <td>can i see ground transportation from long beac...</td>\n      <td>ground_service</td>\n      <td>2</td>\n      <td>0</td>\n    </tr>\n    <tr>\n      <th>1</th>\n      <td>i 'd like to see flights from baltimore to atl...</td>\n      <td>flight</td>\n      <td>0</td>\n      <td>0</td>\n    </tr>\n    <tr>\n      <th>2</th>\n      <td>what flights from salt lake city to new york c...</td>\n      <td>flight</td>\n      <td>0</td>\n      <td>0</td>\n    </tr>\n    <tr>\n      <th>3</th>\n      <td>i need a flight from denver to philadelphia on...</td>\n      <td>flight</td>\n      <td>0</td>\n      <td>0</td>\n    </tr>\n    <tr>\n      <th>4</th>\n      <td>ground transportation in san jose</td>\n      <td>ground_service</td>\n      <td>1</td>\n      <td>0</td>\n    </tr>\n    <tr>\n      <th>...</th>\n      <td>...</td>\n      <td>...</td>\n      <td>...</td>\n      <td>...</td>\n    </tr>\n    <tr>\n      <th>3702</th>\n      <td>i need to go from boston to atlanta in the sam...</td>\n      <td>flight</td>\n      <td>0</td>\n      <td>0</td>\n    </tr>\n    <tr>\n      <th>3703</th>\n      <td>oakland to denver</td>\n      <td>flight</td>\n      <td>0</td>\n      <td>0</td>\n    </tr>\n    <tr>\n      <th>3704</th>\n      <td>what does us stand for</td>\n      <td>abbreviation</td>\n      <td>0</td>\n      <td>0</td>\n    </tr>\n    <tr>\n      <th>3705</th>\n      <td>how much time does it take to go between the a...</td>\n      <td>ground_service</td>\n      <td>2</td>\n      <td>1</td>\n    </tr>\n    <tr>\n      <th>3706</th>\n      <td>show any flights leaving san francisco on sund...</td>\n      <td>flight</td>\n      <td>0</td>\n      <td>0</td>\n    </tr>\n  </tbody>\n</table>\n<p>3707 rows × 4 columns</p>\n</div>"
     },
     "execution_count": 63,
     "metadata": {},
     "output_type": "execute_result"
    }
   ],
   "source": [
    "df['gs_p'] = df['x'].apply(ground_predictor)\n",
    "df['a_p'] = df['x'].apply(airfare_preditor)\n",
    "df"
   ],
   "metadata": {
    "collapsed": false,
    "ExecuteTime": {
     "end_time": "2024-01-30T20:47:41.605773400Z",
     "start_time": "2024-01-30T20:47:41.568016Z"
    }
   },
   "id": "df1b9a9a2fcd2a5e",
   "execution_count": 63
  },
  {
   "cell_type": "code",
   "outputs": [
    {
     "data": {
      "text/plain": "                                                      x               y  gs_p  \\\n104   i 'd like to know the ground travel available ...  ground_service     0   \n462                                     train to newark  ground_service     0   \n1299               in new york i 'll need to rent a car  ground_service     0   \n1430                               ground san francisco  ground_service     0   \n1445  what is the transportation time from the airpo...  ground_service     0   \n3280              in pittsburgh i 'd like to rent a car  ground_service     0   \n\n      a_p  \n104     0  \n462     0  \n1299    0  \n1430    0  \n1445    0  \n3280    0  ",
      "text/html": "<div>\n<style scoped>\n    .dataframe tbody tr th:only-of-type {\n        vertical-align: middle;\n    }\n\n    .dataframe tbody tr th {\n        vertical-align: top;\n    }\n\n    .dataframe thead th {\n        text-align: right;\n    }\n</style>\n<table border=\"1\" class=\"dataframe\">\n  <thead>\n    <tr style=\"text-align: right;\">\n      <th></th>\n      <th>x</th>\n      <th>y</th>\n      <th>gs_p</th>\n      <th>a_p</th>\n    </tr>\n  </thead>\n  <tbody>\n    <tr>\n      <th>104</th>\n      <td>i 'd like to know the ground travel available ...</td>\n      <td>ground_service</td>\n      <td>0</td>\n      <td>0</td>\n    </tr>\n    <tr>\n      <th>462</th>\n      <td>train to newark</td>\n      <td>ground_service</td>\n      <td>0</td>\n      <td>0</td>\n    </tr>\n    <tr>\n      <th>1299</th>\n      <td>in new york i 'll need to rent a car</td>\n      <td>ground_service</td>\n      <td>0</td>\n      <td>0</td>\n    </tr>\n    <tr>\n      <th>1430</th>\n      <td>ground san francisco</td>\n      <td>ground_service</td>\n      <td>0</td>\n      <td>0</td>\n    </tr>\n    <tr>\n      <th>1445</th>\n      <td>what is the transportation time from the airpo...</td>\n      <td>ground_service</td>\n      <td>0</td>\n      <td>0</td>\n    </tr>\n    <tr>\n      <th>3280</th>\n      <td>in pittsburgh i 'd like to rent a car</td>\n      <td>ground_service</td>\n      <td>0</td>\n      <td>0</td>\n    </tr>\n  </tbody>\n</table>\n</div>"
     },
     "execution_count": 64,
     "metadata": {},
     "output_type": "execute_result"
    }
   ],
   "source": [
    "df[(df.y == 'ground_service') & (df.gs_p == 0)]"
   ],
   "metadata": {
    "collapsed": false,
    "ExecuteTime": {
     "end_time": "2024-01-30T20:47:42.539893Z",
     "start_time": "2024-01-30T20:47:42.525414300Z"
    }
   },
   "id": "f9810c18b68c0e9d",
   "execution_count": 64
  },
  {
   "cell_type": "code",
   "outputs": [
    {
     "data": {
      "text/plain": "                                                      x            y  gs_p  \\\n76    how do i get from pittsburgh airport to downto...       flight     1   \n146   what is the distance from la guardia to new yo...     distance     1   \n232            how far is oakland airport from downtown     distance     1   \n349       how much does it cost to rent a car in tacoma  ground_fare     1   \n375          what are the costs of car rental in dallas  ground_fare     1   \n401   how much is the ground transportation between ...  ground_fare     2   \n481   what is the cost of limousine service in phila...  ground_fare     1   \n533             what are the rental car rates in dallas  ground_fare     1   \n922   how do i get from the airport to downtown in t...       flight     1   \n950   what is the cost of the air taxi operation at ...  ground_fare     1   \n1037  how can i get from the airport in pittsburgh t...       flight     1   \n1045  can you tell me how to get from the airport in...       flight     1   \n1726          how much would car rental cost in atlanta  ground_fare     1   \n1745  how much does it cost to get downtown from the...  ground_fare     2   \n1782    how far is the airport from downtown pittsburgh     distance     1   \n1828  how much does the limousine service cost withi...  ground_fare     1   \n2399  how much does it cost to go from downtown to l...      airfare     1   \n2425  how expensive is the san francisco limousine s...  ground_fare     1   \n2431  how much is a limousine between dallas fort wo...  ground_fare     1   \n2447  do you have the fare for traveling from oaklan...      airfare     1   \n2641  how can i go from the san francisco airport to...       flight     1   \n2985  how long is a trip from philadelphia airport t...     distance     1   \n3157  how can i get from the denver airport to downtown       flight     1   \n3198    what airport in new york is closest to downtown      airport     1   \n3398  and how much does it cost to travel from bosto...      airfare     1   \n3535        what price is a limousine service in boston  ground_fare     1   \n3542     how far is downtown from the airport in dallas     distance     1   \n3567     what are the rental car rates in san francisco  ground_fare     1   \n3651  what is the distance between pittsburgh airpor...     distance     1   \n\n      a_p  \n76      0  \n146     0  \n232     0  \n349     2  \n375     0  \n401     1  \n481     1  \n533     1  \n922     0  \n950     1  \n1037    0  \n1045    0  \n1726    2  \n1745    2  \n1782    0  \n1828    2  \n2399    2  \n2425    0  \n2431    1  \n2447    1  \n2641    0  \n2985    0  \n3157    0  \n3198    0  \n3398    2  \n3535    1  \n3542    0  \n3567    1  \n3651    0  ",
      "text/html": "<div>\n<style scoped>\n    .dataframe tbody tr th:only-of-type {\n        vertical-align: middle;\n    }\n\n    .dataframe tbody tr th {\n        vertical-align: top;\n    }\n\n    .dataframe thead th {\n        text-align: right;\n    }\n</style>\n<table border=\"1\" class=\"dataframe\">\n  <thead>\n    <tr style=\"text-align: right;\">\n      <th></th>\n      <th>x</th>\n      <th>y</th>\n      <th>gs_p</th>\n      <th>a_p</th>\n    </tr>\n  </thead>\n  <tbody>\n    <tr>\n      <th>76</th>\n      <td>how do i get from pittsburgh airport to downto...</td>\n      <td>flight</td>\n      <td>1</td>\n      <td>0</td>\n    </tr>\n    <tr>\n      <th>146</th>\n      <td>what is the distance from la guardia to new yo...</td>\n      <td>distance</td>\n      <td>1</td>\n      <td>0</td>\n    </tr>\n    <tr>\n      <th>232</th>\n      <td>how far is oakland airport from downtown</td>\n      <td>distance</td>\n      <td>1</td>\n      <td>0</td>\n    </tr>\n    <tr>\n      <th>349</th>\n      <td>how much does it cost to rent a car in tacoma</td>\n      <td>ground_fare</td>\n      <td>1</td>\n      <td>2</td>\n    </tr>\n    <tr>\n      <th>375</th>\n      <td>what are the costs of car rental in dallas</td>\n      <td>ground_fare</td>\n      <td>1</td>\n      <td>0</td>\n    </tr>\n    <tr>\n      <th>401</th>\n      <td>how much is the ground transportation between ...</td>\n      <td>ground_fare</td>\n      <td>2</td>\n      <td>1</td>\n    </tr>\n    <tr>\n      <th>481</th>\n      <td>what is the cost of limousine service in phila...</td>\n      <td>ground_fare</td>\n      <td>1</td>\n      <td>1</td>\n    </tr>\n    <tr>\n      <th>533</th>\n      <td>what are the rental car rates in dallas</td>\n      <td>ground_fare</td>\n      <td>1</td>\n      <td>1</td>\n    </tr>\n    <tr>\n      <th>922</th>\n      <td>how do i get from the airport to downtown in t...</td>\n      <td>flight</td>\n      <td>1</td>\n      <td>0</td>\n    </tr>\n    <tr>\n      <th>950</th>\n      <td>what is the cost of the air taxi operation at ...</td>\n      <td>ground_fare</td>\n      <td>1</td>\n      <td>1</td>\n    </tr>\n    <tr>\n      <th>1037</th>\n      <td>how can i get from the airport in pittsburgh t...</td>\n      <td>flight</td>\n      <td>1</td>\n      <td>0</td>\n    </tr>\n    <tr>\n      <th>1045</th>\n      <td>can you tell me how to get from the airport in...</td>\n      <td>flight</td>\n      <td>1</td>\n      <td>0</td>\n    </tr>\n    <tr>\n      <th>1726</th>\n      <td>how much would car rental cost in atlanta</td>\n      <td>ground_fare</td>\n      <td>1</td>\n      <td>2</td>\n    </tr>\n    <tr>\n      <th>1745</th>\n      <td>how much does it cost to get downtown from the...</td>\n      <td>ground_fare</td>\n      <td>2</td>\n      <td>2</td>\n    </tr>\n    <tr>\n      <th>1782</th>\n      <td>how far is the airport from downtown pittsburgh</td>\n      <td>distance</td>\n      <td>1</td>\n      <td>0</td>\n    </tr>\n    <tr>\n      <th>1828</th>\n      <td>how much does the limousine service cost withi...</td>\n      <td>ground_fare</td>\n      <td>1</td>\n      <td>2</td>\n    </tr>\n    <tr>\n      <th>2399</th>\n      <td>how much does it cost to go from downtown to l...</td>\n      <td>airfare</td>\n      <td>1</td>\n      <td>2</td>\n    </tr>\n    <tr>\n      <th>2425</th>\n      <td>how expensive is the san francisco limousine s...</td>\n      <td>ground_fare</td>\n      <td>1</td>\n      <td>0</td>\n    </tr>\n    <tr>\n      <th>2431</th>\n      <td>how much is a limousine between dallas fort wo...</td>\n      <td>ground_fare</td>\n      <td>1</td>\n      <td>1</td>\n    </tr>\n    <tr>\n      <th>2447</th>\n      <td>do you have the fare for traveling from oaklan...</td>\n      <td>airfare</td>\n      <td>1</td>\n      <td>1</td>\n    </tr>\n    <tr>\n      <th>2641</th>\n      <td>how can i go from the san francisco airport to...</td>\n      <td>flight</td>\n      <td>1</td>\n      <td>0</td>\n    </tr>\n    <tr>\n      <th>2985</th>\n      <td>how long is a trip from philadelphia airport t...</td>\n      <td>distance</td>\n      <td>1</td>\n      <td>0</td>\n    </tr>\n    <tr>\n      <th>3157</th>\n      <td>how can i get from the denver airport to downtown</td>\n      <td>flight</td>\n      <td>1</td>\n      <td>0</td>\n    </tr>\n    <tr>\n      <th>3198</th>\n      <td>what airport in new york is closest to downtown</td>\n      <td>airport</td>\n      <td>1</td>\n      <td>0</td>\n    </tr>\n    <tr>\n      <th>3398</th>\n      <td>and how much does it cost to travel from bosto...</td>\n      <td>airfare</td>\n      <td>1</td>\n      <td>2</td>\n    </tr>\n    <tr>\n      <th>3535</th>\n      <td>what price is a limousine service in boston</td>\n      <td>ground_fare</td>\n      <td>1</td>\n      <td>1</td>\n    </tr>\n    <tr>\n      <th>3542</th>\n      <td>how far is downtown from the airport in dallas</td>\n      <td>distance</td>\n      <td>1</td>\n      <td>0</td>\n    </tr>\n    <tr>\n      <th>3567</th>\n      <td>what are the rental car rates in san francisco</td>\n      <td>ground_fare</td>\n      <td>1</td>\n      <td>1</td>\n    </tr>\n    <tr>\n      <th>3651</th>\n      <td>what is the distance between pittsburgh airpor...</td>\n      <td>distance</td>\n      <td>1</td>\n      <td>0</td>\n    </tr>\n  </tbody>\n</table>\n</div>"
     },
     "execution_count": 65,
     "metadata": {},
     "output_type": "execute_result"
    }
   ],
   "source": [
    "df[(df.y != 'ground_service') & (df.gs_p != 0)]\n"
   ],
   "metadata": {
    "collapsed": false,
    "ExecuteTime": {
     "end_time": "2024-01-30T20:47:43.656752700Z",
     "start_time": "2024-01-30T20:47:43.645503300Z"
    }
   },
   "id": "5589fa8da66f752e",
   "execution_count": 65
  },
  {
   "cell_type": "code",
   "outputs": [],
   "source": [
    "costs_predictor = lambda s: (' price ' in s) + (' cost ' in s) + (' fare ' in s) + (' prices ' in s) + (' costs' in s) + (' fares' in s) + (' rate ' in s) + (' ticket ' in s) + (' rates ' in s) + (' tickets ' in s) + ('how much' in s)\n",
    "\n",
    "distance_predictor = lambda s: (' distance ' in s) + (' distances ' in s) + ('how far ' in s) + ('how long ' in s)\n",
    "\n",
    "flights_predictor = lambda s: (' flights ' in s) + (' list ' in s)\n",
    "\n",
    "city_predictor = lambda s: ('what city ' in s) + ('where is ' in s) + (' cities ' in s) + ('time zone' in s)"
   ],
   "metadata": {
    "collapsed": false,
    "ExecuteTime": {
     "end_time": "2024-01-30T21:01:57.913683700Z",
     "start_time": "2024-01-30T21:01:57.860727400Z"
    }
   },
   "id": "912ce8c2915486b1",
   "execution_count": 75
  },
  {
   "cell_type": "code",
   "outputs": [
    {
     "name": "stdout",
     "output_type": "stream",
     "text": [
      "  abbreviation (0.0, 0.0, 93.0): 0.0\n",
      "  aircraft (0.0, 0.0, 58.0): 0.0\n",
      "  airfare (253, 49.0, 66.0): 0.8148148148148148\n",
      "  airfare+flight_time (0.0, 0.0, 1.0): 0.0\n",
      "  airline (0.0, 0.0, 118.0): 0.0\n",
      "  airline+flight_no (0.0, 0.0, 1.0): 0.0\n",
      "  airport (0.0, 0.0, 13.0): 0.0\n",
      "  capacity (0.0, 0.0, 11.0): 0.0\n",
      "  cheapest (0.0, 0.0, 1.0): 0.0\n",
      "  city (13, 8.0, 2.0): 0.7222222222222222\n",
      "  distance (13, 1.0, 0.0): 0.9629629629629629\n",
      "  flight (2707, 376.0, 48.0): 0.9273723878040425\n",
      "  flight+airfare (12, 74.0, 2.0): 0.24\n",
      "  flight_no (0.0, 0.0, 9.0): 0.0\n",
      "  flight_time (0.0, 0.0, 44.0): 0.0\n",
      "  ground_fare (12, 5.0, 2.0): 0.7741935483870968\n",
      "  ground_service (176, 8.0, 9.0): 0.9539295392953929\n",
      "  meal (0.0, 0.0, 2.0): 0.0\n",
      "  quantity (0.0, 0.0, 37.0): 0.0\n",
      "  restriction (0.0, 0.0, 4.0): 0.0\n"
     ]
    }
   ],
   "source": [
    "def air_or_ground_model(s):\n",
    "    if city_predictor(s):\n",
    "        return 'city'\n",
    "    \n",
    "    costs = costs_predictor(s)\n",
    "    distance = distance_predictor(s)\n",
    "    ground = ground_predictor(s)\n",
    "\n",
    "    if distance: \n",
    "        return 'distance'\n",
    "    if ground:\n",
    "        return 'ground_fare' if costs else 'ground_service'\n",
    "    if costs:    \n",
    "        return 'flight+airfare' if flights_predictor(s) else 'airfare'\n",
    "    return 'flight'\n",
    "\n",
    "print_train_f1_scores(air_or_ground_model)"
   ],
   "metadata": {
    "collapsed": false,
    "ExecuteTime": {
     "end_time": "2024-01-30T21:01:58.118832500Z",
     "start_time": "2024-01-30T21:01:58.072073700Z"
    }
   },
   "id": "78918f402b32deb3",
   "execution_count": 76
  },
  {
   "cell_type": "code",
   "outputs": [],
   "source": [
    "df['ag_m'] = df['x'].apply(air_or_ground_model)"
   ],
   "metadata": {
    "collapsed": false,
    "ExecuteTime": {
     "end_time": "2024-01-30T21:05:24.553474200Z",
     "start_time": "2024-01-30T21:05:24.510719200Z"
    }
   },
   "id": "abec62399787936e",
   "execution_count": 77
  },
  {
   "cell_type": "code",
   "outputs": [
    {
     "data": {
      "text/plain": "                                                      x               y  gs_p  \\\n100   what 's the difference between fare code q and...    abbreviation     0   \n131           show me the cheapest fare in the database        cheapest     0   \n325   what types of aircraft can i get a first class...        aircraft     0   \n331   i would like the flight number and the time fo...       flight_no     0   \n368         how many fare codes belong to economy class        quantity     0   \n527   how many fares are there one way from tacoma t...        quantity     0   \n537                                 what is fare code f    abbreviation     0   \n539    list lowest cost flight from dallas to baltimore          flight     0   \n553                          please explain fare code f    abbreviation     0   \n789                         what does fare code qw mean    abbreviation     0   \n1145  flights from denver to philadelphia include fares          flight     0   \n1169  list lowest cost flight from dallas to baltimo...          flight     0   \n1239                               what is fare code qw    abbreviation     0   \n1291                              describe fare code qx    abbreviation     0   \n1323          show me what fare codes symbols stand for    abbreviation     0   \n1367  show me the lowest price from dallas to baltimore          flight     0   \n1371  which flight is a one way fare at 329 dollars ...          flight     0   \n1574                                what is fare code m    abbreviation     0   \n1585  okay that sounds great let 's go from atlanta ...          flight     0   \n1599          is fare code b the same as business class    abbreviation     0   \n1657                        what does fare code qo mean    abbreviation     0   \n1846  what 's the difference between fare code q and...    abbreviation     0   \n2001  again i will repeat i want to make a one way f...  flight+airfare     0   \n2119  flights from baltimore to philadelphia where t...          flight     0   \n2176                    what does the fare code yn mean    abbreviation     0   \n2256  flights from baltimore denver and pittsburgh t...          flight     0   \n2275  i would like to fly the cheapest rate availabl...          flight     0   \n2387                        what does fare code qx mean    abbreviation     0   \n2395                     what does the fare code y mean    abbreviation     0   \n2519  what is the fare code y and what is the fare c...    abbreviation     0   \n2617                               what is fare class h    abbreviation     0   \n2801                               what 's fare code yn    abbreviation     0   \n2823                      what are fare codes qw and qx    abbreviation     0   \n2875                          what is fare code qo mean    abbreviation     0   \n2878  great now what i want to find out is on april ...          flight     0   \n2904                               explain fare code qx    abbreviation     0   \n2909                         what does fare code q mean    abbreviation     0   \n2920                            explain the fare code q    abbreviation     0   \n2942                                what is fare code q    abbreviation     0   \n3016                    what does the fare code qw mean    abbreviation     0   \n3072                                what is fare code h    abbreviation     0   \n3092                         what does fare code y mean    abbreviation     0   \n3197                  what does fn under fare code mean    abbreviation     0   \n3238                         what does fare code m mean    abbreviation     0   \n3257                                what is fare code c    abbreviation     0   \n3342            i 'd like to see the fare code again qx    abbreviation     0   \n3496                    what does the fare code qx mean    abbreviation     0   \n3563         what is the meaning of fare code qx and qw    abbreviation     0   \n3621              what does the fare code f and fn mean    abbreviation     0   \n\n      a_p     ag_m  \n100     1  airfare  \n131     1  airfare  \n325     1  airfare  \n331     1  airfare  \n368     1  airfare  \n527     1  airfare  \n537     1  airfare  \n539     1  airfare  \n553     1  airfare  \n789     1  airfare  \n1145    1  airfare  \n1169    1  airfare  \n1239    1  airfare  \n1291    1  airfare  \n1323    1  airfare  \n1367    1  airfare  \n1371    1  airfare  \n1574    1  airfare  \n1585    1  airfare  \n1599    1  airfare  \n1657    1  airfare  \n1846    1  airfare  \n2001    2  airfare  \n2119    1  airfare  \n2176    1  airfare  \n2256    1  airfare  \n2275    1  airfare  \n2387    1  airfare  \n2395    1  airfare  \n2519    1  airfare  \n2617    1  airfare  \n2801    1  airfare  \n2823    1  airfare  \n2875    1  airfare  \n2878    1  airfare  \n2904    1  airfare  \n2909    1  airfare  \n2920    1  airfare  \n2942    1  airfare  \n3016    1  airfare  \n3072    1  airfare  \n3092    1  airfare  \n3197    1  airfare  \n3238    1  airfare  \n3257    1  airfare  \n3342    1  airfare  \n3496    1  airfare  \n3563    1  airfare  \n3621    1  airfare  ",
      "text/html": "<div>\n<style scoped>\n    .dataframe tbody tr th:only-of-type {\n        vertical-align: middle;\n    }\n\n    .dataframe tbody tr th {\n        vertical-align: top;\n    }\n\n    .dataframe thead th {\n        text-align: right;\n    }\n</style>\n<table border=\"1\" class=\"dataframe\">\n  <thead>\n    <tr style=\"text-align: right;\">\n      <th></th>\n      <th>x</th>\n      <th>y</th>\n      <th>gs_p</th>\n      <th>a_p</th>\n      <th>ag_m</th>\n    </tr>\n  </thead>\n  <tbody>\n    <tr>\n      <th>100</th>\n      <td>what 's the difference between fare code q and...</td>\n      <td>abbreviation</td>\n      <td>0</td>\n      <td>1</td>\n      <td>airfare</td>\n    </tr>\n    <tr>\n      <th>131</th>\n      <td>show me the cheapest fare in the database</td>\n      <td>cheapest</td>\n      <td>0</td>\n      <td>1</td>\n      <td>airfare</td>\n    </tr>\n    <tr>\n      <th>325</th>\n      <td>what types of aircraft can i get a first class...</td>\n      <td>aircraft</td>\n      <td>0</td>\n      <td>1</td>\n      <td>airfare</td>\n    </tr>\n    <tr>\n      <th>331</th>\n      <td>i would like the flight number and the time fo...</td>\n      <td>flight_no</td>\n      <td>0</td>\n      <td>1</td>\n      <td>airfare</td>\n    </tr>\n    <tr>\n      <th>368</th>\n      <td>how many fare codes belong to economy class</td>\n      <td>quantity</td>\n      <td>0</td>\n      <td>1</td>\n      <td>airfare</td>\n    </tr>\n    <tr>\n      <th>527</th>\n      <td>how many fares are there one way from tacoma t...</td>\n      <td>quantity</td>\n      <td>0</td>\n      <td>1</td>\n      <td>airfare</td>\n    </tr>\n    <tr>\n      <th>537</th>\n      <td>what is fare code f</td>\n      <td>abbreviation</td>\n      <td>0</td>\n      <td>1</td>\n      <td>airfare</td>\n    </tr>\n    <tr>\n      <th>539</th>\n      <td>list lowest cost flight from dallas to baltimore</td>\n      <td>flight</td>\n      <td>0</td>\n      <td>1</td>\n      <td>airfare</td>\n    </tr>\n    <tr>\n      <th>553</th>\n      <td>please explain fare code f</td>\n      <td>abbreviation</td>\n      <td>0</td>\n      <td>1</td>\n      <td>airfare</td>\n    </tr>\n    <tr>\n      <th>789</th>\n      <td>what does fare code qw mean</td>\n      <td>abbreviation</td>\n      <td>0</td>\n      <td>1</td>\n      <td>airfare</td>\n    </tr>\n    <tr>\n      <th>1145</th>\n      <td>flights from denver to philadelphia include fares</td>\n      <td>flight</td>\n      <td>0</td>\n      <td>1</td>\n      <td>airfare</td>\n    </tr>\n    <tr>\n      <th>1169</th>\n      <td>list lowest cost flight from dallas to baltimo...</td>\n      <td>flight</td>\n      <td>0</td>\n      <td>1</td>\n      <td>airfare</td>\n    </tr>\n    <tr>\n      <th>1239</th>\n      <td>what is fare code qw</td>\n      <td>abbreviation</td>\n      <td>0</td>\n      <td>1</td>\n      <td>airfare</td>\n    </tr>\n    <tr>\n      <th>1291</th>\n      <td>describe fare code qx</td>\n      <td>abbreviation</td>\n      <td>0</td>\n      <td>1</td>\n      <td>airfare</td>\n    </tr>\n    <tr>\n      <th>1323</th>\n      <td>show me what fare codes symbols stand for</td>\n      <td>abbreviation</td>\n      <td>0</td>\n      <td>1</td>\n      <td>airfare</td>\n    </tr>\n    <tr>\n      <th>1367</th>\n      <td>show me the lowest price from dallas to baltimore</td>\n      <td>flight</td>\n      <td>0</td>\n      <td>1</td>\n      <td>airfare</td>\n    </tr>\n    <tr>\n      <th>1371</th>\n      <td>which flight is a one way fare at 329 dollars ...</td>\n      <td>flight</td>\n      <td>0</td>\n      <td>1</td>\n      <td>airfare</td>\n    </tr>\n    <tr>\n      <th>1574</th>\n      <td>what is fare code m</td>\n      <td>abbreviation</td>\n      <td>0</td>\n      <td>1</td>\n      <td>airfare</td>\n    </tr>\n    <tr>\n      <th>1585</th>\n      <td>okay that sounds great let 's go from atlanta ...</td>\n      <td>flight</td>\n      <td>0</td>\n      <td>1</td>\n      <td>airfare</td>\n    </tr>\n    <tr>\n      <th>1599</th>\n      <td>is fare code b the same as business class</td>\n      <td>abbreviation</td>\n      <td>0</td>\n      <td>1</td>\n      <td>airfare</td>\n    </tr>\n    <tr>\n      <th>1657</th>\n      <td>what does fare code qo mean</td>\n      <td>abbreviation</td>\n      <td>0</td>\n      <td>1</td>\n      <td>airfare</td>\n    </tr>\n    <tr>\n      <th>1846</th>\n      <td>what 's the difference between fare code q and...</td>\n      <td>abbreviation</td>\n      <td>0</td>\n      <td>1</td>\n      <td>airfare</td>\n    </tr>\n    <tr>\n      <th>2001</th>\n      <td>again i will repeat i want to make a one way f...</td>\n      <td>flight+airfare</td>\n      <td>0</td>\n      <td>2</td>\n      <td>airfare</td>\n    </tr>\n    <tr>\n      <th>2119</th>\n      <td>flights from baltimore to philadelphia where t...</td>\n      <td>flight</td>\n      <td>0</td>\n      <td>1</td>\n      <td>airfare</td>\n    </tr>\n    <tr>\n      <th>2176</th>\n      <td>what does the fare code yn mean</td>\n      <td>abbreviation</td>\n      <td>0</td>\n      <td>1</td>\n      <td>airfare</td>\n    </tr>\n    <tr>\n      <th>2256</th>\n      <td>flights from baltimore denver and pittsburgh t...</td>\n      <td>flight</td>\n      <td>0</td>\n      <td>1</td>\n      <td>airfare</td>\n    </tr>\n    <tr>\n      <th>2275</th>\n      <td>i would like to fly the cheapest rate availabl...</td>\n      <td>flight</td>\n      <td>0</td>\n      <td>1</td>\n      <td>airfare</td>\n    </tr>\n    <tr>\n      <th>2387</th>\n      <td>what does fare code qx mean</td>\n      <td>abbreviation</td>\n      <td>0</td>\n      <td>1</td>\n      <td>airfare</td>\n    </tr>\n    <tr>\n      <th>2395</th>\n      <td>what does the fare code y mean</td>\n      <td>abbreviation</td>\n      <td>0</td>\n      <td>1</td>\n      <td>airfare</td>\n    </tr>\n    <tr>\n      <th>2519</th>\n      <td>what is the fare code y and what is the fare c...</td>\n      <td>abbreviation</td>\n      <td>0</td>\n      <td>1</td>\n      <td>airfare</td>\n    </tr>\n    <tr>\n      <th>2617</th>\n      <td>what is fare class h</td>\n      <td>abbreviation</td>\n      <td>0</td>\n      <td>1</td>\n      <td>airfare</td>\n    </tr>\n    <tr>\n      <th>2801</th>\n      <td>what 's fare code yn</td>\n      <td>abbreviation</td>\n      <td>0</td>\n      <td>1</td>\n      <td>airfare</td>\n    </tr>\n    <tr>\n      <th>2823</th>\n      <td>what are fare codes qw and qx</td>\n      <td>abbreviation</td>\n      <td>0</td>\n      <td>1</td>\n      <td>airfare</td>\n    </tr>\n    <tr>\n      <th>2875</th>\n      <td>what is fare code qo mean</td>\n      <td>abbreviation</td>\n      <td>0</td>\n      <td>1</td>\n      <td>airfare</td>\n    </tr>\n    <tr>\n      <th>2878</th>\n      <td>great now what i want to find out is on april ...</td>\n      <td>flight</td>\n      <td>0</td>\n      <td>1</td>\n      <td>airfare</td>\n    </tr>\n    <tr>\n      <th>2904</th>\n      <td>explain fare code qx</td>\n      <td>abbreviation</td>\n      <td>0</td>\n      <td>1</td>\n      <td>airfare</td>\n    </tr>\n    <tr>\n      <th>2909</th>\n      <td>what does fare code q mean</td>\n      <td>abbreviation</td>\n      <td>0</td>\n      <td>1</td>\n      <td>airfare</td>\n    </tr>\n    <tr>\n      <th>2920</th>\n      <td>explain the fare code q</td>\n      <td>abbreviation</td>\n      <td>0</td>\n      <td>1</td>\n      <td>airfare</td>\n    </tr>\n    <tr>\n      <th>2942</th>\n      <td>what is fare code q</td>\n      <td>abbreviation</td>\n      <td>0</td>\n      <td>1</td>\n      <td>airfare</td>\n    </tr>\n    <tr>\n      <th>3016</th>\n      <td>what does the fare code qw mean</td>\n      <td>abbreviation</td>\n      <td>0</td>\n      <td>1</td>\n      <td>airfare</td>\n    </tr>\n    <tr>\n      <th>3072</th>\n      <td>what is fare code h</td>\n      <td>abbreviation</td>\n      <td>0</td>\n      <td>1</td>\n      <td>airfare</td>\n    </tr>\n    <tr>\n      <th>3092</th>\n      <td>what does fare code y mean</td>\n      <td>abbreviation</td>\n      <td>0</td>\n      <td>1</td>\n      <td>airfare</td>\n    </tr>\n    <tr>\n      <th>3197</th>\n      <td>what does fn under fare code mean</td>\n      <td>abbreviation</td>\n      <td>0</td>\n      <td>1</td>\n      <td>airfare</td>\n    </tr>\n    <tr>\n      <th>3238</th>\n      <td>what does fare code m mean</td>\n      <td>abbreviation</td>\n      <td>0</td>\n      <td>1</td>\n      <td>airfare</td>\n    </tr>\n    <tr>\n      <th>3257</th>\n      <td>what is fare code c</td>\n      <td>abbreviation</td>\n      <td>0</td>\n      <td>1</td>\n      <td>airfare</td>\n    </tr>\n    <tr>\n      <th>3342</th>\n      <td>i 'd like to see the fare code again qx</td>\n      <td>abbreviation</td>\n      <td>0</td>\n      <td>1</td>\n      <td>airfare</td>\n    </tr>\n    <tr>\n      <th>3496</th>\n      <td>what does the fare code qx mean</td>\n      <td>abbreviation</td>\n      <td>0</td>\n      <td>1</td>\n      <td>airfare</td>\n    </tr>\n    <tr>\n      <th>3563</th>\n      <td>what is the meaning of fare code qx and qw</td>\n      <td>abbreviation</td>\n      <td>0</td>\n      <td>1</td>\n      <td>airfare</td>\n    </tr>\n    <tr>\n      <th>3621</th>\n      <td>what does the fare code f and fn mean</td>\n      <td>abbreviation</td>\n      <td>0</td>\n      <td>1</td>\n      <td>airfare</td>\n    </tr>\n  </tbody>\n</table>\n</div>"
     },
     "execution_count": 78,
     "metadata": {},
     "output_type": "execute_result"
    }
   ],
   "source": [
    "df[(df.ag_m == 'airfare') & (df.y != 'airfare')]"
   ],
   "metadata": {
    "collapsed": false,
    "ExecuteTime": {
     "end_time": "2024-01-30T21:05:56.603633800Z",
     "start_time": "2024-01-30T21:05:56.595246300Z"
    }
   },
   "id": "fb9048fa70d8efaf",
   "execution_count": 78
  },
  {
   "cell_type": "code",
   "outputs": [],
   "source": [],
   "metadata": {
    "collapsed": false
   },
   "id": "886ae3584105fa84"
  }
 ],
 "metadata": {
  "kernelspec": {
   "display_name": "Python 3",
   "language": "python",
   "name": "python3"
  },
  "language_info": {
   "codemirror_mode": {
    "name": "ipython",
    "version": 2
   },
   "file_extension": ".py",
   "mimetype": "text/x-python",
   "name": "python",
   "nbconvert_exporter": "python",
   "pygments_lexer": "ipython2",
   "version": "2.7.6"
  }
 },
 "nbformat": 4,
 "nbformat_minor": 5
}
