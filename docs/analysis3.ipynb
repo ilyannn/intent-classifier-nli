{
 "cells": [
  {
   "cell_type": "code",
   "outputs": [],
   "source": [
    "import sys\n",
    "sys.path.append('../client')\n",
    "from benchmark import format_f1_scores, f1_scores"
   ],
   "metadata": {
    "collapsed": false,
    "ExecuteTime": {
     "end_time": "2024-01-31T15:41:13.711744100Z",
     "start_time": "2024-01-31T15:41:13.543586100Z"
    }
   },
   "id": "b126b870ffdd9336",
   "execution_count": 1
  },
  {
   "cell_type": "code",
   "outputs": [],
   "source": [
    "def confusion(model, on_data : tuple[list[str], list[str]]):\n",
    "    cm = defaultdict(lambda: defaultdict(int))\n",
    "    for x, y in zip(*on_data):\n",
    "        cm[y][model(x)] += 1\n",
    "    return cm\n"
   ],
   "metadata": {
    "collapsed": false,
    "ExecuteTime": {
     "end_time": "2024-01-31T15:41:13.718492700Z",
     "start_time": "2024-01-31T15:41:13.712495700Z"
    }
   },
   "id": "1eedd0f9d3a5e9d2",
   "execution_count": 2
  },
  {
   "cell_type": "code",
   "outputs": [
    {
     "name": "stdout",
     "output_type": "stream",
     "text": [
      "  abbreviation (\u001B[36m0\u001B[0m, \u001B[36m0\u001B[0m, \u001B[36m93\u001B[0m): \u001B[32m0.0\u001B[0m\n",
      "  aircraft (\u001B[36m0\u001B[0m, \u001B[36m0\u001B[0m, \u001B[36m58\u001B[0m): \u001B[32m0.0\u001B[0m\n",
      "  airfare (\u001B[36m299\u001B[0m, \u001B[36m116\u001B[0m, \u001B[36m20\u001B[0m): \u001B[32m0.81\u001B[0m\n",
      "  airfare+flight_time (\u001B[36m0\u001B[0m, \u001B[36m0\u001B[0m, \u001B[36m1\u001B[0m): \u001B[32m0.0\u001B[0m\n",
      "  airline (\u001B[36m0\u001B[0m, \u001B[36m0\u001B[0m, \u001B[36m118\u001B[0m): \u001B[32m0.0\u001B[0m\n",
      "  airline+flight_no (\u001B[36m0\u001B[0m, \u001B[36m0\u001B[0m, \u001B[36m1\u001B[0m): \u001B[32m0.0\u001B[0m\n",
      "  airport (\u001B[36m0\u001B[0m, \u001B[36m0\u001B[0m, \u001B[36m13\u001B[0m): \u001B[32m0.0\u001B[0m\n",
      "  capacity (\u001B[36m0\u001B[0m, \u001B[36m0\u001B[0m, \u001B[36m11\u001B[0m): \u001B[32m0.0\u001B[0m\n",
      "  cheapest (\u001B[36m0\u001B[0m, \u001B[36m0\u001B[0m, \u001B[36m1\u001B[0m): \u001B[32m0.0\u001B[0m\n",
      "  city (\u001B[36m0\u001B[0m, \u001B[36m0\u001B[0m, \u001B[36m15\u001B[0m): \u001B[32m0.0\u001B[0m\n",
      "  distance (\u001B[36m0\u001B[0m, \u001B[36m0\u001B[0m, \u001B[36m13\u001B[0m): \u001B[32m0.0\u001B[0m\n",
      "  flight (\u001B[36m2703\u001B[0m, \u001B[36m589\u001B[0m, \u001B[36m52\u001B[0m): \u001B[32m0.89\u001B[0m\n",
      "  flight+airfare (\u001B[36m0\u001B[0m, \u001B[36m0\u001B[0m, \u001B[36m14\u001B[0m): \u001B[32m0.0\u001B[0m\n",
      "  flight_no (\u001B[36m0\u001B[0m, \u001B[36m0\u001B[0m, \u001B[36m9\u001B[0m): \u001B[32m0.0\u001B[0m\n",
      "  flight_time (\u001B[36m0\u001B[0m, \u001B[36m0\u001B[0m, \u001B[36m44\u001B[0m): \u001B[32m0.0\u001B[0m\n",
      "  ground_fare (\u001B[36m0\u001B[0m, \u001B[36m0\u001B[0m, \u001B[36m14\u001B[0m): \u001B[32m0.0\u001B[0m\n",
      "  ground_service (\u001B[36m0\u001B[0m, \u001B[36m0\u001B[0m, \u001B[36m185\u001B[0m): \u001B[32m0.0\u001B[0m\n",
      "  meal (\u001B[36m0\u001B[0m, \u001B[36m0\u001B[0m, \u001B[36m2\u001B[0m): \u001B[32m0.0\u001B[0m\n",
      "  quantity (\u001B[36m0\u001B[0m, \u001B[36m0\u001B[0m, \u001B[36m37\u001B[0m): \u001B[32m0.0\u001B[0m\n",
      "  restriction (\u001B[36m0\u001B[0m, \u001B[36m0\u001B[0m, \u001B[36m4\u001B[0m): \u001B[32m0.0\u001B[0m\n"
     ]
    }
   ],
   "source": [
    "import csv\n",
    "from collections import defaultdict\n",
    "\n",
    "import numpy as np\n",
    "from sklearn import metrics\n",
    "from sklearn.model_selection import train_test_split\n",
    "\n",
    "SEED = 1337\n",
    "\n",
    "with open('../data/atis/train.tsv', 'rt') as f:\n",
    "    reader = csv.reader(f, delimiter='\\t')\n",
    "    data = list(reader)\n",
    "    data_x = [row[0] for row in data]\n",
    "    data_y = [row[1] for row in data]\n",
    "\n",
    "data_x_train, data_x_val, data_y_train, data_y_val = map(np.array, train_test_split(data_x, data_y, test_size=0.2, random_state=SEED))\n",
    "\n",
    "def val_accuracy(f):\n",
    "    print(metrics.accuracy_score(data_y_val, f(data_x_val)))\n",
    "\n",
    "data_x_words = sorted({w for x in data_x_train for w in x.split(' ')})\n",
    "\n",
    "by_label = defaultdict(list)\n",
    "for x, y in zip(data_x_train, data_y_train):\n",
    "    by_label[y].append(x)\n",
    "labels = set(by_label)\n",
    "\n",
    "SCORE_DATA = { \"train\": [data_x_train, data_y_train], \"val\": [data_x_val, data_y_val]}\n",
    "\n",
    "def print_f1_scores(model, data_key=\"train\"):\n",
    "    print(format_f1_scores(f1_scores(confusion(model, SCORE_DATA[data_key]))))\n",
    "\n",
    "airfare_preditor = lambda s: (' price' in s) + (' cost ' in s) + (' fare' in s) + (' rate' in s) + (' ticket' in s) + ('how much' in s)\n",
    "\n",
    "print_f1_scores(lambda s: 'airfare' if airfare_preditor(s) else 'flight')"
   ],
   "metadata": {
    "collapsed": true,
    "ExecuteTime": {
     "end_time": "2024-01-31T15:41:14.341550400Z",
     "start_time": "2024-01-31T15:41:13.716992800Z"
    }
   },
   "id": "initial_id",
   "execution_count": 3
  },
  {
   "cell_type": "code",
   "outputs": [
    {
     "data": {
      "text/plain": "config.json:   0%|          | 0.00/1.03k [00:00<?, ?B/s]",
      "application/vnd.jupyter.widget-view+json": {
       "version_major": 2,
       "version_minor": 0,
       "model_id": "ccbb982ff6f04d94a0133770592df48d"
      }
     },
     "metadata": {},
     "output_type": "display_data"
    },
    {
     "data": {
      "text/plain": "model.safetensors:   0%|          | 0.00/428M [00:00<?, ?B/s]",
      "application/vnd.jupyter.widget-view+json": {
       "version_major": 2,
       "version_minor": 0,
       "model_id": "d948411b56554b739cedfa83e56fb8f1"
      }
     },
     "metadata": {},
     "output_type": "display_data"
    },
    {
     "data": {
      "text/plain": "tokenizer_config.json:   0%|          | 0.00/565 [00:00<?, ?B/s]",
      "application/vnd.jupyter.widget-view+json": {
       "version_major": 2,
       "version_minor": 0,
       "model_id": "c501a0cecb4c406ead4be27f52f29723"
      }
     },
     "metadata": {},
     "output_type": "display_data"
    },
    {
     "data": {
      "text/plain": "sentencepiece.bpe.model:   0%|          | 0.00/5.07M [00:00<?, ?B/s]",
      "application/vnd.jupyter.widget-view+json": {
       "version_major": 2,
       "version_minor": 0,
       "model_id": "cc9d109c25b14644bdcdb6a59ddf7394"
      }
     },
     "metadata": {},
     "output_type": "display_data"
    },
    {
     "data": {
      "text/plain": "tokenizer.json:   0%|          | 0.00/17.1M [00:00<?, ?B/s]",
      "application/vnd.jupyter.widget-view+json": {
       "version_major": 2,
       "version_minor": 0,
       "model_id": "7733e8d9698947cfb21f75dea99c3449"
      }
     },
     "metadata": {},
     "output_type": "display_data"
    },
    {
     "data": {
      "text/plain": "special_tokens_map.json:   0%|          | 0.00/280 [00:00<?, ?B/s]",
      "application/vnd.jupyter.widget-view+json": {
       "version_major": 2,
       "version_minor": 0,
       "model_id": "68a91185f0fe40d2b6533a15925f8077"
      }
     },
     "metadata": {},
     "output_type": "display_data"
    }
   ],
   "source": [
    "from transformers import pipeline\n",
    "\n",
    "transformers_classifier_bart_large = pipeline(\"zero-shot-classification\", model=\"facebook/bart-large-mnli\") # 400m parameters\n",
    "transformers_classifier_deberta_base = pipeline(\"zero-shot-classification\", model=\"MoritzLaurer/DeBERTa-v3-base-mnli-fever-anli\") # 200m parameters\n",
    "transformers_classifier_minilm = pipeline(\"zero-shot-classification\", model=\"MoritzLaurer/multilingual-MiniLMv2-L6-mnli-xnli\") # 100m parameters"
   ],
   "metadata": {
    "collapsed": false,
    "ExecuteTime": {
     "end_time": "2024-01-31T15:49:10.976215500Z",
     "start_time": "2024-01-31T15:48:57.241397100Z"
    }
   },
   "id": "a22fbdcb1bda349a",
   "execution_count": 8
  },
  {
   "cell_type": "code",
   "outputs": [
    {
     "name": "stderr",
     "output_type": "stream",
     "text": [
      "Asking to truncate to max_length but no maximum length is provided and the model has no predefined maximum length. Default to no truncation.\n"
     ]
    },
    {
     "name": "stdout",
     "output_type": "stream",
     "text": [
      "  flight (\u001B[36m0\u001B[0m, \u001B[36m0\u001B[0m, \u001B[36m2\u001B[0m): \u001B[32m0.0\u001B[0m\n",
      "  ground_service (\u001B[36m0\u001B[0m, \u001B[36m0\u001B[0m, \u001B[36m1\u001B[0m): \u001B[32m0.0\u001B[0m\n",
      "  labels (\u001B[36m0\u001B[0m, \u001B[36m1\u001B[0m, \u001B[36m0\u001B[0m): \u001B[32m0.0\u001B[0m\n",
      "  scores (\u001B[36m0\u001B[0m, \u001B[36m1\u001B[0m, \u001B[36m0\u001B[0m): \u001B[32m0.0\u001B[0m\n",
      "  sequence (\u001B[36m0\u001B[0m, \u001B[36m1\u001B[0m, \u001B[36m0\u001B[0m): \u001B[32m0.0\u001B[0m\n",
      "  flight (\u001B[36m0\u001B[0m, \u001B[36m0\u001B[0m, \u001B[36m2\u001B[0m): \u001B[32m0.0\u001B[0m\n",
      "  ground_service (\u001B[36m0\u001B[0m, \u001B[36m0\u001B[0m, \u001B[36m1\u001B[0m): \u001B[32m0.0\u001B[0m\n",
      "  labels (\u001B[36m0\u001B[0m, \u001B[36m1\u001B[0m, \u001B[36m0\u001B[0m): \u001B[32m0.0\u001B[0m\n",
      "  scores (\u001B[36m0\u001B[0m, \u001B[36m1\u001B[0m, \u001B[36m0\u001B[0m): \u001B[32m0.0\u001B[0m\n",
      "  sequence (\u001B[36m0\u001B[0m, \u001B[36m1\u001B[0m, \u001B[36m0\u001B[0m): \u001B[32m0.0\u001B[0m\n",
      "  flight (\u001B[36m0\u001B[0m, \u001B[36m0\u001B[0m, \u001B[36m2\u001B[0m): \u001B[32m0.0\u001B[0m\n",
      "  ground_service (\u001B[36m0\u001B[0m, \u001B[36m0\u001B[0m, \u001B[36m1\u001B[0m): \u001B[32m0.0\u001B[0m\n",
      "  labels (\u001B[36m0\u001B[0m, \u001B[36m1\u001B[0m, \u001B[36m0\u001B[0m): \u001B[32m0.0\u001B[0m\n",
      "  scores (\u001B[36m0\u001B[0m, \u001B[36m1\u001B[0m, \u001B[36m0\u001B[0m): \u001B[32m0.0\u001B[0m\n",
      "  sequence (\u001B[36m0\u001B[0m, \u001B[36m1\u001B[0m, \u001B[36m0\u001B[0m): \u001B[32m0.0\u001B[0m\n"
     ]
    }
   ],
   "source": [
    "BATCH_SIZE = 128\n",
    "\n",
    "def confusion_batch(model, on_data : tuple[list[str], list[str]]):\n",
    "    results = model(sequences=on_data[0], candidate_labels=sorted(labels), batch_size=BATCH_SIZE)\n",
    "    cm = defaultdict(lambda: defaultdict(int))\n",
    "    for y, y_ in zip(on_data[1], results):\n",
    "        cm[y][y_] += 1\n",
    "    return cm\n",
    "\n",
    "tr_models = [transformers_classifier_minilm, transformers_classifier_deberta_base, transformers_classifier_bart_large]\n",
    "\n",
    "for model in tr_models:\n",
    "    print(format_f1_scores(f1_scores(confusion_batch(model, SCORE_DATA[\"train\"]))))"
   ],
   "metadata": {
    "collapsed": false,
    "ExecuteTime": {
     "end_time": "2024-01-31T15:53:56.960655300Z",
     "start_time": "2024-01-31T15:53:54.893965100Z"
    }
   },
   "id": "2fd6bc6d3afafe99",
   "execution_count": 11
  },
  {
   "cell_type": "code",
   "outputs": [
    {
     "data": {
      "text/plain": "{'sequence': 'i want to fly to nyc',\n 'labels': ['flight',\n  'airfare',\n  'distance',\n  'city',\n  'flight+airfare',\n  'abbreviation',\n  'airfare+flight_time',\n  'flight_time',\n  'aircraft',\n  'airline+flight_no',\n  'flight_no',\n  'capacity',\n  'airport',\n  'quantity',\n  'airline',\n  'restriction',\n  'ground_fare',\n  'ground_service',\n  'meal',\n  'cheapest'],\n 'scores': [0.22391395270824432,\n  0.13718608021736145,\n  0.12011700868606567,\n  0.11480510979890823,\n  0.10111062228679657,\n  0.0568232461810112,\n  0.04757894575595856,\n  0.03555750846862793,\n  0.031680475920438766,\n  0.022245541214942932,\n  0.018322663381695747,\n  0.017090201377868652,\n  0.016434896737337112,\n  0.013044649735093117,\n  0.012528651393949986,\n  0.011125268414616585,\n  0.00860058143734932,\n  0.005981918424367905,\n  0.003734766272827983,\n  0.0021179229952394962]}"
     },
     "execution_count": 12,
     "metadata": {},
     "output_type": "execute_result"
    }
   ],
   "source": [
    "transformers_classifier_bart_large(\"i want to fly to nyc\", candidate_labels=sorted(labels))"
   ],
   "metadata": {
    "collapsed": false,
    "ExecuteTime": {
     "end_time": "2024-01-31T15:55:34.122490400Z",
     "start_time": "2024-01-31T15:55:31.620640700Z"
    }
   },
   "id": "f6e37396717aba3e",
   "execution_count": 12
  },
  {
   "cell_type": "code",
   "outputs": [],
   "source": [
    "def into_my_model(transformer_model):\n",
    "    def as_model(xs):\n",
    "        results = transformer_model(xs, batch_size=BATCH_SIZE, candidate_labels=sorted(labels))\n",
    "        return [result['labels'][0] for result in results]\n",
    "    return as_model\n",
    "\n",
    "my_models = [into_my_model(model) for model in tr_models] "
   ],
   "metadata": {
    "collapsed": false,
    "ExecuteTime": {
     "end_time": "2024-01-31T15:59:26.893942300Z",
     "start_time": "2024-01-31T15:59:26.848943300Z"
    }
   },
   "id": "1dcd57b1a31aa066",
   "execution_count": 13
  },
  {
   "cell_type": "code",
   "outputs": [
    {
     "data": {
      "text/plain": "['flight', 'capacity']"
     },
     "execution_count": 16,
     "metadata": {},
     "output_type": "execute_result"
    }
   ],
   "source": [
    "my_models[0](['fly to nyc', 'take a taxi to penn station'])"
   ],
   "metadata": {
    "collapsed": false,
    "ExecuteTime": {
     "end_time": "2024-01-31T16:01:47.590023200Z",
     "start_time": "2024-01-31T16:01:47.434779300Z"
    }
   },
   "id": "4bb3df6ca85cee52",
   "execution_count": 16
  },
  {
   "cell_type": "code",
   "outputs": [
    {
     "data": {
      "text/plain": "defaultdict(<function __main__.confusion_batch.<locals>.<lambda>()>,\n            {'flight': defaultdict(int, {'flight': 1}),\n             'ground_service': defaultdict(int, {'capacity': 1})})"
     },
     "execution_count": 17,
     "metadata": {},
     "output_type": "execute_result"
    }
   ],
   "source": [
    "def confusion_batch(model, on_data : tuple[list[str], list[str]]):\n",
    "    results = model(on_data[0])\n",
    "    cm = defaultdict(lambda: defaultdict(int))\n",
    "    for y, y_ in zip(on_data[1], results):\n",
    "        cm[y][y_] += 1\n",
    "    return cm\n",
    "    \n",
    "SCORE_DATA[\"2\"] = ['fly to nyc', 'take a taxi to penn station'], ['flight', 'ground_service']\n",
    "\n",
    "confusion_batch(my_models[0], SCORE_DATA[\"2\"])"
   ],
   "metadata": {
    "collapsed": false,
    "ExecuteTime": {
     "end_time": "2024-01-31T16:03:44.453331200Z",
     "start_time": "2024-01-31T16:03:44.379205900Z"
    }
   },
   "id": "ec2861950c540eb8",
   "execution_count": 17
  },
  {
   "cell_type": "code",
   "outputs": [
    {
     "ename": "TypeError",
     "evalue": "string indices must be integers, not 'str'",
     "output_type": "error",
     "traceback": [
      "\u001B[0;31m---------------------------------------------------------------------------\u001B[0m",
      "\u001B[0;31mTypeError\u001B[0m                                 Traceback (most recent call last)",
      "Cell \u001B[0;32mIn[18], line 2\u001B[0m\n\u001B[1;32m      1\u001B[0m \u001B[38;5;28;01mfor\u001B[39;00m model \u001B[38;5;129;01min\u001B[39;00m my_models:\n\u001B[0;32m----> 2\u001B[0m     \u001B[38;5;28mprint\u001B[39m(format_f1_scores(f1_scores(\u001B[43mconfusion_batch\u001B[49m\u001B[43m(\u001B[49m\u001B[43mmodel\u001B[49m\u001B[43m,\u001B[49m\u001B[43m \u001B[49m\u001B[43mSCORE_DATA\u001B[49m\u001B[43m[\u001B[49m\u001B[38;5;124;43m\"\u001B[39;49m\u001B[38;5;124;43mtrain\u001B[39;49m\u001B[38;5;124;43m\"\u001B[39;49m\u001B[43m]\u001B[49m\u001B[43m)\u001B[49m)))\n",
      "Cell \u001B[0;32mIn[17], line 2\u001B[0m, in \u001B[0;36mconfusion_batch\u001B[0;34m(model, on_data)\u001B[0m\n\u001B[1;32m      1\u001B[0m \u001B[38;5;28;01mdef\u001B[39;00m \u001B[38;5;21mconfusion_batch\u001B[39m(model, on_data : \u001B[38;5;28mtuple\u001B[39m[\u001B[38;5;28mlist\u001B[39m[\u001B[38;5;28mstr\u001B[39m], \u001B[38;5;28mlist\u001B[39m[\u001B[38;5;28mstr\u001B[39m]]):\n\u001B[0;32m----> 2\u001B[0m     results \u001B[38;5;241m=\u001B[39m \u001B[43mmodel\u001B[49m\u001B[43m(\u001B[49m\u001B[43mon_data\u001B[49m\u001B[43m[\u001B[49m\u001B[38;5;241;43m0\u001B[39;49m\u001B[43m]\u001B[49m\u001B[43m)\u001B[49m\n\u001B[1;32m      3\u001B[0m     cm \u001B[38;5;241m=\u001B[39m defaultdict(\u001B[38;5;28;01mlambda\u001B[39;00m: defaultdict(\u001B[38;5;28mint\u001B[39m))\n\u001B[1;32m      4\u001B[0m     \u001B[38;5;28;01mfor\u001B[39;00m y, y_ \u001B[38;5;129;01min\u001B[39;00m \u001B[38;5;28mzip\u001B[39m(on_data[\u001B[38;5;241m1\u001B[39m], results):\n",
      "Cell \u001B[0;32mIn[13], line 4\u001B[0m, in \u001B[0;36minto_my_model.<locals>.as_model\u001B[0;34m(xs)\u001B[0m\n\u001B[1;32m      2\u001B[0m \u001B[38;5;28;01mdef\u001B[39;00m \u001B[38;5;21mas_model\u001B[39m(xs):\n\u001B[1;32m      3\u001B[0m     results \u001B[38;5;241m=\u001B[39m transformer_model(xs, batch_size\u001B[38;5;241m=\u001B[39mBATCH_SIZE, candidate_labels\u001B[38;5;241m=\u001B[39m\u001B[38;5;28msorted\u001B[39m(labels))\n\u001B[0;32m----> 4\u001B[0m     \u001B[38;5;28;01mreturn\u001B[39;00m [\u001B[43mresult\u001B[49m\u001B[43m[\u001B[49m\u001B[38;5;124;43m'\u001B[39;49m\u001B[38;5;124;43mlabels\u001B[39;49m\u001B[38;5;124;43m'\u001B[39;49m\u001B[43m]\u001B[49m[\u001B[38;5;241m0\u001B[39m] \u001B[38;5;28;01mfor\u001B[39;00m result \u001B[38;5;129;01min\u001B[39;00m results]\n",
      "\u001B[0;31mTypeError\u001B[0m: string indices must be integers, not 'str'"
     ]
    }
   ],
   "source": [
    "for model in my_models:\n",
    "    print(format_f1_scores(f1_scores(confusion_batch(model, SCORE_DATA[\"train\"]))))"
   ],
   "metadata": {
    "collapsed": false,
    "ExecuteTime": {
     "end_time": "2024-01-31T16:04:12.626695800Z",
     "start_time": "2024-01-31T16:04:12.548347500Z"
    }
   },
   "id": "a7c7a464b0eb1144",
   "execution_count": 18
  },
  {
   "cell_type": "markdown",
   "source": [
    "Let's not make the data into an `np.array`"
   ],
   "metadata": {
    "collapsed": false
   },
   "id": "1ed529a97a9ea3ec"
  },
  {
   "cell_type": "code",
   "outputs": [],
   "source": [
    "data_x_train, data_x_val, data_y_train, data_y_val = train_test_split(data_x, data_y, test_size=0.2, random_state=SEED)\n",
    "\n",
    "SCORE_DATA[\"train\"] = data_x_train, data_y_train\n",
    "SCORE_DATA[\"val\"] = data_x_val, data_y_val\n"
   ],
   "metadata": {
    "collapsed": false,
    "ExecuteTime": {
     "end_time": "2024-01-31T16:09:33.628325900Z",
     "start_time": "2024-01-31T16:09:33.548144300Z"
    }
   },
   "id": "30d537d3595894f2",
   "execution_count": 21
  },
  {
   "cell_type": "code",
   "outputs": [
    {
     "name": "stdout",
     "output_type": "stream",
     "text": [
      "  abbreviation (\u001B[36m56\u001B[0m, \u001B[36m115\u001B[0m, \u001B[36m37\u001B[0m): \u001B[32m0.42\u001B[0m\n",
      "  aircraft (\u001B[36m30\u001B[0m, \u001B[36m7\u001B[0m, \u001B[36m28\u001B[0m): \u001B[32m0.63\u001B[0m\n",
      "  airfare (\u001B[36m14\u001B[0m, \u001B[36m3\u001B[0m, \u001B[36m305\u001B[0m): \u001B[32m0.083\u001B[0m\n",
      "  airfare+flight_time (\u001B[36m0\u001B[0m, \u001B[36m0\u001B[0m, \u001B[36m1\u001B[0m): \u001B[32m0.0\u001B[0m\n",
      "  airline (\u001B[36m70\u001B[0m, \u001B[36m59\u001B[0m, \u001B[36m48\u001B[0m): \u001B[32m0.57\u001B[0m\n",
      "  airline+flight_no (\u001B[36m0\u001B[0m, \u001B[36m1\u001B[0m, \u001B[36m1\u001B[0m): \u001B[32m0.0\u001B[0m\n",
      "  airport (\u001B[36m12\u001B[0m, \u001B[36m65\u001B[0m, \u001B[36m1\u001B[0m): \u001B[32m0.27\u001B[0m\n",
      "  capacity (\u001B[36m6\u001B[0m, \u001B[36m66\u001B[0m, \u001B[36m5\u001B[0m): \u001B[32m0.14\u001B[0m\n",
      "  cheapest (\u001B[36m1\u001B[0m, \u001B[36m149\u001B[0m, \u001B[36m0\u001B[0m): \u001B[32m0.013\u001B[0m\n",
      "  city (\u001B[36m5\u001B[0m, \u001B[36m3\u001B[0m, \u001B[36m10\u001B[0m): \u001B[32m0.43\u001B[0m\n",
      "  distance (\u001B[36m7\u001B[0m, \u001B[36m153\u001B[0m, \u001B[36m6\u001B[0m): \u001B[32m0.081\u001B[0m\n",
      "  flight (\u001B[36m2259\u001B[0m, \u001B[36m135\u001B[0m, \u001B[36m496\u001B[0m): \u001B[32m0.88\u001B[0m\n",
      "  flight+airfare (\u001B[36m9\u001B[0m, \u001B[36m122\u001B[0m, \u001B[36m5\u001B[0m): \u001B[32m0.12\u001B[0m\n",
      "  flight_no (\u001B[36m0\u001B[0m, \u001B[36m31\u001B[0m, \u001B[36m9\u001B[0m): \u001B[32m0.0\u001B[0m\n",
      "  flight_time (\u001B[36m17\u001B[0m, \u001B[36m15\u001B[0m, \u001B[36m27\u001B[0m): \u001B[32m0.45\u001B[0m\n",
      "  ground_fare (\u001B[36m1\u001B[0m, \u001B[36m118\u001B[0m, \u001B[36m13\u001B[0m): \u001B[32m0.015\u001B[0m\n",
      "  ground_service (\u001B[36m8\u001B[0m, \u001B[36m0\u001B[0m, \u001B[36m177\u001B[0m): \u001B[32m0.083\u001B[0m\n",
      "  meal (\u001B[36m2\u001B[0m, \u001B[36m45\u001B[0m, \u001B[36m0\u001B[0m): \u001B[32m0.082\u001B[0m\n",
      "  quantity (\u001B[36m0\u001B[0m, \u001B[36m46\u001B[0m, \u001B[36m37\u001B[0m): \u001B[32m0.0\u001B[0m\n",
      "  restriction (\u001B[36m4\u001B[0m, \u001B[36m73\u001B[0m, \u001B[36m0\u001B[0m): \u001B[32m0.099\u001B[0m\n",
      "  abbreviation (\u001B[36m86\u001B[0m, \u001B[36m87\u001B[0m, \u001B[36m7\u001B[0m): \u001B[32m0.65\u001B[0m\n",
      "  aircraft (\u001B[36m10\u001B[0m, \u001B[36m914\u001B[0m, \u001B[36m48\u001B[0m): \u001B[32m0.02\u001B[0m\n",
      "  airfare (\u001B[36m229\u001B[0m, \u001B[36m1340\u001B[0m, \u001B[36m90\u001B[0m): \u001B[32m0.24\u001B[0m\n",
      "  airfare+flight_time (\u001B[36m0\u001B[0m, \u001B[36m7\u001B[0m, \u001B[36m1\u001B[0m): \u001B[32m0.0\u001B[0m\n",
      "  airline (\u001B[36m0\u001B[0m, \u001B[36m65\u001B[0m, \u001B[36m118\u001B[0m): \u001B[32m0.0\u001B[0m\n",
      "  airline+flight_no (\u001B[36m0\u001B[0m, \u001B[36m16\u001B[0m, \u001B[36m1\u001B[0m): \u001B[32m0.0\u001B[0m\n",
      "  airport (\u001B[36m7\u001B[0m, \u001B[36m25\u001B[0m, \u001B[36m6\u001B[0m): \u001B[32m0.31\u001B[0m\n",
      "  capacity (\u001B[36m2\u001B[0m, \u001B[36m2\u001B[0m, \u001B[36m9\u001B[0m): \u001B[32m0.27\u001B[0m\n",
      "  cheapest (\u001B[36m0\u001B[0m, \u001B[36m3\u001B[0m, \u001B[36m1\u001B[0m): \u001B[32m0.0\u001B[0m\n",
      "  city (\u001B[36m1\u001B[0m, \u001B[36m2\u001B[0m, \u001B[36m14\u001B[0m): \u001B[32m0.11\u001B[0m\n",
      "  distance (\u001B[36m9\u001B[0m, \u001B[36m549\u001B[0m, \u001B[36m4\u001B[0m): \u001B[32m0.032\u001B[0m\n",
      "  flight (\u001B[36m81\u001B[0m, \u001B[36m17\u001B[0m, \u001B[36m2674\u001B[0m): \u001B[32m0.057\u001B[0m\n",
      "  flight+airfare (\u001B[36m5\u001B[0m, \u001B[36m118\u001B[0m, \u001B[36m9\u001B[0m): \u001B[32m0.073\u001B[0m\n",
      "  flight_no (\u001B[36m0\u001B[0m, \u001B[36m0\u001B[0m, \u001B[36m9\u001B[0m): \u001B[32m0.0\u001B[0m\n",
      "  flight_time (\u001B[36m0\u001B[0m, \u001B[36m1\u001B[0m, \u001B[36m44\u001B[0m): \u001B[32m0.0\u001B[0m\n",
      "  ground_fare (\u001B[36m0\u001B[0m, \u001B[36m1\u001B[0m, \u001B[36m14\u001B[0m): \u001B[32m0.0\u001B[0m\n",
      "  ground_service (\u001B[36m49\u001B[0m, \u001B[36m0\u001B[0m, \u001B[36m136\u001B[0m): \u001B[32m0.42\u001B[0m\n",
      "  meal (\u001B[36m0\u001B[0m, \u001B[36m0\u001B[0m, \u001B[36m2\u001B[0m): \u001B[32m0.0\u001B[0m\n",
      "  quantity (\u001B[36m36\u001B[0m, \u001B[36m22\u001B[0m, \u001B[36m1\u001B[0m): \u001B[32m0.76\u001B[0m\n",
      "  restriction (\u001B[36m0\u001B[0m, \u001B[36m23\u001B[0m, \u001B[36m4\u001B[0m): \u001B[32m0.0\u001B[0m\n",
      "  abbreviation (\u001B[36m77\u001B[0m, \u001B[36m91\u001B[0m, \u001B[36m16\u001B[0m): \u001B[32m0.59\u001B[0m\n",
      "  aircraft (\u001B[36m51\u001B[0m, \u001B[36m24\u001B[0m, \u001B[36m7\u001B[0m): \u001B[32m0.77\u001B[0m\n",
      "  airfare (\u001B[36m167\u001B[0m, \u001B[36m664\u001B[0m, \u001B[36m152\u001B[0m): \u001B[32m0.29\u001B[0m\n",
      "  airfare+flight_time (\u001B[36m0\u001B[0m, \u001B[36m3\u001B[0m, \u001B[36m1\u001B[0m): \u001B[32m0.0\u001B[0m\n",
      "  airline (\u001B[36m48\u001B[0m, \u001B[36m156\u001B[0m, \u001B[36m70\u001B[0m): \u001B[32m0.3\u001B[0m\n",
      "  airline+flight_no (\u001B[36m0\u001B[0m, \u001B[36m1\u001B[0m, \u001B[36m1\u001B[0m): \u001B[32m0.0\u001B[0m\n",
      "  airport (\u001B[36m11\u001B[0m, \u001B[36m98\u001B[0m, \u001B[36m2\u001B[0m): \u001B[32m0.18\u001B[0m\n",
      "  capacity (\u001B[36m7\u001B[0m, \u001B[36m2\u001B[0m, \u001B[36m4\u001B[0m): \u001B[32m0.7\u001B[0m\n",
      "  cheapest (\u001B[36m0\u001B[0m, \u001B[36m10\u001B[0m, \u001B[36m1\u001B[0m): \u001B[32m0.0\u001B[0m\n",
      "  city (\u001B[36m2\u001B[0m, \u001B[36m89\u001B[0m, \u001B[36m13\u001B[0m): \u001B[32m0.038\u001B[0m\n",
      "  distance (\u001B[36m11\u001B[0m, \u001B[36m136\u001B[0m, \u001B[36m2\u001B[0m): \u001B[32m0.14\u001B[0m\n",
      "  flight (\u001B[36m1680\u001B[0m, \u001B[36m102\u001B[0m, \u001B[36m1075\u001B[0m): \u001B[32m0.74\u001B[0m\n",
      "  flight+airfare (\u001B[36m7\u001B[0m, \u001B[36m206\u001B[0m, \u001B[36m7\u001B[0m): \u001B[32m0.062\u001B[0m\n",
      "  flight_no (\u001B[36m0\u001B[0m, \u001B[36m1\u001B[0m, \u001B[36m9\u001B[0m): \u001B[32m0.0\u001B[0m\n",
      "  flight_time (\u001B[36m0\u001B[0m, \u001B[36m1\u001B[0m, \u001B[36m44\u001B[0m): \u001B[32m0.0\u001B[0m\n",
      "  ground_fare (\u001B[36m0\u001B[0m, \u001B[36m1\u001B[0m, \u001B[36m14\u001B[0m): \u001B[32m0.0\u001B[0m\n",
      "  ground_service (\u001B[36m29\u001B[0m, \u001B[36m0\u001B[0m, \u001B[36m156\u001B[0m): \u001B[32m0.27\u001B[0m\n",
      "  meal (\u001B[36m1\u001B[0m, \u001B[36m7\u001B[0m, \u001B[36m1\u001B[0m): \u001B[32m0.2\u001B[0m\n",
      "  quantity (\u001B[36m2\u001B[0m, \u001B[36m2\u001B[0m, \u001B[36m35\u001B[0m): \u001B[32m0.098\u001B[0m\n",
      "  restriction (\u001B[36m1\u001B[0m, \u001B[36m19\u001B[0m, \u001B[36m3\u001B[0m): \u001B[32m0.083\u001B[0m\n"
     ]
    }
   ],
   "source": [
    "for model in my_models:\n",
    "    print(format_f1_scores(f1_scores(confusion_batch(model, SCORE_DATA[\"train\"]))))"
   ],
   "metadata": {
    "collapsed": false,
    "ExecuteTime": {
     "end_time": "2024-01-31T17:12:26.856535800Z",
     "start_time": "2024-01-31T16:09:47.855407300Z"
    }
   },
   "id": "77e70940ec940372",
   "execution_count": 22
  },
  {
   "cell_type": "code",
   "outputs": [
    {
     "data": {
      "text/plain": "3707"
     },
     "execution_count": 23,
     "metadata": {},
     "output_type": "execute_result"
    }
   ],
   "source": [
    "len(SCORE_DATA[\"train\"][0])"
   ],
   "metadata": {
    "collapsed": false,
    "ExecuteTime": {
     "end_time": "2024-01-31T17:20:01.347377500Z",
     "start_time": "2024-01-31T17:20:01.312878400Z"
    }
   },
   "id": "a6c500c7330206f1",
   "execution_count": 23
  },
  {
   "cell_type": "code",
   "outputs": [
    {
     "data": {
      "text/plain": "device(type='cuda')"
     },
     "execution_count": 24,
     "metadata": {},
     "output_type": "execute_result"
    }
   ],
   "source": [
    "import torch \n",
    "#  Check if a GPU is available and if not, use a CPU\n",
    "device = torch.device(\"cuda\" if torch.cuda.is_available() else \"cpu\")\n",
    "device"
   ],
   "metadata": {
    "collapsed": false,
    "ExecuteTime": {
     "end_time": "2024-01-31T17:21:18.962080200Z",
     "start_time": "2024-01-31T17:21:18.953080200Z"
    }
   },
   "id": "440aa7a0a55e2745",
   "execution_count": 24
  },
  {
   "cell_type": "code",
   "outputs": [
    {
     "data": {
      "text/plain": "device(type='cpu')"
     },
     "execution_count": 25,
     "metadata": {},
     "output_type": "execute_result"
    }
   ],
   "source": [
    "tr_models[0].device"
   ],
   "metadata": {
    "collapsed": false,
    "ExecuteTime": {
     "end_time": "2024-01-31T17:21:54.167548Z",
     "start_time": "2024-01-31T17:21:54.096788300Z"
    }
   },
   "id": "fa44604e03b54f88",
   "execution_count": 25
  },
  {
   "cell_type": "code",
   "outputs": [],
   "source": [
    "tr_model_names = [\n",
    "    \"MoritzLaurer/multilingual-MiniLMv2-L6-mnli-xnli\", # 100m parameters\n",
    "    \"MoritzLaurer/DeBERTa-v3-base-mnli-fever-anli\", # 200m parameters\n",
    "    \"facebook/bart-large-mnli\", # 400m parameters\n",
    "]\n",
    "models = [pipeline(\"zero-shot-classification\", model=name, device=device) for name in tr_model_names]"
   ],
   "metadata": {
    "collapsed": false,
    "ExecuteTime": {
     "end_time": "2024-01-31T17:24:14.438520400Z",
     "start_time": "2024-01-31T17:24:07.060141Z"
    }
   },
   "id": "24259f62b00c6ddb",
   "execution_count": 26
  },
  {
   "cell_type": "code",
   "outputs": [
    {
     "data": {
      "text/plain": "['flight', 'capacity']"
     },
     "execution_count": 27,
     "metadata": {},
     "output_type": "execute_result"
    }
   ],
   "source": [
    "my_models = [into_my_model(model) for model in models]\n",
    "my_models[0](SCORE_DATA[\"2\"][0])"
   ],
   "metadata": {
    "collapsed": false,
    "ExecuteTime": {
     "end_time": "2024-01-31T17:24:45.921593500Z",
     "start_time": "2024-01-31T17:24:45.179068500Z"
    }
   },
   "id": "aa146b5287825c3d",
   "execution_count": 27
  },
  {
   "cell_type": "code",
   "outputs": [
    {
     "name": "stderr",
     "output_type": "stream",
     "text": [
      "Asking to truncate to max_length but no maximum length is provided and the model has no predefined maximum length. Default to no truncation.\n"
     ]
    },
    {
     "name": "stdout",
     "output_type": "stream",
     "text": [
      "  abbreviation (\u001B[36m56\u001B[0m, \u001B[36m115\u001B[0m, \u001B[36m37\u001B[0m): \u001B[32m0.42\u001B[0m\n",
      "  aircraft (\u001B[36m30\u001B[0m, \u001B[36m7\u001B[0m, \u001B[36m28\u001B[0m): \u001B[32m0.63\u001B[0m\n",
      "  airfare (\u001B[36m14\u001B[0m, \u001B[36m3\u001B[0m, \u001B[36m305\u001B[0m): \u001B[32m0.083\u001B[0m\n",
      "  airfare+flight_time (\u001B[36m0\u001B[0m, \u001B[36m0\u001B[0m, \u001B[36m1\u001B[0m): \u001B[32m0.0\u001B[0m\n",
      "  airline (\u001B[36m70\u001B[0m, \u001B[36m59\u001B[0m, \u001B[36m48\u001B[0m): \u001B[32m0.57\u001B[0m\n",
      "  airline+flight_no (\u001B[36m0\u001B[0m, \u001B[36m1\u001B[0m, \u001B[36m1\u001B[0m): \u001B[32m0.0\u001B[0m\n",
      "  airport (\u001B[36m12\u001B[0m, \u001B[36m65\u001B[0m, \u001B[36m1\u001B[0m): \u001B[32m0.27\u001B[0m\n",
      "  capacity (\u001B[36m6\u001B[0m, \u001B[36m66\u001B[0m, \u001B[36m5\u001B[0m): \u001B[32m0.14\u001B[0m\n",
      "  cheapest (\u001B[36m1\u001B[0m, \u001B[36m149\u001B[0m, \u001B[36m0\u001B[0m): \u001B[32m0.013\u001B[0m\n",
      "  city (\u001B[36m5\u001B[0m, \u001B[36m3\u001B[0m, \u001B[36m10\u001B[0m): \u001B[32m0.43\u001B[0m\n",
      "  distance (\u001B[36m7\u001B[0m, \u001B[36m153\u001B[0m, \u001B[36m6\u001B[0m): \u001B[32m0.081\u001B[0m\n",
      "  flight (\u001B[36m2259\u001B[0m, \u001B[36m135\u001B[0m, \u001B[36m496\u001B[0m): \u001B[32m0.88\u001B[0m\n",
      "  flight+airfare (\u001B[36m9\u001B[0m, \u001B[36m122\u001B[0m, \u001B[36m5\u001B[0m): \u001B[32m0.12\u001B[0m\n",
      "  flight_no (\u001B[36m0\u001B[0m, \u001B[36m31\u001B[0m, \u001B[36m9\u001B[0m): \u001B[32m0.0\u001B[0m\n",
      "  flight_time (\u001B[36m17\u001B[0m, \u001B[36m15\u001B[0m, \u001B[36m27\u001B[0m): \u001B[32m0.45\u001B[0m\n",
      "  ground_fare (\u001B[36m1\u001B[0m, \u001B[36m118\u001B[0m, \u001B[36m13\u001B[0m): \u001B[32m0.015\u001B[0m\n",
      "  ground_service (\u001B[36m8\u001B[0m, \u001B[36m0\u001B[0m, \u001B[36m177\u001B[0m): \u001B[32m0.083\u001B[0m\n",
      "  meal (\u001B[36m2\u001B[0m, \u001B[36m45\u001B[0m, \u001B[36m0\u001B[0m): \u001B[32m0.082\u001B[0m\n",
      "  quantity (\u001B[36m0\u001B[0m, \u001B[36m46\u001B[0m, \u001B[36m37\u001B[0m): \u001B[32m0.0\u001B[0m\n",
      "  restriction (\u001B[36m4\u001B[0m, \u001B[36m73\u001B[0m, \u001B[36m0\u001B[0m): \u001B[32m0.099\u001B[0m\n",
      "13.079231977462769 seconds elapsed\n",
      "  abbreviation (\u001B[36m86\u001B[0m, \u001B[36m87\u001B[0m, \u001B[36m7\u001B[0m): \u001B[32m0.65\u001B[0m\n",
      "  aircraft (\u001B[36m10\u001B[0m, \u001B[36m914\u001B[0m, \u001B[36m48\u001B[0m): \u001B[32m0.02\u001B[0m\n",
      "  airfare (\u001B[36m229\u001B[0m, \u001B[36m1340\u001B[0m, \u001B[36m90\u001B[0m): \u001B[32m0.24\u001B[0m\n",
      "  airfare+flight_time (\u001B[36m0\u001B[0m, \u001B[36m7\u001B[0m, \u001B[36m1\u001B[0m): \u001B[32m0.0\u001B[0m\n",
      "  airline (\u001B[36m0\u001B[0m, \u001B[36m65\u001B[0m, \u001B[36m118\u001B[0m): \u001B[32m0.0\u001B[0m\n",
      "  airline+flight_no (\u001B[36m0\u001B[0m, \u001B[36m16\u001B[0m, \u001B[36m1\u001B[0m): \u001B[32m0.0\u001B[0m\n",
      "  airport (\u001B[36m7\u001B[0m, \u001B[36m25\u001B[0m, \u001B[36m6\u001B[0m): \u001B[32m0.31\u001B[0m\n",
      "  capacity (\u001B[36m2\u001B[0m, \u001B[36m2\u001B[0m, \u001B[36m9\u001B[0m): \u001B[32m0.27\u001B[0m\n",
      "  cheapest (\u001B[36m0\u001B[0m, \u001B[36m3\u001B[0m, \u001B[36m1\u001B[0m): \u001B[32m0.0\u001B[0m\n",
      "  city (\u001B[36m1\u001B[0m, \u001B[36m2\u001B[0m, \u001B[36m14\u001B[0m): \u001B[32m0.11\u001B[0m\n",
      "  distance (\u001B[36m9\u001B[0m, \u001B[36m549\u001B[0m, \u001B[36m4\u001B[0m): \u001B[32m0.032\u001B[0m\n",
      "  flight (\u001B[36m81\u001B[0m, \u001B[36m17\u001B[0m, \u001B[36m2674\u001B[0m): \u001B[32m0.057\u001B[0m\n",
      "  flight+airfare (\u001B[36m5\u001B[0m, \u001B[36m118\u001B[0m, \u001B[36m9\u001B[0m): \u001B[32m0.073\u001B[0m\n",
      "  flight_no (\u001B[36m0\u001B[0m, \u001B[36m0\u001B[0m, \u001B[36m9\u001B[0m): \u001B[32m0.0\u001B[0m\n",
      "  flight_time (\u001B[36m0\u001B[0m, \u001B[36m1\u001B[0m, \u001B[36m44\u001B[0m): \u001B[32m0.0\u001B[0m\n",
      "  ground_fare (\u001B[36m0\u001B[0m, \u001B[36m1\u001B[0m, \u001B[36m14\u001B[0m): \u001B[32m0.0\u001B[0m\n",
      "  ground_service (\u001B[36m49\u001B[0m, \u001B[36m0\u001B[0m, \u001B[36m136\u001B[0m): \u001B[32m0.42\u001B[0m\n",
      "  meal (\u001B[36m0\u001B[0m, \u001B[36m0\u001B[0m, \u001B[36m2\u001B[0m): \u001B[32m0.0\u001B[0m\n",
      "  quantity (\u001B[36m36\u001B[0m, \u001B[36m22\u001B[0m, \u001B[36m1\u001B[0m): \u001B[32m0.76\u001B[0m\n",
      "  restriction (\u001B[36m0\u001B[0m, \u001B[36m23\u001B[0m, \u001B[36m4\u001B[0m): \u001B[32m0.0\u001B[0m\n",
      "52.47362232208252 seconds elapsed\n",
      "  abbreviation (\u001B[36m77\u001B[0m, \u001B[36m91\u001B[0m, \u001B[36m16\u001B[0m): \u001B[32m0.59\u001B[0m\n",
      "  aircraft (\u001B[36m51\u001B[0m, \u001B[36m24\u001B[0m, \u001B[36m7\u001B[0m): \u001B[32m0.77\u001B[0m\n",
      "  airfare (\u001B[36m167\u001B[0m, \u001B[36m664\u001B[0m, \u001B[36m152\u001B[0m): \u001B[32m0.29\u001B[0m\n",
      "  airfare+flight_time (\u001B[36m0\u001B[0m, \u001B[36m3\u001B[0m, \u001B[36m1\u001B[0m): \u001B[32m0.0\u001B[0m\n",
      "  airline (\u001B[36m48\u001B[0m, \u001B[36m156\u001B[0m, \u001B[36m70\u001B[0m): \u001B[32m0.3\u001B[0m\n",
      "  airline+flight_no (\u001B[36m0\u001B[0m, \u001B[36m1\u001B[0m, \u001B[36m1\u001B[0m): \u001B[32m0.0\u001B[0m\n",
      "  airport (\u001B[36m11\u001B[0m, \u001B[36m98\u001B[0m, \u001B[36m2\u001B[0m): \u001B[32m0.18\u001B[0m\n",
      "  capacity (\u001B[36m7\u001B[0m, \u001B[36m2\u001B[0m, \u001B[36m4\u001B[0m): \u001B[32m0.7\u001B[0m\n",
      "  cheapest (\u001B[36m0\u001B[0m, \u001B[36m10\u001B[0m, \u001B[36m1\u001B[0m): \u001B[32m0.0\u001B[0m\n",
      "  city (\u001B[36m2\u001B[0m, \u001B[36m89\u001B[0m, \u001B[36m13\u001B[0m): \u001B[32m0.038\u001B[0m\n",
      "  distance (\u001B[36m11\u001B[0m, \u001B[36m136\u001B[0m, \u001B[36m2\u001B[0m): \u001B[32m0.14\u001B[0m\n",
      "  flight (\u001B[36m1680\u001B[0m, \u001B[36m102\u001B[0m, \u001B[36m1075\u001B[0m): \u001B[32m0.74\u001B[0m\n",
      "  flight+airfare (\u001B[36m7\u001B[0m, \u001B[36m206\u001B[0m, \u001B[36m7\u001B[0m): \u001B[32m0.062\u001B[0m\n",
      "  flight_no (\u001B[36m0\u001B[0m, \u001B[36m1\u001B[0m, \u001B[36m9\u001B[0m): \u001B[32m0.0\u001B[0m\n",
      "  flight_time (\u001B[36m0\u001B[0m, \u001B[36m1\u001B[0m, \u001B[36m44\u001B[0m): \u001B[32m0.0\u001B[0m\n",
      "  ground_fare (\u001B[36m0\u001B[0m, \u001B[36m1\u001B[0m, \u001B[36m14\u001B[0m): \u001B[32m0.0\u001B[0m\n",
      "  ground_service (\u001B[36m29\u001B[0m, \u001B[36m0\u001B[0m, \u001B[36m156\u001B[0m): \u001B[32m0.27\u001B[0m\n",
      "  meal (\u001B[36m1\u001B[0m, \u001B[36m7\u001B[0m, \u001B[36m1\u001B[0m): \u001B[32m0.2\u001B[0m\n",
      "  quantity (\u001B[36m2\u001B[0m, \u001B[36m2\u001B[0m, \u001B[36m35\u001B[0m): \u001B[32m0.098\u001B[0m\n",
      "  restriction (\u001B[36m1\u001B[0m, \u001B[36m19\u001B[0m, \u001B[36m3\u001B[0m): \u001B[32m0.083\u001B[0m\n",
      "138.5313663482666 seconds elapsed\n"
     ]
    }
   ],
   "source": [
    "from time import time\n",
    "for model in my_models:\n",
    "    start_time = time()\n",
    "    print(format_f1_scores(f1_scores(confusion_batch(model, SCORE_DATA[\"train\"]))))\n",
    "    print(time() - start_time, \"seconds elapsed\")"
   ],
   "metadata": {
    "collapsed": false,
    "ExecuteTime": {
     "end_time": "2024-01-31T17:29:07.673572900Z",
     "start_time": "2024-01-31T17:25:43.575056Z"
    }
   },
   "id": "732fb41bfcd87044",
   "execution_count": 28
  },
  {
   "cell_type": "code",
   "outputs": [
    {
     "name": "stdout",
     "output_type": "stream",
     "text": [
      "  abbreviation (\u001B[36m56\u001B[0m, \u001B[36m115\u001B[0m, \u001B[36m37\u001B[0m): \u001B[32m0.42\u001B[0m\n",
      "  aircraft (\u001B[36m30\u001B[0m, \u001B[36m7\u001B[0m, \u001B[36m28\u001B[0m): \u001B[32m0.63\u001B[0m\n",
      "  airfare (\u001B[36m14\u001B[0m, \u001B[36m3\u001B[0m, \u001B[36m305\u001B[0m): \u001B[32m0.083\u001B[0m\n",
      "  airfare+flight_time (\u001B[36m0\u001B[0m, \u001B[36m0\u001B[0m, \u001B[36m1\u001B[0m): \u001B[32m0.0\u001B[0m\n",
      "  airline (\u001B[36m70\u001B[0m, \u001B[36m59\u001B[0m, \u001B[36m48\u001B[0m): \u001B[32m0.57\u001B[0m\n",
      "  airline+flight_no (\u001B[36m0\u001B[0m, \u001B[36m1\u001B[0m, \u001B[36m1\u001B[0m): \u001B[32m0.0\u001B[0m\n",
      "  airport (\u001B[36m12\u001B[0m, \u001B[36m65\u001B[0m, \u001B[36m1\u001B[0m): \u001B[32m0.27\u001B[0m\n",
      "  capacity (\u001B[36m6\u001B[0m, \u001B[36m66\u001B[0m, \u001B[36m5\u001B[0m): \u001B[32m0.14\u001B[0m\n",
      "  cheapest (\u001B[36m1\u001B[0m, \u001B[36m149\u001B[0m, \u001B[36m0\u001B[0m): \u001B[32m0.013\u001B[0m\n",
      "  city (\u001B[36m5\u001B[0m, \u001B[36m3\u001B[0m, \u001B[36m10\u001B[0m): \u001B[32m0.43\u001B[0m\n",
      "  distance (\u001B[36m7\u001B[0m, \u001B[36m153\u001B[0m, \u001B[36m6\u001B[0m): \u001B[32m0.081\u001B[0m\n",
      "  flight (\u001B[36m2259\u001B[0m, \u001B[36m135\u001B[0m, \u001B[36m496\u001B[0m): \u001B[32m0.88\u001B[0m\n",
      "  flight+airfare (\u001B[36m9\u001B[0m, \u001B[36m122\u001B[0m, \u001B[36m5\u001B[0m): \u001B[32m0.12\u001B[0m\n",
      "  flight_no (\u001B[36m0\u001B[0m, \u001B[36m31\u001B[0m, \u001B[36m9\u001B[0m): \u001B[32m0.0\u001B[0m\n",
      "  flight_time (\u001B[36m17\u001B[0m, \u001B[36m15\u001B[0m, \u001B[36m27\u001B[0m): \u001B[32m0.45\u001B[0m\n",
      "  ground_fare (\u001B[36m1\u001B[0m, \u001B[36m118\u001B[0m, \u001B[36m13\u001B[0m): \u001B[32m0.015\u001B[0m\n",
      "  ground_service (\u001B[36m8\u001B[0m, \u001B[36m0\u001B[0m, \u001B[36m177\u001B[0m): \u001B[32m0.083\u001B[0m\n",
      "  meal (\u001B[36m2\u001B[0m, \u001B[36m45\u001B[0m, \u001B[36m0\u001B[0m): \u001B[32m0.082\u001B[0m\n",
      "  quantity (\u001B[36m0\u001B[0m, \u001B[36m46\u001B[0m, \u001B[36m37\u001B[0m): \u001B[32m0.0\u001B[0m\n",
      "  restriction (\u001B[36m4\u001B[0m, \u001B[36m73\u001B[0m, \u001B[36m0\u001B[0m): \u001B[32m0.099\u001B[0m\n",
      "21.843695878982544 seconds elapsed\n",
      "  abbreviation (\u001B[36m56\u001B[0m, \u001B[36m115\u001B[0m, \u001B[36m37\u001B[0m): \u001B[32m0.42\u001B[0m\n",
      "  aircraft (\u001B[36m30\u001B[0m, \u001B[36m7\u001B[0m, \u001B[36m28\u001B[0m): \u001B[32m0.63\u001B[0m\n",
      "  airfare (\u001B[36m14\u001B[0m, \u001B[36m3\u001B[0m, \u001B[36m305\u001B[0m): \u001B[32m0.083\u001B[0m\n",
      "  airfare+flight_time (\u001B[36m0\u001B[0m, \u001B[36m0\u001B[0m, \u001B[36m1\u001B[0m): \u001B[32m0.0\u001B[0m\n",
      "  airline (\u001B[36m70\u001B[0m, \u001B[36m59\u001B[0m, \u001B[36m48\u001B[0m): \u001B[32m0.57\u001B[0m\n",
      "  airline+flight_no (\u001B[36m0\u001B[0m, \u001B[36m1\u001B[0m, \u001B[36m1\u001B[0m): \u001B[32m0.0\u001B[0m\n",
      "  airport (\u001B[36m12\u001B[0m, \u001B[36m65\u001B[0m, \u001B[36m1\u001B[0m): \u001B[32m0.27\u001B[0m\n",
      "  capacity (\u001B[36m6\u001B[0m, \u001B[36m66\u001B[0m, \u001B[36m5\u001B[0m): \u001B[32m0.14\u001B[0m\n",
      "  cheapest (\u001B[36m1\u001B[0m, \u001B[36m149\u001B[0m, \u001B[36m0\u001B[0m): \u001B[32m0.013\u001B[0m\n",
      "  city (\u001B[36m5\u001B[0m, \u001B[36m3\u001B[0m, \u001B[36m10\u001B[0m): \u001B[32m0.43\u001B[0m\n",
      "  distance (\u001B[36m7\u001B[0m, \u001B[36m153\u001B[0m, \u001B[36m6\u001B[0m): \u001B[32m0.081\u001B[0m\n",
      "  flight (\u001B[36m2259\u001B[0m, \u001B[36m135\u001B[0m, \u001B[36m496\u001B[0m): \u001B[32m0.88\u001B[0m\n",
      "  flight+airfare (\u001B[36m9\u001B[0m, \u001B[36m122\u001B[0m, \u001B[36m5\u001B[0m): \u001B[32m0.12\u001B[0m\n",
      "  flight_no (\u001B[36m0\u001B[0m, \u001B[36m31\u001B[0m, \u001B[36m9\u001B[0m): \u001B[32m0.0\u001B[0m\n",
      "  flight_time (\u001B[36m17\u001B[0m, \u001B[36m15\u001B[0m, \u001B[36m27\u001B[0m): \u001B[32m0.45\u001B[0m\n",
      "  ground_fare (\u001B[36m1\u001B[0m, \u001B[36m118\u001B[0m, \u001B[36m13\u001B[0m): \u001B[32m0.015\u001B[0m\n",
      "  ground_service (\u001B[36m8\u001B[0m, \u001B[36m0\u001B[0m, \u001B[36m177\u001B[0m): \u001B[32m0.083\u001B[0m\n",
      "  meal (\u001B[36m2\u001B[0m, \u001B[36m45\u001B[0m, \u001B[36m0\u001B[0m): \u001B[32m0.082\u001B[0m\n",
      "  quantity (\u001B[36m0\u001B[0m, \u001B[36m46\u001B[0m, \u001B[36m37\u001B[0m): \u001B[32m0.0\u001B[0m\n",
      "  restriction (\u001B[36m4\u001B[0m, \u001B[36m73\u001B[0m, \u001B[36m0\u001B[0m): \u001B[32m0.099\u001B[0m\n",
      "14.1633460521698 seconds elapsed\n",
      "  abbreviation (\u001B[36m56\u001B[0m, \u001B[36m115\u001B[0m, \u001B[36m37\u001B[0m): \u001B[32m0.42\u001B[0m\n",
      "  aircraft (\u001B[36m30\u001B[0m, \u001B[36m7\u001B[0m, \u001B[36m28\u001B[0m): \u001B[32m0.63\u001B[0m\n",
      "  airfare (\u001B[36m14\u001B[0m, \u001B[36m3\u001B[0m, \u001B[36m305\u001B[0m): \u001B[32m0.083\u001B[0m\n",
      "  airfare+flight_time (\u001B[36m0\u001B[0m, \u001B[36m0\u001B[0m, \u001B[36m1\u001B[0m): \u001B[32m0.0\u001B[0m\n",
      "  airline (\u001B[36m70\u001B[0m, \u001B[36m59\u001B[0m, \u001B[36m48\u001B[0m): \u001B[32m0.57\u001B[0m\n",
      "  airline+flight_no (\u001B[36m0\u001B[0m, \u001B[36m1\u001B[0m, \u001B[36m1\u001B[0m): \u001B[32m0.0\u001B[0m\n",
      "  airport (\u001B[36m12\u001B[0m, \u001B[36m65\u001B[0m, \u001B[36m1\u001B[0m): \u001B[32m0.27\u001B[0m\n",
      "  capacity (\u001B[36m6\u001B[0m, \u001B[36m66\u001B[0m, \u001B[36m5\u001B[0m): \u001B[32m0.14\u001B[0m\n",
      "  cheapest (\u001B[36m1\u001B[0m, \u001B[36m149\u001B[0m, \u001B[36m0\u001B[0m): \u001B[32m0.013\u001B[0m\n",
      "  city (\u001B[36m5\u001B[0m, \u001B[36m3\u001B[0m, \u001B[36m10\u001B[0m): \u001B[32m0.43\u001B[0m\n",
      "  distance (\u001B[36m7\u001B[0m, \u001B[36m153\u001B[0m, \u001B[36m6\u001B[0m): \u001B[32m0.081\u001B[0m\n",
      "  flight (\u001B[36m2259\u001B[0m, \u001B[36m135\u001B[0m, \u001B[36m496\u001B[0m): \u001B[32m0.88\u001B[0m\n",
      "  flight+airfare (\u001B[36m9\u001B[0m, \u001B[36m122\u001B[0m, \u001B[36m5\u001B[0m): \u001B[32m0.12\u001B[0m\n",
      "  flight_no (\u001B[36m0\u001B[0m, \u001B[36m31\u001B[0m, \u001B[36m9\u001B[0m): \u001B[32m0.0\u001B[0m\n",
      "  flight_time (\u001B[36m17\u001B[0m, \u001B[36m15\u001B[0m, \u001B[36m27\u001B[0m): \u001B[32m0.45\u001B[0m\n",
      "  ground_fare (\u001B[36m1\u001B[0m, \u001B[36m118\u001B[0m, \u001B[36m13\u001B[0m): \u001B[32m0.015\u001B[0m\n",
      "  ground_service (\u001B[36m8\u001B[0m, \u001B[36m0\u001B[0m, \u001B[36m177\u001B[0m): \u001B[32m0.083\u001B[0m\n",
      "  meal (\u001B[36m2\u001B[0m, \u001B[36m45\u001B[0m, \u001B[36m0\u001B[0m): \u001B[32m0.082\u001B[0m\n",
      "  quantity (\u001B[36m0\u001B[0m, \u001B[36m46\u001B[0m, \u001B[36m37\u001B[0m): \u001B[32m0.0\u001B[0m\n",
      "  restriction (\u001B[36m4\u001B[0m, \u001B[36m73\u001B[0m, \u001B[36m0\u001B[0m): \u001B[32m0.099\u001B[0m\n",
      "15.642491102218628 seconds elapsed\n",
      "  abbreviation (\u001B[36m56\u001B[0m, \u001B[36m115\u001B[0m, \u001B[36m37\u001B[0m): \u001B[32m0.42\u001B[0m\n",
      "  aircraft (\u001B[36m30\u001B[0m, \u001B[36m7\u001B[0m, \u001B[36m28\u001B[0m): \u001B[32m0.63\u001B[0m\n",
      "  airfare (\u001B[36m14\u001B[0m, \u001B[36m3\u001B[0m, \u001B[36m305\u001B[0m): \u001B[32m0.083\u001B[0m\n",
      "  airfare+flight_time (\u001B[36m0\u001B[0m, \u001B[36m0\u001B[0m, \u001B[36m1\u001B[0m): \u001B[32m0.0\u001B[0m\n",
      "  airline (\u001B[36m70\u001B[0m, \u001B[36m59\u001B[0m, \u001B[36m48\u001B[0m): \u001B[32m0.57\u001B[0m\n",
      "  airline+flight_no (\u001B[36m0\u001B[0m, \u001B[36m1\u001B[0m, \u001B[36m1\u001B[0m): \u001B[32m0.0\u001B[0m\n",
      "  airport (\u001B[36m12\u001B[0m, \u001B[36m65\u001B[0m, \u001B[36m1\u001B[0m): \u001B[32m0.27\u001B[0m\n",
      "  capacity (\u001B[36m6\u001B[0m, \u001B[36m66\u001B[0m, \u001B[36m5\u001B[0m): \u001B[32m0.14\u001B[0m\n",
      "  cheapest (\u001B[36m1\u001B[0m, \u001B[36m149\u001B[0m, \u001B[36m0\u001B[0m): \u001B[32m0.013\u001B[0m\n",
      "  city (\u001B[36m5\u001B[0m, \u001B[36m3\u001B[0m, \u001B[36m10\u001B[0m): \u001B[32m0.43\u001B[0m\n",
      "  distance (\u001B[36m7\u001B[0m, \u001B[36m153\u001B[0m, \u001B[36m6\u001B[0m): \u001B[32m0.081\u001B[0m\n",
      "  flight (\u001B[36m2259\u001B[0m, \u001B[36m135\u001B[0m, \u001B[36m496\u001B[0m): \u001B[32m0.88\u001B[0m\n",
      "  flight+airfare (\u001B[36m9\u001B[0m, \u001B[36m122\u001B[0m, \u001B[36m5\u001B[0m): \u001B[32m0.12\u001B[0m\n",
      "  flight_no (\u001B[36m0\u001B[0m, \u001B[36m31\u001B[0m, \u001B[36m9\u001B[0m): \u001B[32m0.0\u001B[0m\n",
      "  flight_time (\u001B[36m17\u001B[0m, \u001B[36m15\u001B[0m, \u001B[36m27\u001B[0m): \u001B[32m0.45\u001B[0m\n",
      "  ground_fare (\u001B[36m1\u001B[0m, \u001B[36m118\u001B[0m, \u001B[36m13\u001B[0m): \u001B[32m0.015\u001B[0m\n",
      "  ground_service (\u001B[36m8\u001B[0m, \u001B[36m0\u001B[0m, \u001B[36m177\u001B[0m): \u001B[32m0.083\u001B[0m\n",
      "  meal (\u001B[36m2\u001B[0m, \u001B[36m45\u001B[0m, \u001B[36m0\u001B[0m): \u001B[32m0.082\u001B[0m\n",
      "  quantity (\u001B[36m0\u001B[0m, \u001B[36m46\u001B[0m, \u001B[36m37\u001B[0m): \u001B[32m0.0\u001B[0m\n",
      "  restriction (\u001B[36m4\u001B[0m, \u001B[36m73\u001B[0m, \u001B[36m0\u001B[0m): \u001B[32m0.099\u001B[0m\n",
      "13.626065015792847 seconds elapsed\n"
     ]
    }
   ],
   "source": [
    "from time import time\n",
    "for BATCH_SIZE in [16, 64, 256, 1024]:\n",
    "    start_time = time()\n",
    "    print(format_f1_scores(f1_scores(confusion_batch(my_models[0], SCORE_DATA[\"train\"]))))\n",
    "    print(time() - start_time, \"seconds elapsed\")"
   ],
   "metadata": {
    "collapsed": false,
    "ExecuteTime": {
     "end_time": "2024-01-31T17:34:49.701196Z",
     "start_time": "2024-01-31T17:33:44.383397200Z"
    }
   },
   "id": "1a6360b71104a5f3",
   "execution_count": 29
  },
  {
   "cell_type": "code",
   "outputs": [
    {
     "ename": "TypeError",
     "evalue": "reload() argument must be a module",
     "output_type": "error",
     "traceback": [
      "\u001B[0;31m---------------------------------------------------------------------------\u001B[0m",
      "\u001B[0;31mAttributeError\u001B[0m                            Traceback (most recent call last)",
      "File \u001B[0;32m~/.pyenv/versions/3.12.1/lib/python3.12/importlib/__init__.py:103\u001B[0m, in \u001B[0;36mreload\u001B[0;34m(module)\u001B[0m\n\u001B[1;32m    102\u001B[0m \u001B[38;5;28;01mtry\u001B[39;00m:\n\u001B[0;32m--> 103\u001B[0m     name \u001B[38;5;241m=\u001B[39m \u001B[43mmodule\u001B[49m\u001B[38;5;241;43m.\u001B[39;49m\u001B[43m__spec__\u001B[49m\u001B[38;5;241m.\u001B[39mname\n\u001B[1;32m    104\u001B[0m \u001B[38;5;28;01mexcept\u001B[39;00m \u001B[38;5;167;01mAttributeError\u001B[39;00m:\n",
      "\u001B[0;31mAttributeError\u001B[0m: 'str' object has no attribute '__spec__'",
      "\nDuring handling of the above exception, another exception occurred:\n",
      "\u001B[0;31mAttributeError\u001B[0m                            Traceback (most recent call last)",
      "File \u001B[0;32m~/.pyenv/versions/3.12.1/lib/python3.12/importlib/__init__.py:106\u001B[0m, in \u001B[0;36mreload\u001B[0;34m(module)\u001B[0m\n\u001B[1;32m    105\u001B[0m \u001B[38;5;28;01mtry\u001B[39;00m:\n\u001B[0;32m--> 106\u001B[0m     name \u001B[38;5;241m=\u001B[39m \u001B[43mmodule\u001B[49m\u001B[38;5;241;43m.\u001B[39;49m\u001B[38;5;18;43m__name__\u001B[39;49m\n\u001B[1;32m    107\u001B[0m \u001B[38;5;28;01mexcept\u001B[39;00m \u001B[38;5;167;01mAttributeError\u001B[39;00m:\n",
      "\u001B[0;31mAttributeError\u001B[0m: 'str' object has no attribute '__name__'",
      "\nDuring handling of the above exception, another exception occurred:\n",
      "\u001B[0;31mTypeError\u001B[0m                                 Traceback (most recent call last)",
      "Cell \u001B[0;32mIn[30], line 2\u001B[0m\n\u001B[1;32m      1\u001B[0m \u001B[38;5;28;01mfrom\u001B[39;00m \u001B[38;5;21;01mimportlib\u001B[39;00m \u001B[38;5;28;01mimport\u001B[39;00m reload\n\u001B[0;32m----> 2\u001B[0m \u001B[43mreload\u001B[49m\u001B[43m(\u001B[49m\u001B[38;5;124;43m\"\u001B[39;49m\u001B[38;5;124;43mbenchmarks\u001B[39;49m\u001B[38;5;124;43m\"\u001B[39;49m\u001B[43m)\u001B[49m\n",
      "File \u001B[0;32m~/.pyenv/versions/3.12.1/lib/python3.12/importlib/__init__.py:108\u001B[0m, in \u001B[0;36mreload\u001B[0;34m(module)\u001B[0m\n\u001B[1;32m    106\u001B[0m         name \u001B[38;5;241m=\u001B[39m module\u001B[38;5;241m.\u001B[39m\u001B[38;5;18m__name__\u001B[39m\n\u001B[1;32m    107\u001B[0m     \u001B[38;5;28;01mexcept\u001B[39;00m \u001B[38;5;167;01mAttributeError\u001B[39;00m:\n\u001B[0;32m--> 108\u001B[0m         \u001B[38;5;28;01mraise\u001B[39;00m \u001B[38;5;167;01mTypeError\u001B[39;00m(\u001B[38;5;124m\"\u001B[39m\u001B[38;5;124mreload() argument must be a module\u001B[39m\u001B[38;5;124m\"\u001B[39m)\n\u001B[1;32m    110\u001B[0m \u001B[38;5;28;01mif\u001B[39;00m sys\u001B[38;5;241m.\u001B[39mmodules\u001B[38;5;241m.\u001B[39mget(name) \u001B[38;5;129;01mis\u001B[39;00m \u001B[38;5;129;01mnot\u001B[39;00m module:\n\u001B[1;32m    111\u001B[0m     \u001B[38;5;28;01mraise\u001B[39;00m \u001B[38;5;167;01mImportError\u001B[39;00m(\u001B[38;5;124mf\u001B[39m\u001B[38;5;124m\"\u001B[39m\u001B[38;5;124mmodule \u001B[39m\u001B[38;5;132;01m{\u001B[39;00mname\u001B[38;5;132;01m}\u001B[39;00m\u001B[38;5;124m not in sys.modules\u001B[39m\u001B[38;5;124m\"\u001B[39m, name\u001B[38;5;241m=\u001B[39mname)\n",
      "\u001B[0;31mTypeError\u001B[0m: reload() argument must be a module"
     ]
    }
   ],
   "source": [
    "from importlib import reload\n",
    "reload(\"benchmarks\")"
   ],
   "metadata": {
    "collapsed": false,
    "ExecuteTime": {
     "end_time": "2024-01-31T17:56:56.349984200Z",
     "start_time": "2024-01-31T17:56:55.578930700Z"
    }
   },
   "id": "90144a2beaa6c140",
   "execution_count": 30
  },
  {
   "cell_type": "code",
   "outputs": [
    {
     "data": {
      "text/plain": "<module 'benchmark' from '/home/we/Code/intent-classifier/docs/../client/benchmark.py'>"
     },
     "execution_count": 43,
     "metadata": {},
     "output_type": "execute_result"
    }
   ],
   "source": [
    "import benchmark\n",
    "reload(benchmark)"
   ],
   "metadata": {
    "collapsed": false,
    "ExecuteTime": {
     "end_time": "2024-01-31T18:01:57.051858700Z",
     "start_time": "2024-01-31T18:01:57.042079200Z"
    }
   },
   "id": "e883477fa31a4c54",
   "execution_count": 43
  },
  {
   "cell_type": "code",
   "outputs": [],
   "source": [
    "format_f1_scores = benchmark.format_f1_scores\n",
    "f1_scores = benchmark.f1_scores"
   ],
   "metadata": {
    "collapsed": false,
    "ExecuteTime": {
     "end_time": "2024-01-31T18:01:57.216640700Z",
     "start_time": "2024-01-31T18:01:57.203891600Z"
    }
   },
   "id": "16083d8317da92de",
   "execution_count": 44
  },
  {
   "cell_type": "code",
   "outputs": [
    {
     "name": "stderr",
     "output_type": "stream",
     "text": [
      "/home/we/.virtualenvs/intent-classifier/lib/python3.12/site-packages/transformers/pipelines/base.py:1123: UserWarning: You seem to be using the pipelines sequentially on GPU. In order to maximize efficiency please use a dataset\n",
      "  warnings.warn(\n"
     ]
    },
    {
     "name": "stdout",
     "output_type": "stream",
     "text": [
      "  abbreviation (\u001B[36m8\u001B[0m, \u001B[36m24\u001B[0m, \u001B[36m7\u001B[0m): \u001B[32m0.34\u001B[0m\n",
      "  aircraft (\u001B[36m12\u001B[0m, \u001B[36m2\u001B[0m, \u001B[36m8\u001B[0m): \u001B[32m0.71\u001B[0m\n",
      "  aircraft+flight+flight_no (\u001B[36m0\u001B[0m, \u001B[36m0\u001B[0m, \u001B[36m1\u001B[0m): \u001B[32m0.0\u001B[0m\n",
      "  airfare (\u001B[36m6\u001B[0m, \u001B[36m0\u001B[0m, \u001B[36m78\u001B[0m): \u001B[32m0.13\u001B[0m\n",
      "  airline (\u001B[36m18\u001B[0m, \u001B[36m15\u001B[0m, \u001B[36m12\u001B[0m): \u001B[32m0.57\u001B[0m\n",
      "  airline+flight_no (\u001B[36m0\u001B[0m, \u001B[36m0\u001B[0m, \u001B[36m1\u001B[0m): \u001B[32m0.0\u001B[0m\n",
      "  airport (\u001B[36m5\u001B[0m, \u001B[36m21\u001B[0m, \u001B[36m0\u001B[0m): \u001B[32m0.32\u001B[0m\n",
      "  capacity (\u001B[36m3\u001B[0m, \u001B[36m15\u001B[0m, \u001B[36m2\u001B[0m): \u001B[32m0.26\u001B[0m\n",
      "  cheapest (\u001B[36m0\u001B[0m, \u001B[36m45\u001B[0m, \u001B[36m0\u001B[0m): \u001B[32m0.0\u001B[0m\n",
      "  city (\u001B[36m2\u001B[0m, \u001B[36m3\u001B[0m, \u001B[36m1\u001B[0m): \u001B[32m0.5\u001B[0m\n",
      "  distance (\u001B[36m1\u001B[0m, \u001B[36m50\u001B[0m, \u001B[36m6\u001B[0m): \u001B[32m0.034\u001B[0m\n",
      "  flight (\u001B[36m548\u001B[0m, \u001B[36m38\u001B[0m, \u001B[36m123\u001B[0m): \u001B[32m0.87\u001B[0m\n",
      "  flight+airfare (\u001B[36m2\u001B[0m, \u001B[36m31\u001B[0m, \u001B[36m1\u001B[0m): \u001B[32m0.11\u001B[0m\n",
      "  flight_no (\u001B[36m0\u001B[0m, \u001B[36m8\u001B[0m, \u001B[36m3\u001B[0m): \u001B[32m0.0\u001B[0m\n",
      "  flight_time (\u001B[36m2\u001B[0m, \u001B[36m1\u001B[0m, \u001B[36m6\u001B[0m): \u001B[32m0.36\u001B[0m\n",
      "  ground_fare (\u001B[36m0\u001B[0m, \u001B[36m36\u001B[0m, \u001B[36m3\u001B[0m): \u001B[32m0.0\u001B[0m\n",
      "  ground_service (\u001B[36m1\u001B[0m, \u001B[36m0\u001B[0m, \u001B[36m49\u001B[0m): \u001B[32m0.039\u001B[0m\n",
      "  ground_service+ground_fare (\u001B[36m0\u001B[0m, \u001B[36m0\u001B[0m, \u001B[36m1\u001B[0m): \u001B[32m0.0\u001B[0m\n",
      "  meal (\u001B[36m4\u001B[0m, \u001B[36m7\u001B[0m, \u001B[36m0\u001B[0m): \u001B[32m0.53\u001B[0m\n",
      "  quantity (\u001B[36m0\u001B[0m, \u001B[36m9\u001B[0m, \u001B[36m12\u001B[0m): \u001B[32m0.0\u001B[0m\n",
      "  restriction (\u001B[36m1\u001B[0m, \u001B[36m9\u001B[0m, \u001B[36m0\u001B[0m): \u001B[32m0.18\u001B[0m\n",
      "  AVERAGE (\u001B[36m21\u001B[0m): \u001B[32m0.24\u001B[0m\n",
      "  abbreviation (\u001B[36m12\u001B[0m, \u001B[36m20\u001B[0m, \u001B[36m3\u001B[0m): \u001B[32m0.51\u001B[0m\n",
      "  aircraft (\u001B[36m4\u001B[0m, \u001B[36m231\u001B[0m, \u001B[36m16\u001B[0m): \u001B[32m0.031\u001B[0m\n",
      "  aircraft+flight+flight_no (\u001B[36m0\u001B[0m, \u001B[36m0\u001B[0m, \u001B[36m1\u001B[0m): \u001B[32m0.0\u001B[0m\n",
      "  airfare (\u001B[36m63\u001B[0m, \u001B[36m336\u001B[0m, \u001B[36m21\u001B[0m): \u001B[32m0.26\u001B[0m\n",
      "  airfare+flight_time (\u001B[36m0\u001B[0m, \u001B[36m2\u001B[0m, \u001B[36m0\u001B[0m): \u001B[32m0.0\u001B[0m\n",
      "  airline (\u001B[36m0\u001B[0m, \u001B[36m12\u001B[0m, \u001B[36m30\u001B[0m): \u001B[32m0.0\u001B[0m\n",
      "  airline+flight_no (\u001B[36m0\u001B[0m, \u001B[36m4\u001B[0m, \u001B[36m1\u001B[0m): \u001B[32m0.0\u001B[0m\n",
      "  airport (\u001B[36m2\u001B[0m, \u001B[36m9\u001B[0m, \u001B[36m3\u001B[0m): \u001B[32m0.25\u001B[0m\n",
      "  capacity (\u001B[36m0\u001B[0m, \u001B[36m0\u001B[0m, \u001B[36m5\u001B[0m): \u001B[32m0.0\u001B[0m\n",
      "  city (\u001B[36m0\u001B[0m, \u001B[36m2\u001B[0m, \u001B[36m3\u001B[0m): \u001B[32m0.0\u001B[0m\n",
      "  distance (\u001B[36m6\u001B[0m, \u001B[36m135\u001B[0m, \u001B[36m1\u001B[0m): \u001B[32m0.081\u001B[0m\n",
      "  flight (\u001B[36m27\u001B[0m, \u001B[36m1\u001B[0m, \u001B[36m644\u001B[0m): \u001B[32m0.077\u001B[0m\n",
      "  flight+airfare (\u001B[36m1\u001B[0m, \u001B[36m28\u001B[0m, \u001B[36m2\u001B[0m): \u001B[32m0.062\u001B[0m\n",
      "  flight_no (\u001B[36m0\u001B[0m, \u001B[36m0\u001B[0m, \u001B[36m3\u001B[0m): \u001B[32m0.0\u001B[0m\n",
      "  flight_time (\u001B[36m0\u001B[0m, \u001B[36m0\u001B[0m, \u001B[36m8\u001B[0m): \u001B[32m0.0\u001B[0m\n",
      "  ground_fare (\u001B[36m0\u001B[0m, \u001B[36m1\u001B[0m, \u001B[36m3\u001B[0m): \u001B[32m0.0\u001B[0m\n",
      "  ground_service (\u001B[36m10\u001B[0m, \u001B[36m0\u001B[0m, \u001B[36m40\u001B[0m): \u001B[32m0.33\u001B[0m\n",
      "  ground_service+ground_fare (\u001B[36m0\u001B[0m, \u001B[36m0\u001B[0m, \u001B[36m1\u001B[0m): \u001B[32m0.0\u001B[0m\n",
      "  meal (\u001B[36m0\u001B[0m, \u001B[36m0\u001B[0m, \u001B[36m4\u001B[0m): \u001B[32m0.0\u001B[0m\n",
      "  quantity (\u001B[36m11\u001B[0m, \u001B[36m4\u001B[0m, \u001B[36m1\u001B[0m): \u001B[32m0.81\u001B[0m\n",
      "  restriction (\u001B[36m0\u001B[0m, \u001B[36m6\u001B[0m, \u001B[36m1\u001B[0m): \u001B[32m0.0\u001B[0m\n",
      "  AVERAGE (\u001B[36m21\u001B[0m): \u001B[32m0.12\u001B[0m\n",
      "  abbreviation (\u001B[36m11\u001B[0m, \u001B[36m12\u001B[0m, \u001B[36m4\u001B[0m): \u001B[32m0.58\u001B[0m\n",
      "  aircraft (\u001B[36m16\u001B[0m, \u001B[36m5\u001B[0m, \u001B[36m4\u001B[0m): \u001B[32m0.78\u001B[0m\n",
      "  aircraft+flight+flight_no (\u001B[36m0\u001B[0m, \u001B[36m0\u001B[0m, \u001B[36m1\u001B[0m): \u001B[32m0.0\u001B[0m\n",
      "  airfare (\u001B[36m40\u001B[0m, \u001B[36m153\u001B[0m, \u001B[36m44\u001B[0m): \u001B[32m0.29\u001B[0m\n",
      "  airfare+flight_time (\u001B[36m0\u001B[0m, \u001B[36m1\u001B[0m, \u001B[36m0\u001B[0m): \u001B[32m0.0\u001B[0m\n",
      "  airline (\u001B[36m13\u001B[0m, \u001B[36m37\u001B[0m, \u001B[36m17\u001B[0m): \u001B[32m0.33\u001B[0m\n",
      "  airline+flight_no (\u001B[36m0\u001B[0m, \u001B[36m3\u001B[0m, \u001B[36m1\u001B[0m): \u001B[32m0.0\u001B[0m\n",
      "  airport (\u001B[36m5\u001B[0m, \u001B[36m22\u001B[0m, \u001B[36m0\u001B[0m): \u001B[32m0.31\u001B[0m\n",
      "  capacity (\u001B[36m3\u001B[0m, \u001B[36m0\u001B[0m, \u001B[36m2\u001B[0m): \u001B[32m0.75\u001B[0m\n",
      "  city (\u001B[36m1\u001B[0m, \u001B[36m27\u001B[0m, \u001B[36m2\u001B[0m): \u001B[32m0.065\u001B[0m\n",
      "  distance (\u001B[36m5\u001B[0m, \u001B[36m44\u001B[0m, \u001B[36m2\u001B[0m): \u001B[32m0.18\u001B[0m\n",
      "  flight (\u001B[36m412\u001B[0m, \u001B[36m29\u001B[0m, \u001B[36m259\u001B[0m): \u001B[32m0.74\u001B[0m\n",
      "  flight+airfare (\u001B[36m3\u001B[0m, \u001B[36m64\u001B[0m, \u001B[36m0\u001B[0m): \u001B[32m0.086\u001B[0m\n",
      "  flight_no (\u001B[36m1\u001B[0m, \u001B[36m1\u001B[0m, \u001B[36m2\u001B[0m): \u001B[32m0.4\u001B[0m\n",
      "  flight_time (\u001B[36m0\u001B[0m, \u001B[36m0\u001B[0m, \u001B[36m8\u001B[0m): \u001B[32m0.0\u001B[0m\n",
      "  ground_fare (\u001B[36m0\u001B[0m, \u001B[36m1\u001B[0m, \u001B[36m3\u001B[0m): \u001B[32m0.0\u001B[0m\n",
      "  ground_service (\u001B[36m8\u001B[0m, \u001B[36m0\u001B[0m, \u001B[36m42\u001B[0m): \u001B[32m0.28\u001B[0m\n",
      "  ground_service+ground_fare (\u001B[36m0\u001B[0m, \u001B[36m0\u001B[0m, \u001B[36m1\u001B[0m): \u001B[32m0.0\u001B[0m\n",
      "  meal (\u001B[36m1\u001B[0m, \u001B[36m1\u001B[0m, \u001B[36m3\u001B[0m): \u001B[32m0.33\u001B[0m\n",
      "  quantity (\u001B[36m1\u001B[0m, \u001B[36m0\u001B[0m, \u001B[36m11\u001B[0m): \u001B[32m0.15\u001B[0m\n",
      "  restriction (\u001B[36m1\u001B[0m, \u001B[36m6\u001B[0m, \u001B[36m0\u001B[0m): \u001B[32m0.25\u001B[0m\n",
      "  AVERAGE (\u001B[36m21\u001B[0m): \u001B[32m0.26\u001B[0m\n"
     ]
    }
   ],
   "source": [
    "for model in my_models:\n",
    "    print(format_f1_scores(f1_scores(confusion_batch(model, SCORE_DATA[\"val\"]))))\n"
   ],
   "metadata": {
    "collapsed": false,
    "ExecuteTime": {
     "end_time": "2024-01-31T18:02:53.512532400Z",
     "start_time": "2024-01-31T18:01:57.412424500Z"
    }
   },
   "id": "4b7b9cf0681e6ca4",
   "execution_count": 45
  },
  {
   "cell_type": "code",
   "outputs": [],
   "source": [],
   "metadata": {
    "collapsed": false
   },
   "id": "879a705f22bc36e3"
  }
 ],
 "metadata": {
  "kernelspec": {
   "display_name": "Python 3",
   "language": "python",
   "name": "python3"
  },
  "language_info": {
   "codemirror_mode": {
    "name": "ipython",
    "version": 2
   },
   "file_extension": ".py",
   "mimetype": "text/x-python",
   "name": "python",
   "nbconvert_exporter": "python",
   "pygments_lexer": "ipython2",
   "version": "2.7.6"
  }
 },
 "nbformat": 4,
 "nbformat_minor": 5
}
